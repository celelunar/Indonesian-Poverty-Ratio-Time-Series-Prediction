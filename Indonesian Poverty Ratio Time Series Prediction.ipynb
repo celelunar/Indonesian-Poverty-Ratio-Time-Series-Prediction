{
  "cells": [
    {
      "cell_type": "markdown",
      "metadata": {
        "id": "view-in-github",
        "colab_type": "text"
      },
      "source": [
        "<a href=\"https://colab.research.google.com/github/celelunar/Indonesian-Poverty-Ratio-Time-Series-Prediction/blob/main/Indonesian%20Poverty%20Ratio%20Time%20Series%20Prediction.ipynb\" target=\"_parent\"><img src=\"https://colab.research.google.com/assets/colab-badge.svg\" alt=\"Open In Colab\"/></a>"
      ]
    },
    {
      "cell_type": "markdown",
      "metadata": {
        "id": "eRAswnSmOKH-"
      },
      "source": [
        "## **Install Packages and Import Libraries**"
      ]
    },
    {
      "cell_type": "code",
      "execution_count": null,
      "metadata": {
        "id": "zg9Bp1KHk2Vp",
        "colab": {
          "base_uri": "https://localhost:8080/"
        },
        "outputId": "622c0162-7a26-4626-b7dd-efe675c647ea"
      },
      "outputs": [
        {
          "output_type": "stream",
          "name": "stderr",
          "text": [
            "Installing package into ‘/usr/local/lib/R/site-library’\n",
            "(as ‘lib’ is unspecified)\n",
            "\n",
            "also installing the dependencies ‘xts’, ‘TTR’, ‘quadprog’, ‘zoo’, ‘quantmod’\n",
            "\n",
            "\n"
          ]
        }
      ],
      "source": [
        "install.packages('tseries')"
      ]
    },
    {
      "cell_type": "code",
      "execution_count": null,
      "metadata": {
        "id": "i5GV8EjSurvC",
        "colab": {
          "base_uri": "https://localhost:8080/"
        },
        "outputId": "3d88946f-779b-47ec-aa6b-ed31a90fba01"
      },
      "outputs": [
        {
          "output_type": "stream",
          "name": "stderr",
          "text": [
            "Installing package into ‘/usr/local/lib/R/site-library’\n",
            "(as ‘lib’ is unspecified)\n",
            "\n"
          ]
        }
      ],
      "source": [
        "install.packages(\"Metrics\")"
      ]
    },
    {
      "cell_type": "code",
      "execution_count": null,
      "metadata": {
        "id": "j9Gsxo83uzfM",
        "colab": {
          "base_uri": "https://localhost:8080/"
        },
        "outputId": "0a0b8d98-24f0-4aaf-f64a-bc94da294611"
      },
      "outputs": [
        {
          "output_type": "stream",
          "name": "stderr",
          "text": [
            "Installing package into ‘/usr/local/lib/R/site-library’\n",
            "(as ‘lib’ is unspecified)\n",
            "\n",
            "also installing the dependencies ‘fracdiff’, ‘lmtest’, ‘Rcpp’, ‘timeDate’, ‘urca’, ‘RcppArmadillo’\n",
            "\n",
            "\n"
          ]
        }
      ],
      "source": [
        "install.packages(\"forecast\")"
      ]
    },
    {
      "cell_type": "code",
      "execution_count": null,
      "metadata": {
        "colab": {
          "base_uri": "https://localhost:8080/"
        },
        "id": "0GWUAjkh0U9b",
        "outputId": "88e1a6af-fe95-4f77-b9a3-ab66b5cefe72"
      },
      "outputs": [
        {
          "output_type": "stream",
          "name": "stderr",
          "text": [
            "Installing package into ‘/usr/local/lib/R/site-library’\n",
            "(as ‘lib’ is unspecified)\n",
            "\n",
            "also installing the dependencies ‘cowplot’, ‘Deriv’, ‘microbenchmark’, ‘numDeriv’, ‘doBy’, ‘SparseM’, ‘MatrixModels’, ‘minqa’, ‘nloptr’, ‘RcppEigen’, ‘carData’, ‘abind’, ‘pbkrtest’, ‘quantreg’, ‘lme4’\n",
            "\n",
            "\n"
          ]
        }
      ],
      "source": [
        "install.packages(\"car\")"
      ]
    },
    {
      "cell_type": "code",
      "execution_count": null,
      "metadata": {
        "colab": {
          "base_uri": "https://localhost:8080/"
        },
        "id": "h_WEU09j0WlW",
        "outputId": "2fdc2fe2-6e4f-497d-bccb-988195c69b25"
      },
      "outputs": [
        {
          "output_type": "stream",
          "name": "stderr",
          "text": [
            "Installing package into ‘/usr/local/lib/R/site-library’\n",
            "(as ‘lib’ is unspecified)\n",
            "\n"
          ]
        }
      ],
      "source": [
        "install.packages(\"nortest\")"
      ]
    },
    {
      "cell_type": "code",
      "execution_count": null,
      "metadata": {
        "colab": {
          "base_uri": "https://localhost:8080/"
        },
        "id": "cp0eUQzU0ZUf",
        "outputId": "04bfcd9f-14bd-4869-865f-76311ad7a8c7"
      },
      "outputs": [
        {
          "output_type": "stream",
          "name": "stderr",
          "text": [
            "Installing package into ‘/usr/local/lib/R/site-library’\n",
            "(as ‘lib’ is unspecified)\n",
            "\n"
          ]
        }
      ],
      "source": [
        "install.packages(\"lmtest\")"
      ]
    },
    {
      "cell_type": "code",
      "execution_count": null,
      "metadata": {
        "id": "UoWHj-rkVZLR",
        "colab": {
          "base_uri": "https://localhost:8080/"
        },
        "outputId": "ea4281f8-d2da-45de-9466-4378db7b3a1b"
      },
      "outputs": [
        {
          "output_type": "stream",
          "name": "stderr",
          "text": [
            "Installing package into ‘/usr/local/lib/R/site-library’\n",
            "(as ‘lib’ is unspecified)\n",
            "\n",
            "also installing the dependencies ‘leaps’, ‘locfit’\n",
            "\n",
            "\n"
          ]
        }
      ],
      "source": [
        "install.packages(\"TSA\")"
      ]
    },
    {
      "cell_type": "code",
      "source": [
        "install.packages(\"nnfor\")"
      ],
      "metadata": {
        "colab": {
          "base_uri": "https://localhost:8080/"
        },
        "id": "-SK6Ox-MwTcC",
        "outputId": "7fe2f99e-5e9d-42a4-f4ec-3ed78bedce54"
      },
      "execution_count": null,
      "outputs": [
        {
          "output_type": "stream",
          "name": "stderr",
          "text": [
            "Installing package into ‘/usr/local/lib/R/site-library’\n",
            "(as ‘lib’ is unspecified)\n",
            "\n",
            "also installing the dependencies ‘texreg’, ‘greybox’, ‘pracma’, ‘statmod’, ‘xtable’, ‘iterators’, ‘smooth’, ‘foreach’, ‘shape’, ‘MAPA’, ‘glmnet’, ‘neuralnet’, ‘plotrix’, ‘tsutils’, ‘uroot’\n",
            "\n",
            "\n"
          ]
        }
      ]
    },
    {
      "cell_type": "code",
      "execution_count": null,
      "metadata": {
        "colab": {
          "base_uri": "https://localhost:8080/"
        },
        "id": "z6UoDIsLmgKs",
        "outputId": "4f7ba9de-db80-44ec-c8fa-4dc4b78d844b",
        "collapsed": true
      },
      "outputs": [
        {
          "output_type": "stream",
          "name": "stderr",
          "text": [
            "Registered S3 method overwritten by 'quantmod':\n",
            "  method            from\n",
            "  as.zoo.data.frame zoo \n",
            "\n",
            "\n",
            "Attaching package: ‘dplyr’\n",
            "\n",
            "\n",
            "The following objects are masked from ‘package:stats’:\n",
            "\n",
            "    filter, lag\n",
            "\n",
            "\n",
            "The following objects are masked from ‘package:base’:\n",
            "\n",
            "    intersect, setdiff, setequal, union\n",
            "\n",
            "\n",
            "Loading required package: zoo\n",
            "\n",
            "\n",
            "Attaching package: ‘zoo’\n",
            "\n",
            "\n",
            "The following objects are masked from ‘package:base’:\n",
            "\n",
            "    as.Date, as.Date.numeric\n",
            "\n",
            "\n",
            "Loading required package: carData\n",
            "\n",
            "\n",
            "Attaching package: ‘car’\n",
            "\n",
            "\n",
            "The following object is masked from ‘package:dplyr’:\n",
            "\n",
            "    recode\n",
            "\n",
            "\n",
            "Loading required package: generics\n",
            "\n",
            "\n",
            "Attaching package: ‘generics’\n",
            "\n",
            "\n",
            "The following object is masked from ‘package:dplyr’:\n",
            "\n",
            "    explain\n",
            "\n",
            "\n",
            "The following objects are masked from ‘package:base’:\n",
            "\n",
            "    as.difftime, as.factor, as.ordered, intersect, is.element, setdiff,\n",
            "    setequal, union\n",
            "\n",
            "\n",
            "Registered S3 methods overwritten by 'tsutils':\n",
            "  method          from   \n",
            "  print.nemenyi   greybox\n",
            "  summary.nemenyi greybox\n",
            "\n",
            "Registered S3 methods overwritten by 'TSA':\n",
            "  method       from    \n",
            "  fitted.Arima forecast\n",
            "  plot.Arima   forecast\n",
            "\n",
            "\n",
            "Attaching package: ‘TSA’\n",
            "\n",
            "\n",
            "The following objects are masked from ‘package:stats’:\n",
            "\n",
            "    acf, arima\n",
            "\n",
            "\n",
            "The following object is masked from ‘package:utils’:\n",
            "\n",
            "    tar\n",
            "\n",
            "\n",
            "\n",
            "Attaching package: ‘Metrics’\n",
            "\n",
            "\n",
            "The following object is masked from ‘package:generics’:\n",
            "\n",
            "    accuracy\n",
            "\n",
            "\n",
            "The following object is masked from ‘package:forecast’:\n",
            "\n",
            "    accuracy\n",
            "\n",
            "\n"
          ]
        }
      ],
      "source": [
        "library(tseries)\n",
        "library(readxl)\n",
        "library(dplyr)\n",
        "\n",
        "library(nortest)\n",
        "library(lmtest)\n",
        "library(car)\n",
        "\n",
        "library(forecast)\n",
        "library(nnfor)\n",
        "library(TTR)\n",
        "library(TSA)\n",
        "\n",
        "library(Metrics)"
      ]
    },
    {
      "cell_type": "markdown",
      "metadata": {
        "id": "9RAB9XzmOR2_"
      },
      "source": [
        "## **Data Preparation**"
      ]
    },
    {
      "cell_type": "markdown",
      "metadata": {
        "id": "boPEkZ-yOV_S"
      },
      "source": [
        "### Read the Data"
      ]
    },
    {
      "cell_type": "code",
      "execution_count": null,
      "metadata": {
        "colab": {
          "base_uri": "https://localhost:8080/",
          "height": 286
        },
        "id": "cyaufrN_mrFx",
        "outputId": "dacc539c-1e3e-4917-aba9-6a5119cbef5e"
      },
      "outputs": [
        {
          "output_type": "display_data",
          "data": {
            "text/html": [
              "<table class=\"dataframe\">\n",
              "<caption>A tibble: 6 × 2</caption>\n",
              "<thead>\n",
              "\t<tr><th scope=col>Year</th><th scope=col>Poverty Ratio (%)</th></tr>\n",
              "\t<tr><th scope=col>&lt;dbl&gt;</th><th scope=col>&lt;dbl&gt;</th></tr>\n",
              "</thead>\n",
              "<tbody>\n",
              "\t<tr><td>1998</td><td>69.1</td></tr>\n",
              "\t<tr><td>1999</td><td>46.0</td></tr>\n",
              "\t<tr><td>2000</td><td>43.6</td></tr>\n",
              "\t<tr><td>2001</td><td>39.9</td></tr>\n",
              "\t<tr><td>2002</td><td>26.8</td></tr>\n",
              "\t<tr><td>2003</td><td>26.4</td></tr>\n",
              "</tbody>\n",
              "</table>\n"
            ],
            "text/markdown": "\nA tibble: 6 × 2\n\n| Year &lt;dbl&gt; | Poverty Ratio (%) &lt;dbl&gt; |\n|---|---|\n| 1998 | 69.1 |\n| 1999 | 46.0 |\n| 2000 | 43.6 |\n| 2001 | 39.9 |\n| 2002 | 26.8 |\n| 2003 | 26.4 |\n\n",
            "text/latex": "A tibble: 6 × 2\n\\begin{tabular}{ll}\n Year & Poverty Ratio (\\%)\\\\\n <dbl> & <dbl>\\\\\n\\hline\n\t 1998 & 69.1\\\\\n\t 1999 & 46.0\\\\\n\t 2000 & 43.6\\\\\n\t 2001 & 39.9\\\\\n\t 2002 & 26.8\\\\\n\t 2003 & 26.4\\\\\n\\end{tabular}\n",
            "text/plain": [
              "  Year Poverty Ratio (%)\n",
              "1 1998 69.1             \n",
              "2 1999 46.0             \n",
              "3 2000 43.6             \n",
              "4 2001 39.9             \n",
              "5 2002 26.8             \n",
              "6 2003 26.4             "
            ]
          },
          "metadata": {}
        }
      ],
      "source": [
        "poverty <- read_excel(\"poverty.xls\", sheet = \"Indonesia\")\n",
        "head(poverty)"
      ]
    },
    {
      "cell_type": "markdown",
      "metadata": {
        "id": "PuPn4NGYvqQ7"
      },
      "source": [
        "### Data Splitting"
      ]
    },
    {
      "cell_type": "code",
      "execution_count": null,
      "metadata": {
        "id": "Ji9Xtu5Bvrsf",
        "colab": {
          "base_uri": "https://localhost:8080/",
          "height": 34
        },
        "outputId": "73c1c6b5-9df5-4e37-c19c-dca1bf2b2f47"
      },
      "outputs": [
        {
          "output_type": "display_data",
          "data": {
            "text/html": [
              "26"
            ],
            "text/markdown": "26",
            "text/latex": "26",
            "text/plain": [
              "[1] 26"
            ]
          },
          "metadata": {}
        }
      ],
      "source": [
        "len = length(poverty$`Poverty Ratio (%)`)\n",
        "len"
      ]
    },
    {
      "cell_type": "code",
      "execution_count": null,
      "metadata": {
        "id": "qAi39-4nvsgr",
        "colab": {
          "base_uri": "https://localhost:8080/",
          "height": 34
        },
        "outputId": "1be06a3c-f779-4fb7-894d-78d3c257089d"
      },
      "outputs": [
        {
          "output_type": "display_data",
          "data": {
            "text/html": [
              "18"
            ],
            "text/markdown": "18",
            "text/latex": "18",
            "text/plain": [
              "[1] 18"
            ]
          },
          "metadata": {}
        }
      ],
      "source": [
        "n_train = floor(len*0.7)\n",
        "n_train"
      ]
    },
    {
      "cell_type": "code",
      "execution_count": null,
      "metadata": {
        "id": "k261qh0oxrF-",
        "colab": {
          "base_uri": "https://localhost:8080/",
          "height": 286
        },
        "outputId": "5be26442-1bba-4c8b-ddf7-381f417fc5f2"
      },
      "outputs": [
        {
          "output_type": "display_data",
          "data": {
            "text/html": [
              "<table class=\"dataframe\">\n",
              "<caption>A tibble: 6 × 2</caption>\n",
              "<thead>\n",
              "\t<tr><th scope=col>Year</th><th scope=col>Poverty Ratio (%)</th></tr>\n",
              "\t<tr><th scope=col>&lt;dbl&gt;</th><th scope=col>&lt;dbl&gt;</th></tr>\n",
              "</thead>\n",
              "<tbody>\n",
              "\t<tr><td>1998</td><td>69.1</td></tr>\n",
              "\t<tr><td>1999</td><td>46.0</td></tr>\n",
              "\t<tr><td>2000</td><td>43.6</td></tr>\n",
              "\t<tr><td>2001</td><td>39.9</td></tr>\n",
              "\t<tr><td>2002</td><td>26.8</td></tr>\n",
              "\t<tr><td>2003</td><td>26.4</td></tr>\n",
              "</tbody>\n",
              "</table>\n"
            ],
            "text/markdown": "\nA tibble: 6 × 2\n\n| Year &lt;dbl&gt; | Poverty Ratio (%) &lt;dbl&gt; |\n|---|---|\n| 1998 | 69.1 |\n| 1999 | 46.0 |\n| 2000 | 43.6 |\n| 2001 | 39.9 |\n| 2002 | 26.8 |\n| 2003 | 26.4 |\n\n",
            "text/latex": "A tibble: 6 × 2\n\\begin{tabular}{ll}\n Year & Poverty Ratio (\\%)\\\\\n <dbl> & <dbl>\\\\\n\\hline\n\t 1998 & 69.1\\\\\n\t 1999 & 46.0\\\\\n\t 2000 & 43.6\\\\\n\t 2001 & 39.9\\\\\n\t 2002 & 26.8\\\\\n\t 2003 & 26.4\\\\\n\\end{tabular}\n",
            "text/plain": [
              "  Year Poverty Ratio (%)\n",
              "1 1998 69.1             \n",
              "2 1999 46.0             \n",
              "3 2000 43.6             \n",
              "4 2001 39.9             \n",
              "5 2002 26.8             \n",
              "6 2003 26.4             "
            ]
          },
          "metadata": {}
        }
      ],
      "source": [
        "df_train = poverty[1:n_train, ]\n",
        "head(df_train)"
      ]
    },
    {
      "cell_type": "code",
      "execution_count": null,
      "metadata": {
        "id": "MMWvirnBmdZt",
        "colab": {
          "base_uri": "https://localhost:8080/",
          "height": 286
        },
        "outputId": "02c6a7a4-3479-4669-8243-815a39747e4a"
      },
      "outputs": [
        {
          "output_type": "display_data",
          "data": {
            "text/html": [
              "<table class=\"dataframe\">\n",
              "<caption>A tibble: 6 × 2</caption>\n",
              "<thead>\n",
              "\t<tr><th scope=col>Year</th><th scope=col>Poverty Ratio (%)</th></tr>\n",
              "\t<tr><th scope=col>&lt;dbl&gt;</th><th scope=col>&lt;dbl&gt;</th></tr>\n",
              "</thead>\n",
              "<tbody>\n",
              "\t<tr><td>2016</td><td>7.5</td></tr>\n",
              "\t<tr><td>2017</td><td>6.6</td></tr>\n",
              "\t<tr><td>2018</td><td>5.4</td></tr>\n",
              "\t<tr><td>2019</td><td>4.4</td></tr>\n",
              "\t<tr><td>2020</td><td>3.8</td></tr>\n",
              "\t<tr><td>2021</td><td>3.5</td></tr>\n",
              "</tbody>\n",
              "</table>\n"
            ],
            "text/markdown": "\nA tibble: 6 × 2\n\n| Year &lt;dbl&gt; | Poverty Ratio (%) &lt;dbl&gt; |\n|---|---|\n| 2016 | 7.5 |\n| 2017 | 6.6 |\n| 2018 | 5.4 |\n| 2019 | 4.4 |\n| 2020 | 3.8 |\n| 2021 | 3.5 |\n\n",
            "text/latex": "A tibble: 6 × 2\n\\begin{tabular}{ll}\n Year & Poverty Ratio (\\%)\\\\\n <dbl> & <dbl>\\\\\n\\hline\n\t 2016 & 7.5\\\\\n\t 2017 & 6.6\\\\\n\t 2018 & 5.4\\\\\n\t 2019 & 4.4\\\\\n\t 2020 & 3.8\\\\\n\t 2021 & 3.5\\\\\n\\end{tabular}\n",
            "text/plain": [
              "  Year Poverty Ratio (%)\n",
              "1 2016 7.5              \n",
              "2 2017 6.6              \n",
              "3 2018 5.4              \n",
              "4 2019 4.4              \n",
              "5 2020 3.8              \n",
              "6 2021 3.5              "
            ]
          },
          "metadata": {}
        }
      ],
      "source": [
        "df_test = poverty[(n_train+1):len, ]\n",
        "head(df_test)"
      ]
    },
    {
      "cell_type": "markdown",
      "metadata": {
        "id": "ZZowQ81rOYN1"
      },
      "source": [
        "### Convert Data to Time Series Format"
      ]
    },
    {
      "cell_type": "code",
      "execution_count": null,
      "metadata": {
        "id": "A5bSovmpP019",
        "colab": {
          "base_uri": "https://localhost:8080/",
          "height": 255
        },
        "outputId": "b79c1e6d-7a2b-4c10-bce8-8c2aca627119"
      },
      "outputs": [
        {
          "output_type": "display_data",
          "data": {
            "text/html": [
              "<table class=\"dataframe\">\n",
              "<caption>A Time Series: 6 × 1</caption>\n",
              "<thead>\n",
              "\t<tr><th scope=col>Poverty Ratio (%)</th></tr>\n",
              "</thead>\n",
              "<tbody>\n",
              "\t<tr><td>69.1</td></tr>\n",
              "\t<tr><td>46.0</td></tr>\n",
              "\t<tr><td>43.6</td></tr>\n",
              "\t<tr><td>39.9</td></tr>\n",
              "\t<tr><td>26.8</td></tr>\n",
              "\t<tr><td>26.4</td></tr>\n",
              "</tbody>\n",
              "</table>\n"
            ],
            "text/markdown": "\nA Time Series: 6 × 1\n\n| Poverty Ratio (%) |\n|---|\n| 69.1 |\n| 46.0 |\n| 43.6 |\n| 39.9 |\n| 26.8 |\n| 26.4 |\n\n",
            "text/latex": "A Time Series: 6 × 1\n\\begin{tabular}{l}\n Poverty Ratio (\\%)\\\\\n\\hline\n\t 69.1\\\\\n\t 46.0\\\\\n\t 43.6\\\\\n\t 39.9\\\\\n\t 26.8\\\\\n\t 26.4\\\\\n\\end{tabular}\n",
            "text/plain": [
              "     Poverty Ratio (%)\n",
              "[1,] 69.1             \n",
              "[2,] 46.0             \n",
              "[3,] 43.6             \n",
              "[4,] 39.9             \n",
              "[5,] 26.8             \n",
              "[6,] 26.4             "
            ]
          },
          "metadata": {}
        }
      ],
      "source": [
        "training = ts(df_train[2], start = 1998, end = 2015, frequency = 1)\n",
        "head(training)"
      ]
    },
    {
      "cell_type": "code",
      "execution_count": null,
      "metadata": {
        "id": "ASLJoNx4QDtx",
        "colab": {
          "base_uri": "https://localhost:8080/",
          "height": 255
        },
        "outputId": "c9f9e41a-eec5-4f54-8cfb-04b80e3f4f39"
      },
      "outputs": [
        {
          "output_type": "display_data",
          "data": {
            "text/html": [
              "<table class=\"dataframe\">\n",
              "<caption>A Time Series: 6 × 1</caption>\n",
              "<thead>\n",
              "\t<tr><th scope=col>Poverty Ratio (%)</th></tr>\n",
              "</thead>\n",
              "<tbody>\n",
              "\t<tr><td>7.5</td></tr>\n",
              "\t<tr><td>6.6</td></tr>\n",
              "\t<tr><td>5.4</td></tr>\n",
              "\t<tr><td>4.4</td></tr>\n",
              "\t<tr><td>3.8</td></tr>\n",
              "\t<tr><td>3.5</td></tr>\n",
              "</tbody>\n",
              "</table>\n"
            ],
            "text/markdown": "\nA Time Series: 6 × 1\n\n| Poverty Ratio (%) |\n|---|\n| 7.5 |\n| 6.6 |\n| 5.4 |\n| 4.4 |\n| 3.8 |\n| 3.5 |\n\n",
            "text/latex": "A Time Series: 6 × 1\n\\begin{tabular}{l}\n Poverty Ratio (\\%)\\\\\n\\hline\n\t 7.5\\\\\n\t 6.6\\\\\n\t 5.4\\\\\n\t 4.4\\\\\n\t 3.8\\\\\n\t 3.5\\\\\n\\end{tabular}\n",
            "text/plain": [
              "     Poverty Ratio (%)\n",
              "[1,] 7.5              \n",
              "[2,] 6.6              \n",
              "[3,] 5.4              \n",
              "[4,] 4.4              \n",
              "[5,] 3.8              \n",
              "[6,] 3.5              "
            ]
          },
          "metadata": {}
        }
      ],
      "source": [
        "testing = ts(df_test[2], start = 2016, end = 2023, frequency = 1)\n",
        "head(testing)"
      ]
    },
    {
      "cell_type": "markdown",
      "metadata": {
        "id": "Zu0vHVxROhfB"
      },
      "source": [
        "### Plotting the Data"
      ]
    },
    {
      "cell_type": "code",
      "execution_count": null,
      "metadata": {
        "id": "Kq6HPaAws5sj",
        "colab": {
          "base_uri": "https://localhost:8080/",
          "height": 437
        },
        "outputId": "36d96435-4fe8-4ad5-a012-5b6f6153c77c"
      },
      "outputs": [
        {
          "output_type": "display_data",
          "data": {
            "text/plain": [
              "Plot with title “Indonesia Annual Poverty Ratio”"
            ],
            "image/png": "[encoded data removed]"
          },
          "metadata": {
            "image/png": {
              "width": 420,
              "height": 420
            }
          }
        }
      ],
      "source": [
        "# Determine the range for the x-axis\n",
        "y_range <- range(c(training, testing))\n",
        "x_range <- c(1998, 2023)\n",
        "\n",
        "# Plot the training data\n",
        "plot(training, type = \"l\", col = \"blue\", xlim = x_range, ylim = y_range,\n",
        "     xlab = \"Year\", ylab = \"Ratio (%)\", main = \"Indonesia Annual Poverty Ratio\")\n",
        "\n",
        "# Add the testing data to the same plot\n",
        "lines(testing, col = \"red\")\n",
        "\n",
        "# Add a legend to differentiate between training and testing data\n",
        "legend(\"topright\", legend = c(\"Training\", \"Testing\"),\n",
        "       col = c(\"blue\", \"red\"), lty = 1)"
      ]
    },
    {
      "cell_type": "markdown",
      "metadata": {
        "id": "rcAhWKoYO8En"
      },
      "source": [
        "### Other Preparations"
      ]
    },
    {
      "cell_type": "code",
      "execution_count": null,
      "metadata": {
        "id": "GL_ESXf1PGjm"
      },
      "outputs": [],
      "source": [
        "# Evaluation Metrics' Name\n",
        "eval_names = c(\"RMSE\", \"MAE\", \"MAPE\", \"MDAE\")"
      ]
    },
    {
      "cell_type": "markdown",
      "metadata": {
        "id": "kRGhXxJ9SKBE"
      },
      "source": [
        "## **Modelling**"
      ]
    },
    {
      "cell_type": "markdown",
      "metadata": {
        "id": "pIT_NbyikI-H"
      },
      "source": [
        "### Naive Model [DONE]"
      ]
    },
    {
      "cell_type": "markdown",
      "metadata": {
        "id": "HbgC925zrYxb"
      },
      "source": [
        "#### Model 1"
      ]
    },
    {
      "cell_type": "code",
      "source": [
        "model_naive_1 <- function(training, h) {\n",
        "  forecast_values <- numeric(h)\n",
        "  last_value <- training[length(training)]\n",
        "  drift <- training[length(training)] - training[length(training) - 1]\n",
        "\n",
        "  for (i in 1:h) {\n",
        "    forecast_values[i] <- last_value + drift\n",
        "    last_value <- forecast_values[i]\n",
        "  }\n",
        "\n",
        "  return(forecast_values)\n",
        "}"
      ],
      "metadata": {
        "id": "98M1B-sAyPT0"
      },
      "execution_count": null,
      "outputs": []
    },
    {
      "cell_type": "code",
      "source": [
        "fit_naive_1 <- numeric(length(training))\n",
        "fit_naive_1[1] <- training[1]\n",
        "\n",
        "for (i in 2:length(training)) {\n",
        "  if (i == 2) {\n",
        "    drift <- 0\n",
        "  } else {\n",
        "    drift <- training[i-1] - training[i-2]\n",
        "  }\n",
        "  fit_naive_1[i] <- training[i-1] + drift\n",
        "}\n",
        "\n",
        "fit_naive_1"
      ],
      "metadata": {
        "colab": {
          "base_uri": "https://localhost:8080/",
          "height": 34
        },
        "id": "x3VEjiFky27G",
        "outputId": "9ea914a3-2622-4ec5-9b50-43bc4d72b8a6"
      },
      "execution_count": null,
      "outputs": [
        {
          "output_type": "display_data",
          "data": {
            "text/html": [
              "<style>\n",
              ".list-inline {list-style: none; margin:0; padding: 0}\n",
              ".list-inline>li {display: inline-block}\n",
              ".list-inline>li:not(:last-child)::after {content: \"\\00b7\"; padding: 0 .5ex}\n",
              "</style>\n",
              "<ol class=list-inline><li>69.1</li><li>69.1</li><li>22.9</li><li>41.2</li><li>36.2</li><li>13.7</li><li>26</li><li>27.6</li><li>22.2</li><li>36.6</li><li>19.8</li><li>24.2</li><li>17.3</li><li>15.6</li><li>13.1</li><li>11.7</li><li>8.7</li><li>7.4</li></ol>\n"
            ],
            "text/markdown": "1. 69.1\n2. 69.1\n3. 22.9\n4. 41.2\n5. 36.2\n6. 13.7\n7. 26\n8. 27.6\n9. 22.2\n10. 36.6\n11. 19.8\n12. 24.2\n13. 17.3\n14. 15.6\n15. 13.1\n16. 11.7\n17. 8.7\n18. 7.4\n\n\n",
            "text/latex": "\\begin{enumerate*}\n\\item 69.1\n\\item 69.1\n\\item 22.9\n\\item 41.2\n\\item 36.2\n\\item 13.7\n\\item 26\n\\item 27.6\n\\item 22.2\n\\item 36.6\n\\item 19.8\n\\item 24.2\n\\item 17.3\n\\item 15.6\n\\item 13.1\n\\item 11.7\n\\item 8.7\n\\item 7.4\n\\end{enumerate*}\n",
            "text/plain": [
              " [1] 69.1 69.1 22.9 41.2 36.2 13.7 26.0 27.6 22.2 36.6 19.8 24.2 17.3 15.6 13.1\n",
              "[16] 11.7  8.7  7.4"
            ]
          },
          "metadata": {}
        }
      ]
    },
    {
      "cell_type": "markdown",
      "metadata": {
        "id": "-6G5Hc4PuPXu"
      },
      "source": [
        "##### Model Evaluation"
      ]
    },
    {
      "cell_type": "code",
      "source": [
        "rmse_model_naive_1 = rmse(training, fit_naive_1)\n",
        "mae_model_naive_1 = mae(training, fit_naive_1)\n",
        "mape_model_naive_1 = mape(training, fit_naive_1)\n",
        "mdae_model_naive_1 = mdae(training, fit_naive_1)\n",
        "\n",
        "eval_model_naive_1 = c(rmse_model_naive_1, mae_model_naive_1, mape_model_naive_1, mdae_model_naive_1)\n",
        "\n",
        "data.frame(eval_names, eval_model_naive_1)"
      ],
      "metadata": {
        "colab": {
          "base_uri": "https://localhost:8080/",
          "height": 223
        },
        "id": "Ft2XRMauzGOk",
        "outputId": "4b83df0c-e620-4394-e258-e7cf52c1622a"
      },
      "execution_count": null,
      "outputs": [
        {
          "output_type": "display_data",
          "data": {
            "text/html": [
              "<table class=\"dataframe\">\n",
              "<caption>A data.frame: 4 × 2</caption>\n",
              "<thead>\n",
              "\t<tr><th scope=col>eval_names</th><th scope=col>eval_model_naive_1</th></tr>\n",
              "\t<tr><th scope=col>&lt;chr&gt;</th><th scope=col>&lt;dbl&gt;</th></tr>\n",
              "</thead>\n",
              "<tbody>\n",
              "\t<tr><td>RMSE</td><td>9.0092545</td></tr>\n",
              "\t<tr><td>MAE </td><td>5.7111111</td></tr>\n",
              "\t<tr><td>MAPE</td><td>0.1889098</td></tr>\n",
              "\t<tr><td>MDAE</td><td>2.1500000</td></tr>\n",
              "</tbody>\n",
              "</table>\n"
            ],
            "text/markdown": "\nA data.frame: 4 × 2\n\n| eval_names &lt;chr&gt; | eval_model_naive_1 &lt;dbl&gt; |\n|---|---|\n| RMSE | 9.0092545 |\n| MAE  | 5.7111111 |\n| MAPE | 0.1889098 |\n| MDAE | 2.1500000 |\n\n",
            "text/latex": "A data.frame: 4 × 2\n\\begin{tabular}{ll}\n eval\\_names & eval\\_model\\_naive\\_1\\\\\n <chr> & <dbl>\\\\\n\\hline\n\t RMSE & 9.0092545\\\\\n\t MAE  & 5.7111111\\\\\n\t MAPE & 0.1889098\\\\\n\t MDAE & 2.1500000\\\\\n\\end{tabular}\n",
            "text/plain": [
              "  eval_names eval_model_naive_1\n",
              "1 RMSE       9.0092545         \n",
              "2 MAE        5.7111111         \n",
              "3 MAPE       0.1889098         \n",
              "4 MDAE       2.1500000         "
            ]
          },
          "metadata": {}
        }
      ]
    },
    {
      "cell_type": "markdown",
      "source": [
        "##### Testing Prediction & Evaluation"
      ],
      "metadata": {
        "id": "GeGyA14o0KwS"
      }
    },
    {
      "cell_type": "code",
      "source": [
        "predict_values_naive_1 = model_naive_1(training, length(testing))\n",
        "predict_values_naive_1"
      ],
      "metadata": {
        "colab": {
          "base_uri": "https://localhost:8080/",
          "height": 34
        },
        "id": "85W8Hwfs0NDF",
        "outputId": "33293915-840a-45ff-bd97-1be42ff22aa3"
      },
      "execution_count": null,
      "outputs": [
        {
          "output_type": "display_data",
          "data": {
            "text/html": [
              "<style>\n",
              ".list-inline {list-style: none; margin:0; padding: 0}\n",
              ".list-inline>li {display: inline-block}\n",
              ".list-inline>li:not(:last-child)::after {content: \"\\00b7\"; padding: 0 .5ex}\n",
              "</style>\n",
              "<ol class=list-inline><li>7.3</li><li>6.3</li><li>5.3</li><li>4.3</li><li>3.3</li><li>2.3</li><li>1.3</li><li>0.300000000000001</li></ol>\n"
            ],
            "text/markdown": "1. 7.3\n2. 6.3\n3. 5.3\n4. 4.3\n5. 3.3\n6. 2.3\n7. 1.3\n8. 0.300000000000001\n\n\n",
            "text/latex": "\\begin{enumerate*}\n\\item 7.3\n\\item 6.3\n\\item 5.3\n\\item 4.3\n\\item 3.3\n\\item 2.3\n\\item 1.3\n\\item 0.300000000000001\n\\end{enumerate*}\n",
            "text/plain": [
              "[1] 7.3 6.3 5.3 4.3 3.3 2.3 1.3 0.3"
            ]
          },
          "metadata": {}
        }
      ]
    },
    {
      "cell_type": "code",
      "source": [
        "rmse_naive_1 = rmse(testing, predict_values_naive_1)\n",
        "mae_naive_1 = mae(testing, predict_values_naive_1)\n",
        "mape_naive_1 = mape(testing, predict_values_naive_1)\n",
        "mdae_naive_1 = mdae(testing, predict_values_naive_1)\n",
        "\n",
        "eval_naive_1 = c(rmse_naive_1, mae_naive_1, mape_naive_1, mdae_naive_1)\n",
        "\n",
        "data.frame(eval_names, eval_naive_1)"
      ],
      "metadata": {
        "colab": {
          "base_uri": "https://localhost:8080/",
          "height": 223
        },
        "id": "HBZzBybR0vDn",
        "outputId": "e1e46e13-d116-46e8-902b-bd84020b70dc"
      },
      "execution_count": null,
      "outputs": [
        {
          "output_type": "display_data",
          "data": {
            "text/html": [
              "<table class=\"dataframe\">\n",
              "<caption>A data.frame: 4 × 2</caption>\n",
              "<thead>\n",
              "\t<tr><th scope=col>eval_names</th><th scope=col>eval_naive_1</th></tr>\n",
              "\t<tr><th scope=col>&lt;chr&gt;</th><th scope=col>&lt;dbl&gt;</th></tr>\n",
              "</thead>\n",
              "<tbody>\n",
              "\t<tr><td>RMSE</td><td>0.8544004</td></tr>\n",
              "\t<tr><td>MAE </td><td>0.6500000</td></tr>\n",
              "\t<tr><td>MAPE</td><td>0.2387385</td></tr>\n",
              "\t<tr><td>MDAE</td><td>0.4000000</td></tr>\n",
              "</tbody>\n",
              "</table>\n"
            ],
            "text/markdown": "\nA data.frame: 4 × 2\n\n| eval_names &lt;chr&gt; | eval_naive_1 &lt;dbl&gt; |\n|---|---|\n| RMSE | 0.8544004 |\n| MAE  | 0.6500000 |\n| MAPE | 0.2387385 |\n| MDAE | 0.4000000 |\n\n",
            "text/latex": "A data.frame: 4 × 2\n\\begin{tabular}{ll}\n eval\\_names & eval\\_naive\\_1\\\\\n <chr> & <dbl>\\\\\n\\hline\n\t RMSE & 0.8544004\\\\\n\t MAE  & 0.6500000\\\\\n\t MAPE & 0.2387385\\\\\n\t MDAE & 0.4000000\\\\\n\\end{tabular}\n",
            "text/plain": [
              "  eval_names eval_naive_1\n",
              "1 RMSE       0.8544004   \n",
              "2 MAE        0.6500000   \n",
              "3 MAPE       0.2387385   \n",
              "4 MDAE       0.4000000   "
            ]
          },
          "metadata": {}
        }
      ]
    },
    {
      "cell_type": "markdown",
      "source": [
        "##### Forecast 1 year"
      ],
      "metadata": {
        "id": "U87PUGRh1DEX"
      }
    },
    {
      "cell_type": "code",
      "source": [
        "forecast_naive_1 = tail(model_naive_1(training, length(testing)+1), 1)\n",
        "forecast_naive_1"
      ],
      "metadata": {
        "colab": {
          "base_uri": "https://localhost:8080/",
          "height": 34
        },
        "id": "uM4j7bEL1FA9",
        "outputId": "0aac5047-a6a2-4002-d1f4-82be57d68ec2"
      },
      "execution_count": null,
      "outputs": [
        {
          "output_type": "display_data",
          "data": {
            "text/html": [
              "-0.699999999999999"
            ],
            "text/markdown": "-0.699999999999999",
            "text/latex": "-0.699999999999999",
            "text/plain": [
              "[1] -0.7"
            ]
          },
          "metadata": {}
        }
      ]
    },
    {
      "cell_type": "markdown",
      "metadata": {
        "id": "0qINI2uOpzwr"
      },
      "source": [
        "#### Model 2"
      ]
    },
    {
      "cell_type": "code",
      "source": [
        "model_naive_2 <- function(train, h) {\n",
        "  last_value <- train[length(train)]\n",
        "  growth_rate <- train[length(train)] / train[length(train) - 1]\n",
        "  forecast_values <- numeric(h)\n",
        "  forecast_values[1] <- last_value * growth_rate\n",
        "  for (i in 2:h) {\n",
        "    forecast_values[i] <- forecast_values[i - 1] * growth_rate\n",
        "  }\n",
        "  return(forecast_values)\n",
        "}"
      ],
      "metadata": {
        "id": "ueaTllHP7TE3"
      },
      "execution_count": null,
      "outputs": []
    },
    {
      "cell_type": "code",
      "source": [
        "window_size = 2\n",
        "\n",
        "fit_naive_2 <- numeric(length(training) - window_size)\n",
        "fit_naive_2[1] = training[1]\n",
        "fit_naive_2[2] = training[2]\n",
        "\n",
        "for (i in (window_size + 1):length(training)) {\n",
        "  growth_rate = training[i-1] / training[i-window_size]\n",
        "  fit_naive_2[i] = training[i - 1] * growth_rate\n",
        "}\n",
        "\n",
        "fit_naive_2"
      ],
      "metadata": {
        "colab": {
          "base_uri": "https://localhost:8080/",
          "height": 52
        },
        "id": "pqINvK437UQc",
        "outputId": "6fa57a2f-cf58-4ddf-d049-7266818adb77"
      },
      "execution_count": null,
      "outputs": [
        {
          "output_type": "display_data",
          "data": {
            "text/html": [
              "<style>\n",
              ".list-inline {list-style: none; margin:0; padding: 0}\n",
              ".list-inline>li {display: inline-block}\n",
              ".list-inline>li:not(:last-child)::after {content: \"\\00b7\"; padding: 0 .5ex}\n",
              "</style>\n",
              "<ol class=list-inline><li>69.1</li><li>46</li><li>30.6222865412446</li><li>41.3252173913043</li><li>36.5139908256881</li><li>18.0010025062657</li><li>26.0059701492537</li><li>27.6136363636364</li><li>22.4133333333333</li><li>38.0634146341463</li><li>20.7529411764706</li><li>24.2099206349206</li><li>17.8542510121457</li><li>15.9471428571429</li><li>13.4693989071038</li><li>11.9547770700637</li><li>9.15620437956204</li><li>7.72232142857143</li></ol>\n"
            ],
            "text/markdown": "1. 69.1\n2. 46\n3. 30.6222865412446\n4. 41.3252173913043\n5. 36.5139908256881\n6. 18.0010025062657\n7. 26.0059701492537\n8. 27.6136363636364\n9. 22.4133333333333\n10. 38.0634146341463\n11. 20.7529411764706\n12. 24.2099206349206\n13. 17.8542510121457\n14. 15.9471428571429\n15. 13.4693989071038\n16. 11.9547770700637\n17. 9.15620437956204\n18. 7.72232142857143\n\n\n",
            "text/latex": "\\begin{enumerate*}\n\\item 69.1\n\\item 46\n\\item 30.6222865412446\n\\item 41.3252173913043\n\\item 36.5139908256881\n\\item 18.0010025062657\n\\item 26.0059701492537\n\\item 27.6136363636364\n\\item 22.4133333333333\n\\item 38.0634146341463\n\\item 20.7529411764706\n\\item 24.2099206349206\n\\item 17.8542510121457\n\\item 15.9471428571429\n\\item 13.4693989071038\n\\item 11.9547770700637\n\\item 9.15620437956204\n\\item 7.72232142857143\n\\end{enumerate*}\n",
            "text/plain": [
              " [1] 69.100000 46.000000 30.622287 41.325217 36.513991 18.001003 26.005970\n",
              " [8] 27.613636 22.413333 38.063415 20.752941 24.209921 17.854251 15.947143\n",
              "[15] 13.469399 11.954777  9.156204  7.722321"
            ]
          },
          "metadata": {}
        }
      ]
    },
    {
      "cell_type": "markdown",
      "metadata": {
        "id": "Nob5RtIdwZm5"
      },
      "source": [
        "##### Model Evaluation"
      ]
    },
    {
      "cell_type": "code",
      "execution_count": null,
      "metadata": {
        "id": "XslObrNqQpfu",
        "colab": {
          "base_uri": "https://localhost:8080/",
          "height": 223
        },
        "outputId": "5ea70cf5-b52f-4117-a407-280cd004fb8d"
      },
      "outputs": [
        {
          "output_type": "display_data",
          "data": {
            "text/html": [
              "<table class=\"dataframe\">\n",
              "<caption>A data.frame: 4 × 2</caption>\n",
              "<thead>\n",
              "\t<tr><th scope=col>eval_names</th><th scope=col>eval_model_naive_2</th></tr>\n",
              "\t<tr><th scope=col>&lt;chr&gt;</th><th scope=col>&lt;dbl&gt;</th></tr>\n",
              "</thead>\n",
              "<tbody>\n",
              "\t<tr><td>RMSE</td><td>5.7976816</td></tr>\n",
              "\t<tr><td>MAE </td><td>3.7294661</td></tr>\n",
              "\t<tr><td>MAPE</td><td>0.1374072</td></tr>\n",
              "\t<tr><td>MDAE</td><td>1.2096236</td></tr>\n",
              "</tbody>\n",
              "</table>\n"
            ],
            "text/markdown": "\nA data.frame: 4 × 2\n\n| eval_names &lt;chr&gt; | eval_model_naive_2 &lt;dbl&gt; |\n|---|---|\n| RMSE | 5.7976816 |\n| MAE  | 3.7294661 |\n| MAPE | 0.1374072 |\n| MDAE | 1.2096236 |\n\n",
            "text/latex": "A data.frame: 4 × 2\n\\begin{tabular}{ll}\n eval\\_names & eval\\_model\\_naive\\_2\\\\\n <chr> & <dbl>\\\\\n\\hline\n\t RMSE & 5.7976816\\\\\n\t MAE  & 3.7294661\\\\\n\t MAPE & 0.1374072\\\\\n\t MDAE & 1.2096236\\\\\n\\end{tabular}\n",
            "text/plain": [
              "  eval_names eval_model_naive_2\n",
              "1 RMSE       5.7976816         \n",
              "2 MAE        3.7294661         \n",
              "3 MAPE       0.1374072         \n",
              "4 MDAE       1.2096236         "
            ]
          },
          "metadata": {}
        }
      ],
      "source": [
        "rmse_model_naive_2 = rmse(training, fit_naive_2)\n",
        "mae_model_naive_2 = mae(training, fit_naive_2)\n",
        "mape_model_naive_2 = mape(training, fit_naive_2)\n",
        "mdae_model_naive_2 = mdae(training, fit_naive_2)\n",
        "\n",
        "eval_model_naive_2 = c(rmse_model_naive_2, mae_model_naive_2, mape_model_naive_2, mdae_model_naive_2)\n",
        "\n",
        "data.frame(eval_names, eval_model_naive_2)"
      ]
    },
    {
      "cell_type": "markdown",
      "metadata": {
        "id": "BSYLZ_jB66eQ"
      },
      "source": [
        "##### Testing Prediction & Evaluation"
      ]
    },
    {
      "cell_type": "code",
      "execution_count": null,
      "metadata": {
        "colab": {
          "base_uri": "https://localhost:8080/",
          "height": 34
        },
        "id": "kbJmC_id66eR",
        "outputId": "f90c25f8-3e2e-476d-a493-5203243cc8ba"
      },
      "outputs": [
        {
          "output_type": "display_data",
          "data": {
            "text/html": [
              "<style>\n",
              ".list-inline {list-style: none; margin:0; padding: 0}\n",
              ".list-inline>li {display: inline-block}\n",
              ".list-inline>li:not(:last-child)::after {content: \"\\00b7\"; padding: 0 .5ex}\n",
              "</style>\n",
              "<ol class=list-inline><li>7.40752688172043</li><li>6.61101861486877</li><li>5.90015639821622</li><li>5.26573097905318</li><li>4.69952334689693</li><li>4.19419825583274</li><li>3.74320919606578</li><li>3.34071358358559</li></ol>\n"
            ],
            "text/markdown": "1. 7.40752688172043\n2. 6.61101861486877\n3. 5.90015639821622\n4. 5.26573097905318\n5. 4.69952334689693\n6. 4.19419825583274\n7. 3.74320919606578\n8. 3.34071358358559\n\n\n",
            "text/latex": "\\begin{enumerate*}\n\\item 7.40752688172043\n\\item 6.61101861486877\n\\item 5.90015639821622\n\\item 5.26573097905318\n\\item 4.69952334689693\n\\item 4.19419825583274\n\\item 3.74320919606578\n\\item 3.34071358358559\n\\end{enumerate*}\n",
            "text/plain": [
              "[1] 7.407527 6.611019 5.900156 5.265731 4.699523 4.194198 3.743209 3.340714"
            ]
          },
          "metadata": {}
        }
      ],
      "source": [
        "predict_values_naive_2 = model_naive_2(training, length(testing))\n",
        "predict_values_naive_2"
      ]
    },
    {
      "cell_type": "code",
      "source": [
        "rmse_naive_2 = rmse(testing, predict_values_naive_2)\n",
        "mae_naive_2 = mae(testing, predict_values_naive_2)\n",
        "mape_naive_2 = mape(testing, predict_values_naive_2)\n",
        "mdae_naive_2 = mdae(testing, predict_values_naive_2)\n",
        "\n",
        "eval_naive_2 = c(rmse_naive_2, mae_naive_2, mape_naive_2, mdae_naive_2)\n",
        "\n",
        "data.frame(eval_names, eval_naive_2)"
      ],
      "metadata": {
        "colab": {
          "base_uri": "https://localhost:8080/",
          "height": 223
        },
        "id": "fVGTS5sJ-bH2",
        "outputId": "0fefad58-273f-4136-ad03-905b65900ec2"
      },
      "execution_count": null,
      "outputs": [
        {
          "output_type": "display_data",
          "data": {
            "text/html": [
              "<table class=\"dataframe\">\n",
              "<caption>A data.frame: 4 × 2</caption>\n",
              "<thead>\n",
              "\t<tr><th scope=col>eval_names</th><th scope=col>eval_naive_2</th></tr>\n",
              "\t<tr><th scope=col>&lt;chr&gt;</th><th scope=col>&lt;dbl&gt;</th></tr>\n",
              "</thead>\n",
              "<tbody>\n",
              "\t<tr><td>RMSE</td><td>0.8602759</td></tr>\n",
              "\t<tr><td>MAE </td><td>0.7183779</td></tr>\n",
              "\t<tr><td>MAPE</td><td>0.2492489</td></tr>\n",
              "\t<tr><td>MDAE</td><td>0.7799646</td></tr>\n",
              "</tbody>\n",
              "</table>\n"
            ],
            "text/markdown": "\nA data.frame: 4 × 2\n\n| eval_names &lt;chr&gt; | eval_naive_2 &lt;dbl&gt; |\n|---|---|\n| RMSE | 0.8602759 |\n| MAE  | 0.7183779 |\n| MAPE | 0.2492489 |\n| MDAE | 0.7799646 |\n\n",
            "text/latex": "A data.frame: 4 × 2\n\\begin{tabular}{ll}\n eval\\_names & eval\\_naive\\_2\\\\\n <chr> & <dbl>\\\\\n\\hline\n\t RMSE & 0.8602759\\\\\n\t MAE  & 0.7183779\\\\\n\t MAPE & 0.2492489\\\\\n\t MDAE & 0.7799646\\\\\n\\end{tabular}\n",
            "text/plain": [
              "  eval_names eval_naive_2\n",
              "1 RMSE       0.8602759   \n",
              "2 MAE        0.7183779   \n",
              "3 MAPE       0.2492489   \n",
              "4 MDAE       0.7799646   "
            ]
          },
          "metadata": {}
        }
      ]
    },
    {
      "cell_type": "markdown",
      "metadata": {
        "id": "qKMgOlbd6_zc"
      },
      "source": [
        "##### Forecast 1 Year"
      ]
    },
    {
      "cell_type": "code",
      "execution_count": null,
      "metadata": {
        "colab": {
          "base_uri": "https://localhost:8080/",
          "height": 34
        },
        "id": "GbcQk3S56_zd",
        "outputId": "2db393dc-a6ad-46b1-d5da-f12ae20dd1b6"
      },
      "outputs": [
        {
          "output_type": "display_data",
          "data": {
            "text/html": [
              "2.98149706922155"
            ],
            "text/markdown": "2.98149706922155",
            "text/latex": "2.98149706922155",
            "text/plain": [
              "[1] 2.981497"
            ]
          },
          "metadata": {}
        }
      ],
      "source": [
        "forecast_naive_2 = tail(model_naive_2(training, length(testing)+1), 1)\n",
        "forecast_naive_2"
      ]
    },
    {
      "cell_type": "markdown",
      "metadata": {
        "id": "1qkw4s7zkMLz"
      },
      "source": [
        "### Double Moving Average (DMA) Model [DONE]"
      ]
    },
    {
      "cell_type": "code",
      "source": [
        "DMA <- function(data, n){\n",
        "  data_sma = SMA(data, n)\n",
        "  dma = SMA(data_sma, n)\n",
        "\n",
        "  At = 2*data_sma - dma\n",
        "  Bt = 2/(n-1)*(data_sma - dma)\n",
        "\n",
        "  data_dma = At + Bt\n",
        "  data_predict = c(NA, data_dma)\n",
        "\n",
        "  t = 1:9\n",
        "  f = c()\n",
        "\n",
        "  for (i in t) {\n",
        "    f[i] = At[length(At)] + Bt[length(Bt)] * i\n",
        "  }\n",
        "\n",
        "  data_res = cbind(actual = c(training, rep(NA,9)), SMA = c(data_sma,rep(NA,9)), DMA = c(data_dma, rep(NA,9)), At = c(At, rep(NA,9)), Bt = c(Bt,rep(NA,9)), prediction = c(data_predict, f[-1]))\n",
        "\n",
        "  return (data_res)\n",
        "}"
      ],
      "metadata": {
        "id": "Q8ze2bHRy0FQ"
      },
      "execution_count": null,
      "outputs": []
    },
    {
      "cell_type": "markdown",
      "source": [
        "#### Model 1 (n = 3)"
      ],
      "metadata": {
        "id": "HIs0WKsT15Qx"
      }
    },
    {
      "cell_type": "code",
      "source": [
        "model_dma_1 = DMA(training, 3)\n",
        "model_dma_1"
      ],
      "metadata": {
        "colab": {
          "base_uri": "https://localhost:8080/",
          "height": 913
        },
        "id": "uSP1-zyy07jg",
        "outputId": "2dd6791a-3eac-4bfd-b875-4b6282722f55"
      },
      "execution_count": null,
      "outputs": [
        {
          "output_type": "display_data",
          "data": {
            "text/html": [
              "<table class=\"dataframe\">\n",
              "<caption>A matrix: 27 × 6 of type dbl</caption>\n",
              "<thead>\n",
              "\t<tr><th scope=col>actual</th><th scope=col>SMA</th><th scope=col>DMA</th><th scope=col>At</th><th scope=col>Bt</th><th scope=col>prediction</th></tr>\n",
              "</thead>\n",
              "<tbody>\n",
              "\t<tr><td>69.1</td><td>      NA</td><td>       NA</td><td>       NA</td><td>         NA</td><td>         NA</td></tr>\n",
              "\t<tr><td>46.0</td><td>      NA</td><td>       NA</td><td>       NA</td><td>         NA</td><td>         NA</td></tr>\n",
              "\t<tr><td>43.6</td><td>52.90000</td><td>       NA</td><td>       NA</td><td>         NA</td><td>         NA</td></tr>\n",
              "\t<tr><td>39.9</td><td>43.16667</td><td>       NA</td><td>       NA</td><td>         NA</td><td>         NA</td></tr>\n",
              "\t<tr><td>26.8</td><td>36.76667</td><td>21.744444</td><td>29.255556</td><td>-7.51111111</td><td>         NA</td></tr>\n",
              "\t<tr><td>26.4</td><td>31.03333</td><td>19.122222</td><td>25.077778</td><td>-5.95555556</td><td>21.74444444</td></tr>\n",
              "\t<tr><td>27.0</td><td>26.73333</td><td>17.177778</td><td>21.955556</td><td>-4.77777778</td><td>19.12222222</td></tr>\n",
              "\t<tr><td>24.6</td><td>26.00000</td><td>22.155556</td><td>24.077778</td><td>-1.92222222</td><td>17.17777778</td></tr>\n",
              "\t<tr><td>30.6</td><td>27.40000</td><td>28.777778</td><td>28.088889</td><td> 0.68888889</td><td>22.15555556</td></tr>\n",
              "\t<tr><td>25.2</td><td>26.80000</td><td>26.933333</td><td>26.866667</td><td> 0.06666667</td><td>28.77777778</td></tr>\n",
              "\t<tr><td>24.7</td><td>26.83333</td><td>26.477778</td><td>26.655556</td><td>-0.17777778</td><td>26.93333333</td></tr>\n",
              "\t<tr><td>21.0</td><td>23.63333</td><td>19.388889</td><td>21.511111</td><td>-2.12222222</td><td>26.47777778</td></tr>\n",
              "\t<tr><td>18.3</td><td>21.33333</td><td>16.133333</td><td>18.733333</td><td>-2.60000000</td><td>19.38888889</td></tr>\n",
              "\t<tr><td>15.7</td><td>18.33333</td><td>12.800000</td><td>15.566667</td><td>-2.76666667</td><td>16.13333333</td></tr>\n",
              "\t<tr><td>13.7</td><td>15.90000</td><td>10.655556</td><td>13.277778</td><td>-2.62222222</td><td>12.80000000</td></tr>\n",
              "\t<tr><td>11.2</td><td>13.53333</td><td> 8.755556</td><td>11.144444</td><td>-2.38888889</td><td>10.65555556</td></tr>\n",
              "\t<tr><td> 9.3</td><td>11.40000</td><td> 6.977778</td><td> 9.188889</td><td>-2.21111111</td><td> 8.75555556</td></tr>\n",
              "\t<tr><td> 8.3</td><td> 9.60000</td><td> 5.777778</td><td> 7.688889</td><td>-1.91111111</td><td> 6.97777778</td></tr>\n",
              "\t<tr><td>  NA</td><td>      NA</td><td>       NA</td><td>       NA</td><td>         NA</td><td> 5.77777778</td></tr>\n",
              "\t<tr><td>  NA</td><td>      NA</td><td>       NA</td><td>       NA</td><td>         NA</td><td> 3.86666667</td></tr>\n",
              "\t<tr><td>  NA</td><td>      NA</td><td>       NA</td><td>       NA</td><td>         NA</td><td> 1.95555556</td></tr>\n",
              "\t<tr><td>  NA</td><td>      NA</td><td>       NA</td><td>       NA</td><td>         NA</td><td> 0.04444444</td></tr>\n",
              "\t<tr><td>  NA</td><td>      NA</td><td>       NA</td><td>       NA</td><td>         NA</td><td>-1.86666667</td></tr>\n",
              "\t<tr><td>  NA</td><td>      NA</td><td>       NA</td><td>       NA</td><td>         NA</td><td>-3.77777778</td></tr>\n",
              "\t<tr><td>  NA</td><td>      NA</td><td>       NA</td><td>       NA</td><td>         NA</td><td>-5.68888889</td></tr>\n",
              "\t<tr><td>  NA</td><td>      NA</td><td>       NA</td><td>       NA</td><td>         NA</td><td>-7.60000000</td></tr>\n",
              "\t<tr><td>  NA</td><td>      NA</td><td>       NA</td><td>       NA</td><td>         NA</td><td>-9.51111111</td></tr>\n",
              "</tbody>\n",
              "</table>\n"
            ],
            "text/markdown": "\nA matrix: 27 × 6 of type dbl\n\n| actual | SMA | DMA | At | Bt | prediction |\n|---|---|---|---|---|---|\n| 69.1 |       NA |        NA |        NA |          NA |          NA |\n| 46.0 |       NA |        NA |        NA |          NA |          NA |\n| 43.6 | 52.90000 |        NA |        NA |          NA |          NA |\n| 39.9 | 43.16667 |        NA |        NA |          NA |          NA |\n| 26.8 | 36.76667 | 21.744444 | 29.255556 | -7.51111111 |          NA |\n| 26.4 | 31.03333 | 19.122222 | 25.077778 | -5.95555556 | 21.74444444 |\n| 27.0 | 26.73333 | 17.177778 | 21.955556 | -4.77777778 | 19.12222222 |\n| 24.6 | 26.00000 | 22.155556 | 24.077778 | -1.92222222 | 17.17777778 |\n| 30.6 | 27.40000 | 28.777778 | 28.088889 |  0.68888889 | 22.15555556 |\n| 25.2 | 26.80000 | 26.933333 | 26.866667 |  0.06666667 | 28.77777778 |\n| 24.7 | 26.83333 | 26.477778 | 26.655556 | -0.17777778 | 26.93333333 |\n| 21.0 | 23.63333 | 19.388889 | 21.511111 | -2.12222222 | 26.47777778 |\n| 18.3 | 21.33333 | 16.133333 | 18.733333 | -2.60000000 | 19.38888889 |\n| 15.7 | 18.33333 | 12.800000 | 15.566667 | -2.76666667 | 16.13333333 |\n| 13.7 | 15.90000 | 10.655556 | 13.277778 | -2.62222222 | 12.80000000 |\n| 11.2 | 13.53333 |  8.755556 | 11.144444 | -2.38888889 | 10.65555556 |\n|  9.3 | 11.40000 |  6.977778 |  9.188889 | -2.21111111 |  8.75555556 |\n|  8.3 |  9.60000 |  5.777778 |  7.688889 | -1.91111111 |  6.97777778 |\n|   NA |       NA |        NA |        NA |          NA |  5.77777778 |\n|   NA |       NA |        NA |        NA |          NA |  3.86666667 |\n|   NA |       NA |        NA |        NA |          NA |  1.95555556 |\n|   NA |       NA |        NA |        NA |          NA |  0.04444444 |\n|   NA |       NA |        NA |        NA |          NA | -1.86666667 |\n|   NA |       NA |        NA |        NA |          NA | -3.77777778 |\n|   NA |       NA |        NA |        NA |          NA | -5.68888889 |\n|   NA |       NA |        NA |        NA |          NA | -7.60000000 |\n|   NA |       NA |        NA |        NA |          NA | -9.51111111 |\n\n",
            "text/latex": "A matrix: 27 × 6 of type dbl\n\\begin{tabular}{llllll}\n actual & SMA & DMA & At & Bt & prediction\\\\\n\\hline\n\t 69.1 &       NA &        NA &        NA &          NA &          NA\\\\\n\t 46.0 &       NA &        NA &        NA &          NA &          NA\\\\\n\t 43.6 & 52.90000 &        NA &        NA &          NA &          NA\\\\\n\t 39.9 & 43.16667 &        NA &        NA &          NA &          NA\\\\\n\t 26.8 & 36.76667 & 21.744444 & 29.255556 & -7.51111111 &          NA\\\\\n\t 26.4 & 31.03333 & 19.122222 & 25.077778 & -5.95555556 & 21.74444444\\\\\n\t 27.0 & 26.73333 & 17.177778 & 21.955556 & -4.77777778 & 19.12222222\\\\\n\t 24.6 & 26.00000 & 22.155556 & 24.077778 & -1.92222222 & 17.17777778\\\\\n\t 30.6 & 27.40000 & 28.777778 & 28.088889 &  0.68888889 & 22.15555556\\\\\n\t 25.2 & 26.80000 & 26.933333 & 26.866667 &  0.06666667 & 28.77777778\\\\\n\t 24.7 & 26.83333 & 26.477778 & 26.655556 & -0.17777778 & 26.93333333\\\\\n\t 21.0 & 23.63333 & 19.388889 & 21.511111 & -2.12222222 & 26.47777778\\\\\n\t 18.3 & 21.33333 & 16.133333 & 18.733333 & -2.60000000 & 19.38888889\\\\\n\t 15.7 & 18.33333 & 12.800000 & 15.566667 & -2.76666667 & 16.13333333\\\\\n\t 13.7 & 15.90000 & 10.655556 & 13.277778 & -2.62222222 & 12.80000000\\\\\n\t 11.2 & 13.53333 &  8.755556 & 11.144444 & -2.38888889 & 10.65555556\\\\\n\t  9.3 & 11.40000 &  6.977778 &  9.188889 & -2.21111111 &  8.75555556\\\\\n\t  8.3 &  9.60000 &  5.777778 &  7.688889 & -1.91111111 &  6.97777778\\\\\n\t   NA &       NA &        NA &        NA &          NA &  5.77777778\\\\\n\t   NA &       NA &        NA &        NA &          NA &  3.86666667\\\\\n\t   NA &       NA &        NA &        NA &          NA &  1.95555556\\\\\n\t   NA &       NA &        NA &        NA &          NA &  0.04444444\\\\\n\t   NA &       NA &        NA &        NA &          NA & -1.86666667\\\\\n\t   NA &       NA &        NA &        NA &          NA & -3.77777778\\\\\n\t   NA &       NA &        NA &        NA &          NA & -5.68888889\\\\\n\t   NA &       NA &        NA &        NA &          NA & -7.60000000\\\\\n\t   NA &       NA &        NA &        NA &          NA & -9.51111111\\\\\n\\end{tabular}\n",
            "text/plain": [
              "      actual SMA      DMA       At        Bt          prediction \n",
              " [1,] 69.1         NA        NA        NA          NA          NA\n",
              " [2,] 46.0         NA        NA        NA          NA          NA\n",
              " [3,] 43.6   52.90000        NA        NA          NA          NA\n",
              " [4,] 39.9   43.16667        NA        NA          NA          NA\n",
              " [5,] 26.8   36.76667 21.744444 29.255556 -7.51111111          NA\n",
              " [6,] 26.4   31.03333 19.122222 25.077778 -5.95555556 21.74444444\n",
              " [7,] 27.0   26.73333 17.177778 21.955556 -4.77777778 19.12222222\n",
              " [8,] 24.6   26.00000 22.155556 24.077778 -1.92222222 17.17777778\n",
              " [9,] 30.6   27.40000 28.777778 28.088889  0.68888889 22.15555556\n",
              "[10,] 25.2   26.80000 26.933333 26.866667  0.06666667 28.77777778\n",
              "[11,] 24.7   26.83333 26.477778 26.655556 -0.17777778 26.93333333\n",
              "[12,] 21.0   23.63333 19.388889 21.511111 -2.12222222 26.47777778\n",
              "[13,] 18.3   21.33333 16.133333 18.733333 -2.60000000 19.38888889\n",
              "[14,] 15.7   18.33333 12.800000 15.566667 -2.76666667 16.13333333\n",
              "[15,] 13.7   15.90000 10.655556 13.277778 -2.62222222 12.80000000\n",
              "[16,] 11.2   13.53333  8.755556 11.144444 -2.38888889 10.65555556\n",
              "[17,]  9.3   11.40000  6.977778  9.188889 -2.21111111  8.75555556\n",
              "[18,]  8.3    9.60000  5.777778  7.688889 -1.91111111  6.97777778\n",
              "[19,]   NA         NA        NA        NA          NA  5.77777778\n",
              "[20,]   NA         NA        NA        NA          NA  3.86666667\n",
              "[21,]   NA         NA        NA        NA          NA  1.95555556\n",
              "[22,]   NA         NA        NA        NA          NA  0.04444444\n",
              "[23,]   NA         NA        NA        NA          NA -1.86666667\n",
              "[24,]   NA         NA        NA        NA          NA -3.77777778\n",
              "[25,]   NA         NA        NA        NA          NA -5.68888889\n",
              "[26,]   NA         NA        NA        NA          NA -7.60000000\n",
              "[27,]   NA         NA        NA        NA          NA -9.51111111"
            ]
          },
          "metadata": {}
        }
      ]
    },
    {
      "cell_type": "markdown",
      "source": [
        "##### Model Evaluation"
      ],
      "metadata": {
        "id": "l-HQHh862Jq9"
      }
    },
    {
      "cell_type": "code",
      "source": [
        "fit_dma_1 = model_dma_1[6:n_train, 6]\n",
        "fit_dma_1"
      ],
      "metadata": {
        "colab": {
          "base_uri": "https://localhost:8080/",
          "height": 52
        },
        "id": "mFt48Y051BdH",
        "outputId": "3d916591-b39a-4ace-a9ea-43f4db22ddc5"
      },
      "execution_count": null,
      "outputs": [
        {
          "output_type": "display_data",
          "data": {
            "text/html": [
              "<style>\n",
              ".list-inline {list-style: none; margin:0; padding: 0}\n",
              ".list-inline>li {display: inline-block}\n",
              ".list-inline>li:not(:last-child)::after {content: \"\\00b7\"; padding: 0 .5ex}\n",
              "</style>\n",
              "<ol class=list-inline><li>21.7444444444445</li><li>19.1222222222223</li><li>17.1777777777778</li><li>22.1555555555556</li><li>28.7777777777778</li><li>26.9333333333333</li><li>26.4777777777778</li><li>19.3888888888889</li><li>16.1333333333333</li><li>12.8</li><li>10.6555555555556</li><li>8.75555555555557</li><li>6.97777777777779</li></ol>\n"
            ],
            "text/markdown": "1. 21.7444444444445\n2. 19.1222222222223\n3. 17.1777777777778\n4. 22.1555555555556\n5. 28.7777777777778\n6. 26.9333333333333\n7. 26.4777777777778\n8. 19.3888888888889\n9. 16.1333333333333\n10. 12.8\n11. 10.6555555555556\n12. 8.75555555555557\n13. 6.97777777777779\n\n\n",
            "text/latex": "\\begin{enumerate*}\n\\item 21.7444444444445\n\\item 19.1222222222223\n\\item 17.1777777777778\n\\item 22.1555555555556\n\\item 28.7777777777778\n\\item 26.9333333333333\n\\item 26.4777777777778\n\\item 19.3888888888889\n\\item 16.1333333333333\n\\item 12.8\n\\item 10.6555555555556\n\\item 8.75555555555557\n\\item 6.97777777777779\n\\end{enumerate*}\n",
            "text/plain": [
              " [1] 21.744444 19.122222 17.177778 22.155556 28.777778 26.933333 26.477778\n",
              " [8] 19.388889 16.133333 12.800000 10.655556  8.755556  6.977778"
            ]
          },
          "metadata": {}
        }
      ]
    },
    {
      "cell_type": "code",
      "source": [
        "rmse_model_dma_1 = rmse(training[6:n_train], fit_dma_1)\n",
        "mae_model_dma_1 = mae(training[6:n_train], fit_dma_1)\n",
        "mape_model_dma_1 = mape(training[6:n_train], fit_dma_1)\n",
        "mdae_model_dma_1 = mdae(training[6:n_train], fit_dma_1)\n",
        "\n",
        "eval_model_dma_1 = c(rmse_model_dma_1, mae_model_dma_1, mape_model_dma_1, mdae_model_dma_1)\n",
        "\n",
        "data.frame(eval_names, eval_model_dma_1)"
      ],
      "metadata": {
        "colab": {
          "base_uri": "https://localhost:8080/",
          "height": 223
        },
        "id": "cyWv8mvx2RnL",
        "outputId": "03f8e219-6570-4d62-f158-198258cb70fc"
      },
      "execution_count": null,
      "outputs": [
        {
          "output_type": "display_data",
          "data": {
            "text/html": [
              "<table class=\"dataframe\">\n",
              "<caption>A data.frame: 4 × 2</caption>\n",
              "<thead>\n",
              "\t<tr><th scope=col>eval_names</th><th scope=col>eval_model_dma_1</th></tr>\n",
              "\t<tr><th scope=col>&lt;chr&gt;</th><th scope=col>&lt;dbl&gt;</th></tr>\n",
              "</thead>\n",
              "<tbody>\n",
              "\t<tr><td>RMSE</td><td>4.4931614</td></tr>\n",
              "\t<tr><td>MAE </td><td>3.4247863</td></tr>\n",
              "\t<tr><td>MAPE</td><td>0.1506376</td></tr>\n",
              "\t<tr><td>MDAE</td><td>2.2333333</td></tr>\n",
              "</tbody>\n",
              "</table>\n"
            ],
            "text/markdown": "\nA data.frame: 4 × 2\n\n| eval_names &lt;chr&gt; | eval_model_dma_1 &lt;dbl&gt; |\n|---|---|\n| RMSE | 4.4931614 |\n| MAE  | 3.4247863 |\n| MAPE | 0.1506376 |\n| MDAE | 2.2333333 |\n\n",
            "text/latex": "A data.frame: 4 × 2\n\\begin{tabular}{ll}\n eval\\_names & eval\\_model\\_dma\\_1\\\\\n <chr> & <dbl>\\\\\n\\hline\n\t RMSE & 4.4931614\\\\\n\t MAE  & 3.4247863\\\\\n\t MAPE & 0.1506376\\\\\n\t MDAE & 2.2333333\\\\\n\\end{tabular}\n",
            "text/plain": [
              "  eval_names eval_model_dma_1\n",
              "1 RMSE       4.4931614       \n",
              "2 MAE        3.4247863       \n",
              "3 MAPE       0.1506376       \n",
              "4 MDAE       2.2333333       "
            ]
          },
          "metadata": {}
        }
      ]
    },
    {
      "cell_type": "markdown",
      "source": [
        "##### Testing Prediction and Evaluation"
      ],
      "metadata": {
        "id": "On6iVEWS2GJk"
      }
    },
    {
      "cell_type": "code",
      "source": [
        "predict_values_dma_1 = model_dma_1[(n_train+1):len, 6]\n",
        "predict_values_dma_1"
      ],
      "metadata": {
        "colab": {
          "base_uri": "https://localhost:8080/",
          "height": 34
        },
        "id": "zq4ioCft2QSF",
        "outputId": "342fa088-b700-4614-b4ee-d21eed4b2e3e"
      },
      "execution_count": null,
      "outputs": [
        {
          "output_type": "display_data",
          "data": {
            "text/html": [
              "<style>\n",
              ".list-inline {list-style: none; margin:0; padding: 0}\n",
              ".list-inline>li {display: inline-block}\n",
              ".list-inline>li:not(:last-child)::after {content: \"\\00b7\"; padding: 0 .5ex}\n",
              "</style>\n",
              "<ol class=list-inline><li>5.77777777777779</li><li>3.86666666666668</li><li>1.95555555555557</li><li>0.0444444444444621</li><li>-1.86666666666665</li><li>-3.77777777777776</li><li>-5.68888888888887</li><li>-7.59999999999998</li></ol>\n"
            ],
            "text/markdown": "1. 5.77777777777779\n2. 3.86666666666668\n3. 1.95555555555557\n4. 0.0444444444444621\n5. -1.86666666666665\n6. -3.77777777777776\n7. -5.68888888888887\n8. -7.59999999999998\n\n\n",
            "text/latex": "\\begin{enumerate*}\n\\item 5.77777777777779\n\\item 3.86666666666668\n\\item 1.95555555555557\n\\item 0.0444444444444621\n\\item -1.86666666666665\n\\item -3.77777777777776\n\\item -5.68888888888887\n\\item -7.59999999999998\n\\end{enumerate*}\n",
            "text/plain": [
              "[1]  5.77777778  3.86666667  1.95555556  0.04444444 -1.86666667 -3.77777778\n",
              "[7] -5.68888889 -7.60000000"
            ]
          },
          "metadata": {}
        }
      ]
    },
    {
      "cell_type": "code",
      "source": [
        "rmse_dma_1 = rmse(testing, predict_values_dma_1)\n",
        "mae_dma_1 = mae(testing, predict_values_dma_1)\n",
        "mape_dma_1 = mape(testing, predict_values_dma_1)\n",
        "mdae_dma_1 = mdae(testing, predict_values_dma_1)\n",
        "\n",
        "eval_dma_1 = c(rmse_dma_1, mae_dma_1, mape_dma_1, mdae_dma_1)\n",
        "\n",
        "data.frame(eval_names, eval_dma_1)"
      ],
      "metadata": {
        "colab": {
          "base_uri": "https://localhost:8080/",
          "height": 223
        },
        "id": "7ruBGC4e3Eyk",
        "outputId": "e10e1d7d-8ca1-4378-ad0f-4e2133cbe536"
      },
      "execution_count": null,
      "outputs": [
        {
          "output_type": "display_data",
          "data": {
            "text/html": [
              "<table class=\"dataframe\">\n",
              "<caption>A data.frame: 4 × 2</caption>\n",
              "<thead>\n",
              "\t<tr><th scope=col>eval_names</th><th scope=col>eval_dma_1</th></tr>\n",
              "\t<tr><th scope=col>&lt;chr&gt;</th><th scope=col>&lt;dbl&gt;</th></tr>\n",
              "</thead>\n",
              "<tbody>\n",
              "\t<tr><td>RMSE</td><td>5.954592</td></tr>\n",
              "\t<tr><td>MAE </td><td>5.361111</td></tr>\n",
              "\t<tr><td>MAPE</td><td>1.764710</td></tr>\n",
              "\t<tr><td>MDAE</td><td>5.011111</td></tr>\n",
              "</tbody>\n",
              "</table>\n"
            ],
            "text/markdown": "\nA data.frame: 4 × 2\n\n| eval_names &lt;chr&gt; | eval_dma_1 &lt;dbl&gt; |\n|---|---|\n| RMSE | 5.954592 |\n| MAE  | 5.361111 |\n| MAPE | 1.764710 |\n| MDAE | 5.011111 |\n\n",
            "text/latex": "A data.frame: 4 × 2\n\\begin{tabular}{ll}\n eval\\_names & eval\\_dma\\_1\\\\\n <chr> & <dbl>\\\\\n\\hline\n\t RMSE & 5.954592\\\\\n\t MAE  & 5.361111\\\\\n\t MAPE & 1.764710\\\\\n\t MDAE & 5.011111\\\\\n\\end{tabular}\n",
            "text/plain": [
              "  eval_names eval_dma_1\n",
              "1 RMSE       5.954592  \n",
              "2 MAE        5.361111  \n",
              "3 MAPE       1.764710  \n",
              "4 MDAE       5.011111  "
            ]
          },
          "metadata": {}
        }
      ]
    },
    {
      "cell_type": "markdown",
      "source": [
        "#### Forecast 1 Year"
      ],
      "metadata": {
        "id": "S1X2k9nB3qYR"
      }
    },
    {
      "cell_type": "code",
      "source": [
        "forecast_dma_1 = model_dma_1[(len+1), 6]\n",
        "forecast_dma_1"
      ],
      "metadata": {
        "colab": {
          "base_uri": "https://localhost:8080/",
          "height": 34
        },
        "id": "uhyqgzVh3soT",
        "outputId": "b504fd19-49c6-4208-a1be-4f63d1ba1520"
      },
      "execution_count": null,
      "outputs": [
        {
          "output_type": "display_data",
          "data": {
            "text/html": [
              "<strong>prediction:</strong> -9.51111111111109"
            ],
            "text/markdown": "**prediction:** -9.51111111111109",
            "text/latex": "\\textbf{prediction:} -9.51111111111109",
            "text/plain": [
              "prediction \n",
              " -9.511111 "
            ]
          },
          "metadata": {}
        }
      ]
    },
    {
      "cell_type": "markdown",
      "source": [
        "#### Model 2 (n = 4)"
      ],
      "metadata": {
        "id": "bE47l2ozJpAd"
      }
    },
    {
      "cell_type": "code",
      "source": [
        "model_dma_2 = DMA(training, 4)\n",
        "model_dma_2"
      ],
      "metadata": {
        "colab": {
          "base_uri": "https://localhost:8080/",
          "height": 913
        },
        "outputId": "354f4a06-d53d-4f3e-d14b-34b0ad4558e6",
        "id": "g3s6YPdm4Svc"
      },
      "execution_count": null,
      "outputs": [
        {
          "output_type": "display_data",
          "data": {
            "text/html": [
              "<table class=\"dataframe\">\n",
              "<caption>A matrix: 27 × 6 of type dbl</caption>\n",
              "<thead>\n",
              "\t<tr><th scope=col>actual</th><th scope=col>SMA</th><th scope=col>DMA</th><th scope=col>At</th><th scope=col>Bt</th><th scope=col>prediction</th></tr>\n",
              "</thead>\n",
              "<tbody>\n",
              "\t<tr><td>69.1</td><td>    NA</td><td>       NA</td><td>      NA</td><td>        NA</td><td>         NA</td></tr>\n",
              "\t<tr><td>46.0</td><td>    NA</td><td>       NA</td><td>      NA</td><td>        NA</td><td>         NA</td></tr>\n",
              "\t<tr><td>43.6</td><td>    NA</td><td>       NA</td><td>      NA</td><td>        NA</td><td>         NA</td></tr>\n",
              "\t<tr><td>39.9</td><td>49.650</td><td>       NA</td><td>      NA</td><td>        NA</td><td>         NA</td></tr>\n",
              "\t<tr><td>26.8</td><td>39.075</td><td>       NA</td><td>      NA</td><td>        NA</td><td>         NA</td></tr>\n",
              "\t<tr><td>26.4</td><td>34.175</td><td>       NA</td><td>      NA</td><td>        NA</td><td>         NA</td></tr>\n",
              "\t<tr><td>27.0</td><td>30.025</td><td>16.347917</td><td>21.81875</td><td>-5.4708333</td><td>         NA</td></tr>\n",
              "\t<tr><td>24.6</td><td>26.200</td><td>15.918750</td><td>20.03125</td><td>-4.1125000</td><td> 16.3479167</td></tr>\n",
              "\t<tr><td>30.6</td><td>27.150</td><td>23.420833</td><td>24.91250</td><td>-1.4916667</td><td> 15.9187500</td></tr>\n",
              "\t<tr><td>25.2</td><td>26.850</td><td>25.672917</td><td>26.14375</td><td>-0.4708333</td><td> 23.4208333</td></tr>\n",
              "\t<tr><td>24.7</td><td>26.275</td><td>25.702083</td><td>25.93125</td><td>-0.2291667</td><td> 25.6729167</td></tr>\n",
              "\t<tr><td>21.0</td><td>25.375</td><td>23.645833</td><td>24.33750</td><td>-0.6916667</td><td> 25.7020833</td></tr>\n",
              "\t<tr><td>18.3</td><td>22.300</td><td>17.466667</td><td>19.40000</td><td>-1.9333333</td><td> 23.6458333</td></tr>\n",
              "\t<tr><td>15.7</td><td>19.925</td><td>14.018750</td><td>16.38125</td><td>-2.3625000</td><td> 17.4666667</td></tr>\n",
              "\t<tr><td>13.7</td><td>17.175</td><td>10.477083</td><td>13.15625</td><td>-2.6791667</td><td> 14.0187500</td></tr>\n",
              "\t<tr><td>11.2</td><td>14.725</td><td> 8.381250</td><td>10.91875</td><td>-2.5375000</td><td> 10.4770833</td></tr>\n",
              "\t<tr><td> 9.3</td><td>12.475</td><td> 6.475000</td><td> 8.87500</td><td>-2.4000000</td><td>  8.3812500</td></tr>\n",
              "\t<tr><td> 8.3</td><td>10.625</td><td> 5.416667</td><td> 7.50000</td><td>-2.0833333</td><td>  6.4750000</td></tr>\n",
              "\t<tr><td>  NA</td><td>    NA</td><td>       NA</td><td>      NA</td><td>        NA</td><td>  5.4166667</td></tr>\n",
              "\t<tr><td>  NA</td><td>    NA</td><td>       NA</td><td>      NA</td><td>        NA</td><td>  3.3333333</td></tr>\n",
              "\t<tr><td>  NA</td><td>    NA</td><td>       NA</td><td>      NA</td><td>        NA</td><td>  1.2500000</td></tr>\n",
              "\t<tr><td>  NA</td><td>    NA</td><td>       NA</td><td>      NA</td><td>        NA</td><td> -0.8333333</td></tr>\n",
              "\t<tr><td>  NA</td><td>    NA</td><td>       NA</td><td>      NA</td><td>        NA</td><td> -2.9166667</td></tr>\n",
              "\t<tr><td>  NA</td><td>    NA</td><td>       NA</td><td>      NA</td><td>        NA</td><td> -5.0000000</td></tr>\n",
              "\t<tr><td>  NA</td><td>    NA</td><td>       NA</td><td>      NA</td><td>        NA</td><td> -7.0833333</td></tr>\n",
              "\t<tr><td>  NA</td><td>    NA</td><td>       NA</td><td>      NA</td><td>        NA</td><td> -9.1666667</td></tr>\n",
              "\t<tr><td>  NA</td><td>    NA</td><td>       NA</td><td>      NA</td><td>        NA</td><td>-11.2500000</td></tr>\n",
              "</tbody>\n",
              "</table>\n"
            ],
            "text/markdown": "\nA matrix: 27 × 6 of type dbl\n\n| actual | SMA | DMA | At | Bt | prediction |\n|---|---|---|---|---|---|\n| 69.1 |     NA |        NA |       NA |         NA |          NA |\n| 46.0 |     NA |        NA |       NA |         NA |          NA |\n| 43.6 |     NA |        NA |       NA |         NA |          NA |\n| 39.9 | 49.650 |        NA |       NA |         NA |          NA |\n| 26.8 | 39.075 |        NA |       NA |         NA |          NA |\n| 26.4 | 34.175 |        NA |       NA |         NA |          NA |\n| 27.0 | 30.025 | 16.347917 | 21.81875 | -5.4708333 |          NA |\n| 24.6 | 26.200 | 15.918750 | 20.03125 | -4.1125000 |  16.3479167 |\n| 30.6 | 27.150 | 23.420833 | 24.91250 | -1.4916667 |  15.9187500 |\n| 25.2 | 26.850 | 25.672917 | 26.14375 | -0.4708333 |  23.4208333 |\n| 24.7 | 26.275 | 25.702083 | 25.93125 | -0.2291667 |  25.6729167 |\n| 21.0 | 25.375 | 23.645833 | 24.33750 | -0.6916667 |  25.7020833 |\n| 18.3 | 22.300 | 17.466667 | 19.40000 | -1.9333333 |  23.6458333 |\n| 15.7 | 19.925 | 14.018750 | 16.38125 | -2.3625000 |  17.4666667 |\n| 13.7 | 17.175 | 10.477083 | 13.15625 | -2.6791667 |  14.0187500 |\n| 11.2 | 14.725 |  8.381250 | 10.91875 | -2.5375000 |  10.4770833 |\n|  9.3 | 12.475 |  6.475000 |  8.87500 | -2.4000000 |   8.3812500 |\n|  8.3 | 10.625 |  5.416667 |  7.50000 | -2.0833333 |   6.4750000 |\n|   NA |     NA |        NA |       NA |         NA |   5.4166667 |\n|   NA |     NA |        NA |       NA |         NA |   3.3333333 |\n|   NA |     NA |        NA |       NA |         NA |   1.2500000 |\n|   NA |     NA |        NA |       NA |         NA |  -0.8333333 |\n|   NA |     NA |        NA |       NA |         NA |  -2.9166667 |\n|   NA |     NA |        NA |       NA |         NA |  -5.0000000 |\n|   NA |     NA |        NA |       NA |         NA |  -7.0833333 |\n|   NA |     NA |        NA |       NA |         NA |  -9.1666667 |\n|   NA |     NA |        NA |       NA |         NA | -11.2500000 |\n\n",
            "text/latex": "A matrix: 27 × 6 of type dbl\n\\begin{tabular}{llllll}\n actual & SMA & DMA & At & Bt & prediction\\\\\n\\hline\n\t 69.1 &     NA &        NA &       NA &         NA &          NA\\\\\n\t 46.0 &     NA &        NA &       NA &         NA &          NA\\\\\n\t 43.6 &     NA &        NA &       NA &         NA &          NA\\\\\n\t 39.9 & 49.650 &        NA &       NA &         NA &          NA\\\\\n\t 26.8 & 39.075 &        NA &       NA &         NA &          NA\\\\\n\t 26.4 & 34.175 &        NA &       NA &         NA &          NA\\\\\n\t 27.0 & 30.025 & 16.347917 & 21.81875 & -5.4708333 &          NA\\\\\n\t 24.6 & 26.200 & 15.918750 & 20.03125 & -4.1125000 &  16.3479167\\\\\n\t 30.6 & 27.150 & 23.420833 & 24.91250 & -1.4916667 &  15.9187500\\\\\n\t 25.2 & 26.850 & 25.672917 & 26.14375 & -0.4708333 &  23.4208333\\\\\n\t 24.7 & 26.275 & 25.702083 & 25.93125 & -0.2291667 &  25.6729167\\\\\n\t 21.0 & 25.375 & 23.645833 & 24.33750 & -0.6916667 &  25.7020833\\\\\n\t 18.3 & 22.300 & 17.466667 & 19.40000 & -1.9333333 &  23.6458333\\\\\n\t 15.7 & 19.925 & 14.018750 & 16.38125 & -2.3625000 &  17.4666667\\\\\n\t 13.7 & 17.175 & 10.477083 & 13.15625 & -2.6791667 &  14.0187500\\\\\n\t 11.2 & 14.725 &  8.381250 & 10.91875 & -2.5375000 &  10.4770833\\\\\n\t  9.3 & 12.475 &  6.475000 &  8.87500 & -2.4000000 &   8.3812500\\\\\n\t  8.3 & 10.625 &  5.416667 &  7.50000 & -2.0833333 &   6.4750000\\\\\n\t   NA &     NA &        NA &       NA &         NA &   5.4166667\\\\\n\t   NA &     NA &        NA &       NA &         NA &   3.3333333\\\\\n\t   NA &     NA &        NA &       NA &         NA &   1.2500000\\\\\n\t   NA &     NA &        NA &       NA &         NA &  -0.8333333\\\\\n\t   NA &     NA &        NA &       NA &         NA &  -2.9166667\\\\\n\t   NA &     NA &        NA &       NA &         NA &  -5.0000000\\\\\n\t   NA &     NA &        NA &       NA &         NA &  -7.0833333\\\\\n\t   NA &     NA &        NA &       NA &         NA &  -9.1666667\\\\\n\t   NA &     NA &        NA &       NA &         NA & -11.2500000\\\\\n\\end{tabular}\n",
            "text/plain": [
              "      actual SMA    DMA       At       Bt         prediction \n",
              " [1,] 69.1       NA        NA       NA         NA          NA\n",
              " [2,] 46.0       NA        NA       NA         NA          NA\n",
              " [3,] 43.6       NA        NA       NA         NA          NA\n",
              " [4,] 39.9   49.650        NA       NA         NA          NA\n",
              " [5,] 26.8   39.075        NA       NA         NA          NA\n",
              " [6,] 26.4   34.175        NA       NA         NA          NA\n",
              " [7,] 27.0   30.025 16.347917 21.81875 -5.4708333          NA\n",
              " [8,] 24.6   26.200 15.918750 20.03125 -4.1125000  16.3479167\n",
              " [9,] 30.6   27.150 23.420833 24.91250 -1.4916667  15.9187500\n",
              "[10,] 25.2   26.850 25.672917 26.14375 -0.4708333  23.4208333\n",
              "[11,] 24.7   26.275 25.702083 25.93125 -0.2291667  25.6729167\n",
              "[12,] 21.0   25.375 23.645833 24.33750 -0.6916667  25.7020833\n",
              "[13,] 18.3   22.300 17.466667 19.40000 -1.9333333  23.6458333\n",
              "[14,] 15.7   19.925 14.018750 16.38125 -2.3625000  17.4666667\n",
              "[15,] 13.7   17.175 10.477083 13.15625 -2.6791667  14.0187500\n",
              "[16,] 11.2   14.725  8.381250 10.91875 -2.5375000  10.4770833\n",
              "[17,]  9.3   12.475  6.475000  8.87500 -2.4000000   8.3812500\n",
              "[18,]  8.3   10.625  5.416667  7.50000 -2.0833333   6.4750000\n",
              "[19,]   NA       NA        NA       NA         NA   5.4166667\n",
              "[20,]   NA       NA        NA       NA         NA   3.3333333\n",
              "[21,]   NA       NA        NA       NA         NA   1.2500000\n",
              "[22,]   NA       NA        NA       NA         NA  -0.8333333\n",
              "[23,]   NA       NA        NA       NA         NA  -2.9166667\n",
              "[24,]   NA       NA        NA       NA         NA  -5.0000000\n",
              "[25,]   NA       NA        NA       NA         NA  -7.0833333\n",
              "[26,]   NA       NA        NA       NA         NA  -9.1666667\n",
              "[27,]   NA       NA        NA       NA         NA -11.2500000"
            ]
          },
          "metadata": {}
        }
      ]
    },
    {
      "cell_type": "markdown",
      "source": [
        "##### Model Evaluation"
      ],
      "metadata": {
        "id": "IhbHDmOW4Svf"
      }
    },
    {
      "cell_type": "code",
      "source": [
        "fit_dma_2 = model_dma_2[8:n_train, 6]\n",
        "fit_dma_2"
      ],
      "metadata": {
        "colab": {
          "base_uri": "https://localhost:8080/",
          "height": 34
        },
        "outputId": "01a25f49-0f7c-4628-c2ea-0b99d21c2a73",
        "id": "p1RObTWE4Svg"
      },
      "execution_count": null,
      "outputs": [
        {
          "output_type": "display_data",
          "data": {
            "text/html": [
              "<style>\n",
              ".list-inline {list-style: none; margin:0; padding: 0}\n",
              ".list-inline>li {display: inline-block}\n",
              ".list-inline>li:not(:last-child)::after {content: \"\\00b7\"; padding: 0 .5ex}\n",
              "</style>\n",
              "<ol class=list-inline><li>16.3479166666667</li><li>15.91875</li><li>23.4208333333333</li><li>25.6729166666667</li><li>25.7020833333333</li><li>23.6458333333333</li><li>17.4666666666667</li><li>14.01875</li><li>10.4770833333333</li><li>8.38125000000001</li><li>6.47500000000001</li></ol>\n"
            ],
            "text/markdown": "1. 16.3479166666667\n2. 15.91875\n3. 23.4208333333333\n4. 25.6729166666667\n5. 25.7020833333333\n6. 23.6458333333333\n7. 17.4666666666667\n8. 14.01875\n9. 10.4770833333333\n10. 8.38125000000001\n11. 6.47500000000001\n\n\n",
            "text/latex": "\\begin{enumerate*}\n\\item 16.3479166666667\n\\item 15.91875\n\\item 23.4208333333333\n\\item 25.6729166666667\n\\item 25.7020833333333\n\\item 23.6458333333333\n\\item 17.4666666666667\n\\item 14.01875\n\\item 10.4770833333333\n\\item 8.38125000000001\n\\item 6.47500000000001\n\\end{enumerate*}\n",
            "text/plain": [
              " [1] 16.34792 15.91875 23.42083 25.67292 25.70208 23.64583 17.46667 14.01875\n",
              " [9] 10.47708  8.38125  6.47500"
            ]
          },
          "metadata": {}
        }
      ]
    },
    {
      "cell_type": "code",
      "source": [
        "rmse_model_dma_2 = rmse(training[8:n_train], fit_dma_2)\n",
        "mae_model_dma_2 = mae(training[8:n_train], fit_dma_2)\n",
        "mape_model_dma_2 = mape(training[8:n_train], fit_dma_2)\n",
        "mdae_model_dma_2 = mdae(training[8:n_train], fit_dma_2)\n",
        "\n",
        "eval_model_dma_2 = c(rmse_model_dma_2, mae_model_dma_2, mape_model_dma_2, mdae_model_dma_2)\n",
        "\n",
        "data.frame(eval_names, eval_model_dma_2)"
      ],
      "metadata": {
        "colab": {
          "base_uri": "https://localhost:8080/",
          "height": 223
        },
        "outputId": "c43e82fd-a132-47de-a3d5-e98c304f5356",
        "id": "ZWVOZlMZ4Svh"
      },
      "execution_count": null,
      "outputs": [
        {
          "output_type": "display_data",
          "data": {
            "text/html": [
              "<table class=\"dataframe\">\n",
              "<caption>A data.frame: 4 × 2</caption>\n",
              "<thead>\n",
              "\t<tr><th scope=col>eval_names</th><th scope=col>eval_model_dma_2</th></tr>\n",
              "\t<tr><th scope=col>&lt;chr&gt;</th><th scope=col>&lt;dbl&gt;</th></tr>\n",
              "</thead>\n",
              "<tbody>\n",
              "\t<tr><td>RMSE</td><td>5.6113161</td></tr>\n",
              "\t<tr><td>MAE </td><td>3.7532197</td></tr>\n",
              "\t<tr><td>MAPE</td><td>0.1782055</td></tr>\n",
              "\t<tr><td>MDAE</td><td>1.7791667</td></tr>\n",
              "</tbody>\n",
              "</table>\n"
            ],
            "text/markdown": "\nA data.frame: 4 × 2\n\n| eval_names &lt;chr&gt; | eval_model_dma_2 &lt;dbl&gt; |\n|---|---|\n| RMSE | 5.6113161 |\n| MAE  | 3.7532197 |\n| MAPE | 0.1782055 |\n| MDAE | 1.7791667 |\n\n",
            "text/latex": "A data.frame: 4 × 2\n\\begin{tabular}{ll}\n eval\\_names & eval\\_model\\_dma\\_2\\\\\n <chr> & <dbl>\\\\\n\\hline\n\t RMSE & 5.6113161\\\\\n\t MAE  & 3.7532197\\\\\n\t MAPE & 0.1782055\\\\\n\t MDAE & 1.7791667\\\\\n\\end{tabular}\n",
            "text/plain": [
              "  eval_names eval_model_dma_2\n",
              "1 RMSE       5.6113161       \n",
              "2 MAE        3.7532197       \n",
              "3 MAPE       0.1782055       \n",
              "4 MDAE       1.7791667       "
            ]
          },
          "metadata": {}
        }
      ]
    },
    {
      "cell_type": "markdown",
      "source": [
        "##### Testing Prediction and Evaluation"
      ],
      "metadata": {
        "id": "vBiCasx34Svh"
      }
    },
    {
      "cell_type": "code",
      "source": [
        "predict_values_dma_2 = model_dma_2[(n_train+1):len, 6]\n",
        "predict_values_dma_2"
      ],
      "metadata": {
        "colab": {
          "base_uri": "https://localhost:8080/",
          "height": 34
        },
        "outputId": "6448c4b8-effc-40f0-f704-c8463e2f26cd",
        "id": "w0R-MEtf4Svi"
      },
      "execution_count": null,
      "outputs": [
        {
          "output_type": "display_data",
          "data": {
            "text/html": [
              "<style>\n",
              ".list-inline {list-style: none; margin:0; padding: 0}\n",
              ".list-inline>li {display: inline-block}\n",
              ".list-inline>li:not(:last-child)::after {content: \"\\00b7\"; padding: 0 .5ex}\n",
              "</style>\n",
              "<ol class=list-inline><li>5.41666666666667</li><li>3.33333333333334</li><li>1.25000000000001</li><li>-0.833333333333323</li><li>-2.91666666666665</li><li>-4.99999999999999</li><li>-7.08333333333332</li><li>-9.16666666666665</li></ol>\n"
            ],
            "text/markdown": "1. 5.41666666666667\n2. 3.33333333333334\n3. 1.25000000000001\n4. -0.833333333333323\n5. -2.91666666666665\n6. -4.99999999999999\n7. -7.08333333333332\n8. -9.16666666666665\n\n\n",
            "text/latex": "\\begin{enumerate*}\n\\item 5.41666666666667\n\\item 3.33333333333334\n\\item 1.25000000000001\n\\item -0.833333333333323\n\\item -2.91666666666665\n\\item -4.99999999999999\n\\item -7.08333333333332\n\\item -9.16666666666665\n\\end{enumerate*}\n",
            "text/plain": [
              "[1]  5.4166667  3.3333333  1.2500000 -0.8333333 -2.9166667 -5.0000000 -7.0833333\n",
              "[8] -9.1666667"
            ]
          },
          "metadata": {}
        }
      ]
    },
    {
      "cell_type": "code",
      "source": [
        "rmse_dma_2 = rmse(testing, predict_values_dma_2)\n",
        "mae_dma_2 = mae(testing, predict_values_dma_2)\n",
        "mape_dma_2 = mape(testing, predict_values_dma_2)\n",
        "mdae_dma_2 = mdae(testing, predict_values_dma_2)\n",
        "\n",
        "eval_dma_2 = c(rmse_dma_2, mae_dma_2, mape_dma_2, mdae_dma_2)\n",
        "\n",
        "data.frame(eval_names, eval_dma_2)"
      ],
      "metadata": {
        "colab": {
          "base_uri": "https://localhost:8080/",
          "height": 223
        },
        "outputId": "6dccabc1-dca1-446f-b5d1-9cbef018a920",
        "id": "w74olxW94Svi"
      },
      "execution_count": null,
      "outputs": [
        {
          "output_type": "display_data",
          "data": {
            "text/html": [
              "<table class=\"dataframe\">\n",
              "<caption>A data.frame: 4 × 2</caption>\n",
              "<thead>\n",
              "\t<tr><th scope=col>eval_names</th><th scope=col>eval_dma_2</th></tr>\n",
              "\t<tr><th scope=col>&lt;chr&gt;</th><th scope=col>&lt;dbl&gt;</th></tr>\n",
              "</thead>\n",
              "<tbody>\n",
              "\t<tr><td>RMSE</td><td>6.993717</td></tr>\n",
              "\t<tr><td>MAE </td><td>6.325000</td></tr>\n",
              "\t<tr><td>MAPE</td><td>2.073081</td></tr>\n",
              "\t<tr><td>MDAE</td><td>5.975000</td></tr>\n",
              "</tbody>\n",
              "</table>\n"
            ],
            "text/markdown": "\nA data.frame: 4 × 2\n\n| eval_names &lt;chr&gt; | eval_dma_2 &lt;dbl&gt; |\n|---|---|\n| RMSE | 6.993717 |\n| MAE  | 6.325000 |\n| MAPE | 2.073081 |\n| MDAE | 5.975000 |\n\n",
            "text/latex": "A data.frame: 4 × 2\n\\begin{tabular}{ll}\n eval\\_names & eval\\_dma\\_2\\\\\n <chr> & <dbl>\\\\\n\\hline\n\t RMSE & 6.993717\\\\\n\t MAE  & 6.325000\\\\\n\t MAPE & 2.073081\\\\\n\t MDAE & 5.975000\\\\\n\\end{tabular}\n",
            "text/plain": [
              "  eval_names eval_dma_2\n",
              "1 RMSE       6.993717  \n",
              "2 MAE        6.325000  \n",
              "3 MAPE       2.073081  \n",
              "4 MDAE       5.975000  "
            ]
          },
          "metadata": {}
        }
      ]
    },
    {
      "cell_type": "markdown",
      "source": [
        "#### Forecast 1 Year"
      ],
      "metadata": {
        "id": "TKqYM8D24Svj"
      }
    },
    {
      "cell_type": "code",
      "source": [
        "forecast_dma_2 = model_dma_2[(len+1), 6]\n",
        "forecast_dma_2"
      ],
      "metadata": {
        "colab": {
          "base_uri": "https://localhost:8080/",
          "height": 34
        },
        "outputId": "b3df8229-e878-4ae2-f064-9af3d7e46adb",
        "id": "yoEsRKwA4Svj"
      },
      "execution_count": null,
      "outputs": [
        {
          "output_type": "display_data",
          "data": {
            "text/html": [
              "<strong>prediction:</strong> -11.25"
            ],
            "text/markdown": "**prediction:** -11.25",
            "text/latex": "\\textbf{prediction:} -11.25",
            "text/plain": [
              "prediction \n",
              "    -11.25 "
            ]
          },
          "metadata": {}
        }
      ]
    },
    {
      "cell_type": "markdown",
      "source": [
        "#### Model 3 (n = 5)"
      ],
      "metadata": {
        "id": "lyNRw8Ji2DMI"
      }
    },
    {
      "cell_type": "code",
      "source": [
        "model_dma_3 = DMA(training, 5)\n",
        "model_dma_3"
      ],
      "metadata": {
        "colab": {
          "base_uri": "https://localhost:8080/",
          "height": 913
        },
        "outputId": "f5042975-c903-4ac5-96a2-e0d6e0d1b657",
        "id": "eJFlCArT49rt"
      },
      "execution_count": null,
      "outputs": [
        {
          "output_type": "display_data",
          "data": {
            "text/html": [
              "<table class=\"dataframe\">\n",
              "<caption>A matrix: 27 × 6 of type dbl</caption>\n",
              "<thead>\n",
              "\t<tr><th scope=col>actual</th><th scope=col>SMA</th><th scope=col>DMA</th><th scope=col>At</th><th scope=col>Bt</th><th scope=col>prediction</th></tr>\n",
              "</thead>\n",
              "<tbody>\n",
              "\t<tr><td>69.1</td><td>   NA</td><td>    NA</td><td>    NA</td><td>    NA</td><td>     NA</td></tr>\n",
              "\t<tr><td>46.0</td><td>   NA</td><td>    NA</td><td>    NA</td><td>    NA</td><td>     NA</td></tr>\n",
              "\t<tr><td>43.6</td><td>   NA</td><td>    NA</td><td>    NA</td><td>    NA</td><td>     NA</td></tr>\n",
              "\t<tr><td>39.9</td><td>   NA</td><td>    NA</td><td>    NA</td><td>    NA</td><td>     NA</td></tr>\n",
              "\t<tr><td>26.8</td><td>45.08</td><td>    NA</td><td>    NA</td><td>    NA</td><td>     NA</td></tr>\n",
              "\t<tr><td>26.4</td><td>36.54</td><td>    NA</td><td>    NA</td><td>    NA</td><td>     NA</td></tr>\n",
              "\t<tr><td>27.0</td><td>32.74</td><td>    NA</td><td>    NA</td><td>    NA</td><td>     NA</td></tr>\n",
              "\t<tr><td>24.6</td><td>28.94</td><td>    NA</td><td>    NA</td><td>    NA</td><td>     NA</td></tr>\n",
              "\t<tr><td>30.6</td><td>27.08</td><td>16.586</td><td>20.084</td><td>-3.498</td><td>     NA</td></tr>\n",
              "\t<tr><td>25.2</td><td>26.76</td><td>21.282</td><td>23.108</td><td>-1.826</td><td> 16.586</td></tr>\n",
              "\t<tr><td>24.7</td><td>26.42</td><td>23.468</td><td>24.452</td><td>-0.984</td><td> 21.282</td></tr>\n",
              "\t<tr><td>21.0</td><td>25.22</td><td>22.724</td><td>23.556</td><td>-0.832</td><td> 23.468</td></tr>\n",
              "\t<tr><td>18.3</td><td>23.96</td><td>21.068</td><td>22.032</td><td>-0.964</td><td> 22.724</td></tr>\n",
              "\t<tr><td>15.7</td><td>20.98</td><td>15.448</td><td>17.292</td><td>-1.844</td><td> 21.068</td></tr>\n",
              "\t<tr><td>13.7</td><td>18.68</td><td>12.122</td><td>14.308</td><td>-2.186</td><td> 15.448</td></tr>\n",
              "\t<tr><td>11.2</td><td>15.98</td><td> 8.504</td><td>10.996</td><td>-2.492</td><td> 12.122</td></tr>\n",
              "\t<tr><td> 9.3</td><td>13.64</td><td> 6.128</td><td> 8.632</td><td>-2.504</td><td>  8.504</td></tr>\n",
              "\t<tr><td> 8.3</td><td>11.64</td><td> 4.824</td><td> 7.096</td><td>-2.272</td><td>  6.128</td></tr>\n",
              "\t<tr><td>  NA</td><td>   NA</td><td>    NA</td><td>    NA</td><td>    NA</td><td>  4.824</td></tr>\n",
              "\t<tr><td>  NA</td><td>   NA</td><td>    NA</td><td>    NA</td><td>    NA</td><td>  2.552</td></tr>\n",
              "\t<tr><td>  NA</td><td>   NA</td><td>    NA</td><td>    NA</td><td>    NA</td><td>  0.280</td></tr>\n",
              "\t<tr><td>  NA</td><td>   NA</td><td>    NA</td><td>    NA</td><td>    NA</td><td> -1.992</td></tr>\n",
              "\t<tr><td>  NA</td><td>   NA</td><td>    NA</td><td>    NA</td><td>    NA</td><td> -4.264</td></tr>\n",
              "\t<tr><td>  NA</td><td>   NA</td><td>    NA</td><td>    NA</td><td>    NA</td><td> -6.536</td></tr>\n",
              "\t<tr><td>  NA</td><td>   NA</td><td>    NA</td><td>    NA</td><td>    NA</td><td> -8.808</td></tr>\n",
              "\t<tr><td>  NA</td><td>   NA</td><td>    NA</td><td>    NA</td><td>    NA</td><td>-11.080</td></tr>\n",
              "\t<tr><td>  NA</td><td>   NA</td><td>    NA</td><td>    NA</td><td>    NA</td><td>-13.352</td></tr>\n",
              "</tbody>\n",
              "</table>\n"
            ],
            "text/markdown": "\nA matrix: 27 × 6 of type dbl\n\n| actual | SMA | DMA | At | Bt | prediction |\n|---|---|---|---|---|---|\n| 69.1 |    NA |     NA |     NA |     NA |      NA |\n| 46.0 |    NA |     NA |     NA |     NA |      NA |\n| 43.6 |    NA |     NA |     NA |     NA |      NA |\n| 39.9 |    NA |     NA |     NA |     NA |      NA |\n| 26.8 | 45.08 |     NA |     NA |     NA |      NA |\n| 26.4 | 36.54 |     NA |     NA |     NA |      NA |\n| 27.0 | 32.74 |     NA |     NA |     NA |      NA |\n| 24.6 | 28.94 |     NA |     NA |     NA |      NA |\n| 30.6 | 27.08 | 16.586 | 20.084 | -3.498 |      NA |\n| 25.2 | 26.76 | 21.282 | 23.108 | -1.826 |  16.586 |\n| 24.7 | 26.42 | 23.468 | 24.452 | -0.984 |  21.282 |\n| 21.0 | 25.22 | 22.724 | 23.556 | -0.832 |  23.468 |\n| 18.3 | 23.96 | 21.068 | 22.032 | -0.964 |  22.724 |\n| 15.7 | 20.98 | 15.448 | 17.292 | -1.844 |  21.068 |\n| 13.7 | 18.68 | 12.122 | 14.308 | -2.186 |  15.448 |\n| 11.2 | 15.98 |  8.504 | 10.996 | -2.492 |  12.122 |\n|  9.3 | 13.64 |  6.128 |  8.632 | -2.504 |   8.504 |\n|  8.3 | 11.64 |  4.824 |  7.096 | -2.272 |   6.128 |\n|   NA |    NA |     NA |     NA |     NA |   4.824 |\n|   NA |    NA |     NA |     NA |     NA |   2.552 |\n|   NA |    NA |     NA |     NA |     NA |   0.280 |\n|   NA |    NA |     NA |     NA |     NA |  -1.992 |\n|   NA |    NA |     NA |     NA |     NA |  -4.264 |\n|   NA |    NA |     NA |     NA |     NA |  -6.536 |\n|   NA |    NA |     NA |     NA |     NA |  -8.808 |\n|   NA |    NA |     NA |     NA |     NA | -11.080 |\n|   NA |    NA |     NA |     NA |     NA | -13.352 |\n\n",
            "text/latex": "A matrix: 27 × 6 of type dbl\n\\begin{tabular}{llllll}\n actual & SMA & DMA & At & Bt & prediction\\\\\n\\hline\n\t 69.1 &    NA &     NA &     NA &     NA &      NA\\\\\n\t 46.0 &    NA &     NA &     NA &     NA &      NA\\\\\n\t 43.6 &    NA &     NA &     NA &     NA &      NA\\\\\n\t 39.9 &    NA &     NA &     NA &     NA &      NA\\\\\n\t 26.8 & 45.08 &     NA &     NA &     NA &      NA\\\\\n\t 26.4 & 36.54 &     NA &     NA &     NA &      NA\\\\\n\t 27.0 & 32.74 &     NA &     NA &     NA &      NA\\\\\n\t 24.6 & 28.94 &     NA &     NA &     NA &      NA\\\\\n\t 30.6 & 27.08 & 16.586 & 20.084 & -3.498 &      NA\\\\\n\t 25.2 & 26.76 & 21.282 & 23.108 & -1.826 &  16.586\\\\\n\t 24.7 & 26.42 & 23.468 & 24.452 & -0.984 &  21.282\\\\\n\t 21.0 & 25.22 & 22.724 & 23.556 & -0.832 &  23.468\\\\\n\t 18.3 & 23.96 & 21.068 & 22.032 & -0.964 &  22.724\\\\\n\t 15.7 & 20.98 & 15.448 & 17.292 & -1.844 &  21.068\\\\\n\t 13.7 & 18.68 & 12.122 & 14.308 & -2.186 &  15.448\\\\\n\t 11.2 & 15.98 &  8.504 & 10.996 & -2.492 &  12.122\\\\\n\t  9.3 & 13.64 &  6.128 &  8.632 & -2.504 &   8.504\\\\\n\t  8.3 & 11.64 &  4.824 &  7.096 & -2.272 &   6.128\\\\\n\t   NA &    NA &     NA &     NA &     NA &   4.824\\\\\n\t   NA &    NA &     NA &     NA &     NA &   2.552\\\\\n\t   NA &    NA &     NA &     NA &     NA &   0.280\\\\\n\t   NA &    NA &     NA &     NA &     NA &  -1.992\\\\\n\t   NA &    NA &     NA &     NA &     NA &  -4.264\\\\\n\t   NA &    NA &     NA &     NA &     NA &  -6.536\\\\\n\t   NA &    NA &     NA &     NA &     NA &  -8.808\\\\\n\t   NA &    NA &     NA &     NA &     NA & -11.080\\\\\n\t   NA &    NA &     NA &     NA &     NA & -13.352\\\\\n\\end{tabular}\n",
            "text/plain": [
              "      actual SMA   DMA    At     Bt     prediction\n",
              " [1,] 69.1      NA     NA     NA     NA      NA   \n",
              " [2,] 46.0      NA     NA     NA     NA      NA   \n",
              " [3,] 43.6      NA     NA     NA     NA      NA   \n",
              " [4,] 39.9      NA     NA     NA     NA      NA   \n",
              " [5,] 26.8   45.08     NA     NA     NA      NA   \n",
              " [6,] 26.4   36.54     NA     NA     NA      NA   \n",
              " [7,] 27.0   32.74     NA     NA     NA      NA   \n",
              " [8,] 24.6   28.94     NA     NA     NA      NA   \n",
              " [9,] 30.6   27.08 16.586 20.084 -3.498      NA   \n",
              "[10,] 25.2   26.76 21.282 23.108 -1.826  16.586   \n",
              "[11,] 24.7   26.42 23.468 24.452 -0.984  21.282   \n",
              "[12,] 21.0   25.22 22.724 23.556 -0.832  23.468   \n",
              "[13,] 18.3   23.96 21.068 22.032 -0.964  22.724   \n",
              "[14,] 15.7   20.98 15.448 17.292 -1.844  21.068   \n",
              "[15,] 13.7   18.68 12.122 14.308 -2.186  15.448   \n",
              "[16,] 11.2   15.98  8.504 10.996 -2.492  12.122   \n",
              "[17,]  9.3   13.64  6.128  8.632 -2.504   8.504   \n",
              "[18,]  8.3   11.64  4.824  7.096 -2.272   6.128   \n",
              "[19,]   NA      NA     NA     NA     NA   4.824   \n",
              "[20,]   NA      NA     NA     NA     NA   2.552   \n",
              "[21,]   NA      NA     NA     NA     NA   0.280   \n",
              "[22,]   NA      NA     NA     NA     NA  -1.992   \n",
              "[23,]   NA      NA     NA     NA     NA  -4.264   \n",
              "[24,]   NA      NA     NA     NA     NA  -6.536   \n",
              "[25,]   NA      NA     NA     NA     NA  -8.808   \n",
              "[26,]   NA      NA     NA     NA     NA -11.080   \n",
              "[27,]   NA      NA     NA     NA     NA -13.352   "
            ]
          },
          "metadata": {}
        }
      ]
    },
    {
      "cell_type": "markdown",
      "source": [
        "##### Model Evaluation"
      ],
      "metadata": {
        "id": "lmsEKzh149ru"
      }
    },
    {
      "cell_type": "code",
      "source": [
        "fit_dma_3 = model_dma_3[10:n_train, 6]\n",
        "fit_dma_3"
      ],
      "metadata": {
        "colab": {
          "base_uri": "https://localhost:8080/",
          "height": 34
        },
        "outputId": "043521dc-fe0c-4de3-88c2-343293b532c1",
        "id": "L2D55dwX49rv"
      },
      "execution_count": null,
      "outputs": [
        {
          "output_type": "display_data",
          "data": {
            "text/html": [
              "<style>\n",
              ".list-inline {list-style: none; margin:0; padding: 0}\n",
              ".list-inline>li {display: inline-block}\n",
              ".list-inline>li:not(:last-child)::after {content: \"\\00b7\"; padding: 0 .5ex}\n",
              "</style>\n",
              "<ol class=list-inline><li>16.586</li><li>21.282</li><li>23.468</li><li>22.724</li><li>21.068</li><li>15.448</li><li>12.122</li><li>8.50399999999999</li><li>6.12799999999998</li></ol>\n"
            ],
            "text/markdown": "1. 16.586\n2. 21.282\n3. 23.468\n4. 22.724\n5. 21.068\n6. 15.448\n7. 12.122\n8. 8.50399999999999\n9. 6.12799999999998\n\n\n",
            "text/latex": "\\begin{enumerate*}\n\\item 16.586\n\\item 21.282\n\\item 23.468\n\\item 22.724\n\\item 21.068\n\\item 15.448\n\\item 12.122\n\\item 8.50399999999999\n\\item 6.12799999999998\n\\end{enumerate*}\n",
            "text/plain": [
              "[1] 16.586 21.282 23.468 22.724 21.068 15.448 12.122  8.504  6.128"
            ]
          },
          "metadata": {}
        }
      ]
    },
    {
      "cell_type": "code",
      "source": [
        "rmse_model_dma_3 = rmse(training[10:n_train], fit_dma_3)\n",
        "mae_model_dma_3 = mae(training[10:n_train], fit_dma_3)\n",
        "mape_model_dma_3 = mape(training[10:n_train], fit_dma_3)\n",
        "mdae_model_dma_3 = mdae(training[10:n_train], fit_dma_3)\n",
        "\n",
        "eval_model_dma_3 = c(rmse_model_dma_3, mae_model_dma_3, mape_model_dma_3, mdae_model_dma_3)\n",
        "\n",
        "data.frame(eval_names, eval_model_dma_3)"
      ],
      "metadata": {
        "colab": {
          "base_uri": "https://localhost:8080/",
          "height": 223
        },
        "outputId": "c79f0e2c-780d-4c3e-86ff-46deac0ed36c",
        "id": "ANKDBb3q49rv"
      },
      "execution_count": null,
      "outputs": [
        {
          "output_type": "display_data",
          "data": {
            "text/html": [
              "<table class=\"dataframe\">\n",
              "<caption>A data.frame: 4 × 2</caption>\n",
              "<thead>\n",
              "\t<tr><th scope=col>eval_names</th><th scope=col>eval_model_dma_3</th></tr>\n",
              "\t<tr><th scope=col>&lt;chr&gt;</th><th scope=col>&lt;dbl&gt;</th></tr>\n",
              "</thead>\n",
              "<tbody>\n",
              "\t<tr><td>RMSE</td><td>4.0772912</td></tr>\n",
              "\t<tr><td>MAE </td><td>3.3255556</td></tr>\n",
              "\t<tr><td>MAPE</td><td>0.1931756</td></tr>\n",
              "\t<tr><td>MDAE</td><td>2.4680000</td></tr>\n",
              "</tbody>\n",
              "</table>\n"
            ],
            "text/markdown": "\nA data.frame: 4 × 2\n\n| eval_names &lt;chr&gt; | eval_model_dma_3 &lt;dbl&gt; |\n|---|---|\n| RMSE | 4.0772912 |\n| MAE  | 3.3255556 |\n| MAPE | 0.1931756 |\n| MDAE | 2.4680000 |\n\n",
            "text/latex": "A data.frame: 4 × 2\n\\begin{tabular}{ll}\n eval\\_names & eval\\_model\\_dma\\_3\\\\\n <chr> & <dbl>\\\\\n\\hline\n\t RMSE & 4.0772912\\\\\n\t MAE  & 3.3255556\\\\\n\t MAPE & 0.1931756\\\\\n\t MDAE & 2.4680000\\\\\n\\end{tabular}\n",
            "text/plain": [
              "  eval_names eval_model_dma_3\n",
              "1 RMSE       4.0772912       \n",
              "2 MAE        3.3255556       \n",
              "3 MAPE       0.1931756       \n",
              "4 MDAE       2.4680000       "
            ]
          },
          "metadata": {}
        }
      ]
    },
    {
      "cell_type": "markdown",
      "source": [
        "##### Testing Prediction and Evaluation"
      ],
      "metadata": {
        "id": "3CEFxNSR49rw"
      }
    },
    {
      "cell_type": "code",
      "source": [
        "predict_values_dma_3 = model_dma_3[(n_train+1):len, 6]\n",
        "predict_values_dma_3"
      ],
      "metadata": {
        "colab": {
          "base_uri": "https://localhost:8080/",
          "height": 34
        },
        "outputId": "c70d27e4-04b5-44ee-a767-53dd052812ed",
        "id": "qRAJACFL49rw"
      },
      "execution_count": null,
      "outputs": [
        {
          "output_type": "display_data",
          "data": {
            "text/html": [
              "<style>\n",
              ".list-inline {list-style: none; margin:0; padding: 0}\n",
              ".list-inline>li {display: inline-block}\n",
              ".list-inline>li:not(:last-child)::after {content: \"\\00b7\"; padding: 0 .5ex}\n",
              "</style>\n",
              "<ol class=list-inline><li>4.82399999999998</li><li>2.55199999999998</li><li>0.279999999999972</li><li>-1.99200000000003</li><li>-4.26400000000004</li><li>-6.53600000000004</li><li>-8.80800000000005</li><li>-11.0800000000001</li></ol>\n"
            ],
            "text/markdown": "1. 4.82399999999998\n2. 2.55199999999998\n3. 0.279999999999972\n4. -1.99200000000003\n5. -4.26400000000004\n6. -6.53600000000004\n7. -8.80800000000005\n8. -11.0800000000001\n\n\n",
            "text/latex": "\\begin{enumerate*}\n\\item 4.82399999999998\n\\item 2.55199999999998\n\\item 0.279999999999972\n\\item -1.99200000000003\n\\item -4.26400000000004\n\\item -6.53600000000004\n\\item -8.80800000000005\n\\item -11.0800000000001\n\\end{enumerate*}\n",
            "text/plain": [
              "[1]   4.824   2.552   0.280  -1.992  -4.264  -6.536  -8.808 -11.080"
            ]
          },
          "metadata": {}
        }
      ]
    },
    {
      "cell_type": "code",
      "source": [
        "rmse_dma_3 = rmse(testing, predict_values_dma_3)\n",
        "mae_dma_3 = mae(testing, predict_values_dma_3)\n",
        "mape_dma_3 = mape(testing, predict_values_dma_3)\n",
        "mdae_dma_3 = mdae(testing, predict_values_dma_3)\n",
        "\n",
        "eval_dma_3 = c(rmse_dma_3, mae_dma_3, mape_dma_3, mdae_dma_3)\n",
        "\n",
        "data.frame(eval_names, eval_dma_3)"
      ],
      "metadata": {
        "colab": {
          "base_uri": "https://localhost:8080/",
          "height": 223
        },
        "outputId": "31c53264-0229-4d9b-9b6a-53b5914061d3",
        "id": "Mm9XAMNS49rw"
      },
      "execution_count": null,
      "outputs": [
        {
          "output_type": "display_data",
          "data": {
            "text/html": [
              "<table class=\"dataframe\">\n",
              "<caption>A data.frame: 4 × 2</caption>\n",
              "<thead>\n",
              "\t<tr><th scope=col>eval_names</th><th scope=col>eval_dma_3</th></tr>\n",
              "\t<tr><th scope=col>&lt;chr&gt;</th><th scope=col>&lt;dbl&gt;</th></tr>\n",
              "</thead>\n",
              "<tbody>\n",
              "\t<tr><td>RMSE</td><td>8.312039</td></tr>\n",
              "\t<tr><td>MAE </td><td>7.578000</td></tr>\n",
              "\t<tr><td>MAPE</td><td>2.464415</td></tr>\n",
              "\t<tr><td>MDAE</td><td>7.228000</td></tr>\n",
              "</tbody>\n",
              "</table>\n"
            ],
            "text/markdown": "\nA data.frame: 4 × 2\n\n| eval_names &lt;chr&gt; | eval_dma_3 &lt;dbl&gt; |\n|---|---|\n| RMSE | 8.312039 |\n| MAE  | 7.578000 |\n| MAPE | 2.464415 |\n| MDAE | 7.228000 |\n\n",
            "text/latex": "A data.frame: 4 × 2\n\\begin{tabular}{ll}\n eval\\_names & eval\\_dma\\_3\\\\\n <chr> & <dbl>\\\\\n\\hline\n\t RMSE & 8.312039\\\\\n\t MAE  & 7.578000\\\\\n\t MAPE & 2.464415\\\\\n\t MDAE & 7.228000\\\\\n\\end{tabular}\n",
            "text/plain": [
              "  eval_names eval_dma_3\n",
              "1 RMSE       8.312039  \n",
              "2 MAE        7.578000  \n",
              "3 MAPE       2.464415  \n",
              "4 MDAE       7.228000  "
            ]
          },
          "metadata": {}
        }
      ]
    },
    {
      "cell_type": "markdown",
      "source": [
        "#### Forecast 1 Year"
      ],
      "metadata": {
        "id": "R6bVcfiO49rx"
      }
    },
    {
      "cell_type": "code",
      "source": [
        "forecast_dma_3 = model_dma_3[(len+1), 6]\n",
        "forecast_dma_3"
      ],
      "metadata": {
        "colab": {
          "base_uri": "https://localhost:8080/",
          "height": 34
        },
        "outputId": "06f1780b-0a24-4821-cd2e-5cb078a2acfc",
        "id": "T4kbHJ7x49ry"
      },
      "execution_count": null,
      "outputs": [
        {
          "output_type": "display_data",
          "data": {
            "text/html": [
              "<strong>prediction:</strong> -13.3520000000001"
            ],
            "text/markdown": "**prediction:** -13.3520000000001",
            "text/latex": "\\textbf{prediction:} -13.3520000000001",
            "text/plain": [
              "prediction \n",
              "   -13.352 "
            ]
          },
          "metadata": {}
        }
      ]
    },
    {
      "cell_type": "markdown",
      "metadata": {
        "id": "ZzYPAdhrSPLx"
      },
      "source": [
        "### Double Exponential Smoothing (DES) Model [DONE]"
      ]
    },
    {
      "cell_type": "markdown",
      "metadata": {
        "id": "oKe2V8lsxKL_"
      },
      "source": [
        "#### Model 1 (AAN)"
      ]
    },
    {
      "cell_type": "code",
      "execution_count": null,
      "metadata": {
        "colab": {
          "base_uri": "https://localhost:8080/",
          "height": 455
        },
        "id": "o1HZZhOwt6mN",
        "outputId": "d8faab5c-dde8-433e-bf46-21834902f136"
      },
      "outputs": [
        {
          "output_type": "display_data",
          "data": {
            "text/plain": [
              "ETS(A,Ad,N) \n",
              "\n",
              "Call:\n",
              " ets(y = training, model = \"AAN\") \n",
              "\n",
              "  Smoothing parameters:\n",
              "    alpha = 0.6395 \n",
              "    beta  = 1e-04 \n",
              "    phi   = 0.8027 \n",
              "\n",
              "  Initial states:\n",
              "    l = 79.0694 \n",
              "    b = -17.0788 \n",
              "\n",
              "  sigma:  5.1886\n",
              "\n",
              "     AIC     AICc      BIC \n",
              "117.4419 125.0783 122.7841 \n",
              "\n",
              "Training set error measures:\n",
              "                     ME     RMSE      MAE       MPE     MAPE      MASE\n",
              "Training set -0.1787189 4.409477 3.532705 -4.644224 14.85858 0.8115674\n",
              "                    ACF1\n",
              "Training set -0.05435224"
            ]
          },
          "metadata": {}
        }
      ],
      "source": [
        "model_des_1 = ets(training, model = \"AAN\")\n",
        "summary(model_des_1)"
      ]
    },
    {
      "cell_type": "code",
      "execution_count": null,
      "metadata": {
        "colab": {
          "base_uri": "https://localhost:8080/",
          "height": 666
        },
        "id": "OO6TO_DQXw1r",
        "outputId": "ee14946f-3520-4425-f78c-577d0ca75455"
      },
      "outputs": [
        {
          "output_type": "display_data",
          "data": {
            "text/html": [
              "<table class=\"dataframe\">\n",
              "<caption>A Time Series: 18 × 1</caption>\n",
              "<thead>\n",
              "\t<tr><th scope=col>y</th></tr>\n",
              "</thead>\n",
              "<tbody>\n",
              "\t<tr><td>65.360629</td></tr>\n",
              "\t<tr><td>56.748586</td></tr>\n",
              "\t<tr><td>41.041819</td></tr>\n",
              "\t<tr><td>35.587936</td></tr>\n",
              "\t<tr><td>32.655008</td></tr>\n",
              "\t<tr><td>24.342610</td></tr>\n",
              "\t<tr><td>21.991774</td></tr>\n",
              "\t<tr><td>22.251904</td></tr>\n",
              "\t<tr><td>21.391716</td></tr>\n",
              "\t<tr><td>25.385416</td></tr>\n",
              "\t<tr><td>23.745737</td></tr>\n",
              "\t<tr><td>23.135113</td></tr>\n",
              "\t<tr><td>20.789561</td></tr>\n",
              "\t<tr><td>18.410544</td></tr>\n",
              "\t<tr><td>16.045271</td></tr>\n",
              "\t<tr><td>14.038086</td></tr>\n",
              "\t<tr><td>11.815634</td></tr>\n",
              "\t<tr><td> 9.879596</td></tr>\n",
              "</tbody>\n",
              "</table>\n"
            ],
            "text/markdown": "\nA Time Series: 18 × 1\n\n| y |\n|---|\n| 65.360629 |\n| 56.748586 |\n| 41.041819 |\n| 35.587936 |\n| 32.655008 |\n| 24.342610 |\n| 21.991774 |\n| 22.251904 |\n| 21.391716 |\n| 25.385416 |\n| 23.745737 |\n| 23.135113 |\n| 20.789561 |\n| 18.410544 |\n| 16.045271 |\n| 14.038086 |\n| 11.815634 |\n|  9.879596 |\n\n",
            "text/latex": "A Time Series: 18 × 1\n\\begin{tabular}{l}\n y\\\\\n\\hline\n\t 65.360629\\\\\n\t 56.748586\\\\\n\t 41.041819\\\\\n\t 35.587936\\\\\n\t 32.655008\\\\\n\t 24.342610\\\\\n\t 21.991774\\\\\n\t 22.251904\\\\\n\t 21.391716\\\\\n\t 25.385416\\\\\n\t 23.745737\\\\\n\t 23.135113\\\\\n\t 20.789561\\\\\n\t 18.410544\\\\\n\t 16.045271\\\\\n\t 14.038086\\\\\n\t 11.815634\\\\\n\t  9.879596\\\\\n\\end{tabular}\n",
            "text/plain": [
              "      y        \n",
              " [1,] 65.360629\n",
              " [2,] 56.748586\n",
              " [3,] 41.041819\n",
              " [4,] 35.587936\n",
              " [5,] 32.655008\n",
              " [6,] 24.342610\n",
              " [7,] 21.991774\n",
              " [8,] 22.251904\n",
              " [9,] 21.391716\n",
              "[10,] 25.385416\n",
              "[11,] 23.745737\n",
              "[12,] 23.135113\n",
              "[13,] 20.789561\n",
              "[14,] 18.410544\n",
              "[15,] 16.045271\n",
              "[16,] 14.038086\n",
              "[17,] 11.815634\n",
              "[18,]  9.879596"
            ]
          },
          "metadata": {}
        }
      ],
      "source": [
        "fit_des_1 = model_des_1$fitted\n",
        "fit_des_1"
      ]
    },
    {
      "cell_type": "markdown",
      "metadata": {
        "id": "29TMRUVtWfLQ"
      },
      "source": [
        "##### Model Evaluation"
      ]
    },
    {
      "cell_type": "code",
      "execution_count": null,
      "metadata": {
        "colab": {
          "base_uri": "https://localhost:8080/",
          "height": 223
        },
        "id": "bCVBUJ3nWhtz",
        "outputId": "53e22fe6-0221-4798-95a6-46791661c74c"
      },
      "outputs": [
        {
          "output_type": "display_data",
          "data": {
            "text/html": [
              "<table class=\"dataframe\">\n",
              "<caption>A data.frame: 4 × 2</caption>\n",
              "<thead>\n",
              "\t<tr><th scope=col>eval_names</th><th scope=col>eval_model_des_1</th></tr>\n",
              "\t<tr><th scope=col>&lt;chr&gt;</th><th scope=col>&lt;dbl&gt;</th></tr>\n",
              "</thead>\n",
              "<tbody>\n",
              "\t<tr><td>RMSE</td><td>4.4094769</td></tr>\n",
              "\t<tr><td>MAE </td><td>3.5327050</td></tr>\n",
              "\t<tr><td>MAPE</td><td>0.1485858</td></tr>\n",
              "\t<tr><td>MDAE</td><td>2.5369078</td></tr>\n",
              "</tbody>\n",
              "</table>\n"
            ],
            "text/markdown": "\nA data.frame: 4 × 2\n\n| eval_names &lt;chr&gt; | eval_model_des_1 &lt;dbl&gt; |\n|---|---|\n| RMSE | 4.4094769 |\n| MAE  | 3.5327050 |\n| MAPE | 0.1485858 |\n| MDAE | 2.5369078 |\n\n",
            "text/latex": "A data.frame: 4 × 2\n\\begin{tabular}{ll}\n eval\\_names & eval\\_model\\_des\\_1\\\\\n <chr> & <dbl>\\\\\n\\hline\n\t RMSE & 4.4094769\\\\\n\t MAE  & 3.5327050\\\\\n\t MAPE & 0.1485858\\\\\n\t MDAE & 2.5369078\\\\\n\\end{tabular}\n",
            "text/plain": [
              "  eval_names eval_model_des_1\n",
              "1 RMSE       4.4094769       \n",
              "2 MAE        3.5327050       \n",
              "3 MAPE       0.1485858       \n",
              "4 MDAE       2.5369078       "
            ]
          },
          "metadata": {}
        }
      ],
      "source": [
        "rmse_model_des_1 = rmse(training, fit_des_1)\n",
        "mae_model_des_1 = mae(training, fit_des_1)\n",
        "mape_model_des_1 = mape(training, fit_des_1)\n",
        "mdae_model_des_1 = mdae(training, fit_des_1)\n",
        "\n",
        "eval_model_des_1 = c(rmse_model_des_1, mae_model_des_1, mape_model_des_1, mdae_model_des_1)\n",
        "\n",
        "data.frame(eval_names, eval_model_des_1)"
      ]
    },
    {
      "cell_type": "markdown",
      "metadata": {
        "id": "CsboNtRqWRg1"
      },
      "source": [
        "##### Testing Data Prediction"
      ]
    },
    {
      "cell_type": "code",
      "execution_count": null,
      "metadata": {
        "colab": {
          "base_uri": "https://localhost:8080/",
          "height": 181
        },
        "id": "6l-3KLeGUYTq",
        "outputId": "bd002c12-5876-45d5-acbc-14b71af58e8f"
      },
      "outputs": [
        {
          "output_type": "display_data",
          "data": {
            "text/plain": [
              "     Point Forecast      Lo 80    Hi 80      Lo 95    Hi 95\n",
              "2016       8.606611  1.9571303 15.25609  -1.562892 18.77611\n",
              "2017       8.395645  0.5024376 16.28885  -3.675974 20.46726\n",
              "2018       8.226307 -0.7399346 17.19255  -5.486376 21.93899\n",
              "2019       8.090383 -1.8336874 18.01445  -7.087173 23.26794\n",
              "2020       7.981281 -2.8160903 18.77865  -8.531873 24.49443\n",
              "2021       7.893707 -3.7115142 19.49893  -9.854947 25.64236\n",
              "2022       7.823413 -4.5370316 20.18386 -11.080256 26.72708\n",
              "2023       7.766990 -5.3051655 20.83915 -12.225147 27.75913"
            ]
          },
          "metadata": {}
        }
      ],
      "source": [
        "predict_des_1 = forecast(model_des_1, h = length(testing))\n",
        "predict_des_1"
      ]
    },
    {
      "cell_type": "code",
      "execution_count": null,
      "metadata": {
        "colab": {
          "base_uri": "https://localhost:8080/",
          "height": 52
        },
        "id": "OibLkg_rUhXD",
        "outputId": "8c515d74-01e1-477d-d4e3-df46fabde944"
      },
      "outputs": [
        {
          "output_type": "display_data",
          "data": {
            "text/html": [
              "A Time Series:<br><style>\n",
              ".list-inline {list-style: none; margin:0; padding: 0}\n",
              ".list-inline>li {display: inline-block}\n",
              ".list-inline>li:not(:last-child)::after {content: \"\\00b7\"; padding: 0 .5ex}\n",
              "</style>\n",
              "<ol class=list-inline><li>8.6066111064196</li><li>8.39564458395431</li><li>8.22630677018947</li><li>8.09038333155302</li><li>7.98128081770804</li><li>7.89370682276864</li><li>7.82341325830922</li><li>7.7669902847104</li></ol>\n"
            ],
            "text/markdown": "A Time Series:  \n1. 8.6066111064196\n2. 8.39564458395431\n3. 8.22630677018947\n4. 8.09038333155302\n5. 7.98128081770804\n6. 7.89370682276864\n7. 7.82341325830922\n8. 7.7669902847104\n\n\n",
            "text/latex": "A Time Series:\\\\\\begin{enumerate*}\n\\item 8.6066111064196\n\\item 8.39564458395431\n\\item 8.22630677018947\n\\item 8.09038333155302\n\\item 7.98128081770804\n\\item 7.89370682276864\n\\item 7.82341325830922\n\\item 7.7669902847104\n\\end{enumerate*}\n",
            "text/plain": [
              "A Time Series:\n",
              "[1] 8.606611 8.395645 8.226307 8.090383 7.981281 7.893707 7.823413 7.766990"
            ]
          },
          "metadata": {}
        }
      ],
      "source": [
        "predict_values_des_1 = predict_des_1$mean\n",
        "predict_values_des_1"
      ]
    },
    {
      "cell_type": "markdown",
      "metadata": {
        "id": "9ECq6KvgWXJo"
      },
      "source": [
        "##### Prediction Evaluation"
      ]
    },
    {
      "cell_type": "code",
      "execution_count": null,
      "metadata": {
        "colab": {
          "base_uri": "https://localhost:8080/",
          "height": 223
        },
        "id": "o21w7xMmU2O9",
        "outputId": "a5250f46-4b70-463c-c5e1-7473e305bb02"
      },
      "outputs": [
        {
          "output_type": "display_data",
          "data": {
            "text/html": [
              "<table class=\"dataframe\">\n",
              "<caption>A data.frame: 4 × 2</caption>\n",
              "<thead>\n",
              "\t<tr><th scope=col>eval_names</th><th scope=col>eval_des_1</th></tr>\n",
              "\t<tr><th scope=col>&lt;chr&gt;</th><th scope=col>&lt;dbl&gt;</th></tr>\n",
              "</thead>\n",
              "<tbody>\n",
              "\t<tr><td>RMSE</td><td>3.962385</td></tr>\n",
              "\t<tr><td>MAE </td><td>3.648042</td></tr>\n",
              "\t<tr><td>MAPE</td><td>1.169333</td></tr>\n",
              "\t<tr><td>MDAE</td><td>3.935832</td></tr>\n",
              "</tbody>\n",
              "</table>\n"
            ],
            "text/markdown": "\nA data.frame: 4 × 2\n\n| eval_names &lt;chr&gt; | eval_des_1 &lt;dbl&gt; |\n|---|---|\n| RMSE | 3.962385 |\n| MAE  | 3.648042 |\n| MAPE | 1.169333 |\n| MDAE | 3.935832 |\n\n",
            "text/latex": "A data.frame: 4 × 2\n\\begin{tabular}{ll}\n eval\\_names & eval\\_des\\_1\\\\\n <chr> & <dbl>\\\\\n\\hline\n\t RMSE & 3.962385\\\\\n\t MAE  & 3.648042\\\\\n\t MAPE & 1.169333\\\\\n\t MDAE & 3.935832\\\\\n\\end{tabular}\n",
            "text/plain": [
              "  eval_names eval_des_1\n",
              "1 RMSE       3.962385  \n",
              "2 MAE        3.648042  \n",
              "3 MAPE       1.169333  \n",
              "4 MDAE       3.935832  "
            ]
          },
          "metadata": {}
        }
      ],
      "source": [
        "rmse_des_1 = rmse(testing, predict_values_des_1)\n",
        "mae_des_1 = mae(testing, predict_values_des_1)\n",
        "mape_des_1 = mape(testing, predict_values_des_1)\n",
        "mdae_des_1 = mdae(testing, predict_values_des_1)\n",
        "\n",
        "eval_des_1 = c(rmse_des_1, mae_des_1, mape_des_1, mdae_des_1)\n",
        "\n",
        "data.frame(eval_names, eval_des_1)"
      ]
    },
    {
      "cell_type": "markdown",
      "metadata": {
        "id": "Jhxqn3NLZu4k"
      },
      "source": [
        "##### Forecast 1 year"
      ]
    },
    {
      "cell_type": "code",
      "execution_count": null,
      "metadata": {
        "colab": {
          "base_uri": "https://localhost:8080/",
          "height": 34
        },
        "id": "RYgCmFZ5Zu4l",
        "outputId": "7cd6f473-0230-43cf-f02f-94ea1fd6576f"
      },
      "outputs": [
        {
          "output_type": "display_data",
          "data": {
            "text/html": [
              "7.72170090474772"
            ],
            "text/markdown": "7.72170090474772",
            "text/latex": "7.72170090474772",
            "text/plain": [
              "[1] 7.721701"
            ]
          },
          "metadata": {}
        }
      ],
      "source": [
        "forecast_des_1 = forecast(model_des_1, h = length(testing)+1)$mean[length(testing)+1]\n",
        "forecast_des_1"
      ]
    },
    {
      "cell_type": "markdown",
      "metadata": {
        "id": "EitsVAdbxJGu"
      },
      "source": [
        "#### Model 2 (MAN)"
      ]
    },
    {
      "cell_type": "code",
      "execution_count": null,
      "metadata": {
        "colab": {
          "base_uri": "https://localhost:8080/",
          "height": 400
        },
        "id": "v8kS9PHQxTlx",
        "outputId": "2bb8191a-07f4-4732-8f31-4d302e4a7265"
      },
      "outputs": [
        {
          "output_type": "display_data",
          "data": {
            "text/plain": [
              "ETS(M,A,N) \n",
              "\n",
              "Call:\n",
              " ets(y = training, model = \"MAN\") \n",
              "\n",
              "  Smoothing parameters:\n",
              "    alpha = 0.9357 \n",
              "    beta  = 1e-04 \n",
              "\n",
              "  Initial states:\n",
              "    l = 68.6402 \n",
              "    b = -1.8804 \n",
              "\n",
              "  sigma:  0.1614\n",
              "\n",
              "     AIC     AICc      BIC \n",
              "106.0563 111.0563 110.5082 \n",
              "\n",
              "Training set error measures:\n",
              "                    ME    RMSE      MAE       MPE     MAPE      MASE       ACF1\n",
              "Training set -1.573678 6.10271 3.302282 -4.426504 10.72965 0.7586323 -0.1174408"
            ]
          },
          "metadata": {}
        }
      ],
      "source": [
        "model_des_2 = ets(training, model = \"MAN\")\n",
        "summary(model_des_2)"
      ]
    },
    {
      "cell_type": "code",
      "execution_count": null,
      "metadata": {
        "colab": {
          "base_uri": "https://localhost:8080/",
          "height": 666
        },
        "id": "yHsVQbrhYBDt",
        "outputId": "f8bc95d2-fcb8-48cf-9119-ee33227cefc6"
      },
      "outputs": [
        {
          "output_type": "display_data",
          "data": {
            "text/html": [
              "<table class=\"dataframe\">\n",
              "<caption>A Time Series: 18 × 1</caption>\n",
              "<thead>\n",
              "\t<tr><th scope=col>y</th></tr>\n",
              "</thead>\n",
              "<tbody>\n",
              "\t<tr><td>66.759770</td></tr>\n",
              "\t<tr><td>67.069458</td></tr>\n",
              "\t<tr><td>45.471501</td></tr>\n",
              "\t<tr><td>41.837780</td></tr>\n",
              "\t<tr><td>38.141845</td></tr>\n",
              "\t<tr><td>25.644952</td></tr>\n",
              "\t<tr><td>24.467762</td></tr>\n",
              "\t<tr><td>24.953824</td></tr>\n",
              "\t<tr><td>22.739228</td></tr>\n",
              "\t<tr><td>28.212200</td></tr>\n",
              "\t<tr><td>23.510523</td></tr>\n",
              "\t<tr><td>22.740670</td></tr>\n",
              "\t<tr><td>19.228768</td></tr>\n",
              "\t<tr><td>16.476508</td></tr>\n",
              "\t<tr><td>13.866647</td></tr>\n",
              "\t<tr><td>11.827444</td></tr>\n",
              "\t<tr><td> 9.356989</td></tr>\n",
              "\t<tr><td> 7.420330</td></tr>\n",
              "</tbody>\n",
              "</table>\n"
            ],
            "text/markdown": "\nA Time Series: 18 × 1\n\n| y |\n|---|\n| 66.759770 |\n| 67.069458 |\n| 45.471501 |\n| 41.837780 |\n| 38.141845 |\n| 25.644952 |\n| 24.467762 |\n| 24.953824 |\n| 22.739228 |\n| 28.212200 |\n| 23.510523 |\n| 22.740670 |\n| 19.228768 |\n| 16.476508 |\n| 13.866647 |\n| 11.827444 |\n|  9.356989 |\n|  7.420330 |\n\n",
            "text/latex": "A Time Series: 18 × 1\n\\begin{tabular}{l}\n y\\\\\n\\hline\n\t 66.759770\\\\\n\t 67.069458\\\\\n\t 45.471501\\\\\n\t 41.837780\\\\\n\t 38.141845\\\\\n\t 25.644952\\\\\n\t 24.467762\\\\\n\t 24.953824\\\\\n\t 22.739228\\\\\n\t 28.212200\\\\\n\t 23.510523\\\\\n\t 22.740670\\\\\n\t 19.228768\\\\\n\t 16.476508\\\\\n\t 13.866647\\\\\n\t 11.827444\\\\\n\t  9.356989\\\\\n\t  7.420330\\\\\n\\end{tabular}\n",
            "text/plain": [
              "      y        \n",
              " [1,] 66.759770\n",
              " [2,] 67.069458\n",
              " [3,] 45.471501\n",
              " [4,] 41.837780\n",
              " [5,] 38.141845\n",
              " [6,] 25.644952\n",
              " [7,] 24.467762\n",
              " [8,] 24.953824\n",
              " [9,] 22.739228\n",
              "[10,] 28.212200\n",
              "[11,] 23.510523\n",
              "[12,] 22.740670\n",
              "[13,] 19.228768\n",
              "[14,] 16.476508\n",
              "[15,] 13.866647\n",
              "[16,] 11.827444\n",
              "[17,]  9.356989\n",
              "[18,]  7.420330"
            ]
          },
          "metadata": {}
        }
      ],
      "source": [
        "fit_des_2 = model_des_2$fitted\n",
        "fit_des_2"
      ]
    },
    {
      "cell_type": "markdown",
      "metadata": {
        "id": "P3e1AeWgYBDt"
      },
      "source": [
        "##### Model Evaluation"
      ]
    },
    {
      "cell_type": "code",
      "execution_count": null,
      "metadata": {
        "colab": {
          "base_uri": "https://localhost:8080/",
          "height": 223
        },
        "id": "gPLdpTC9YBDt",
        "outputId": "8d523f2e-0364-4ab2-8606-b5e8d97ce294"
      },
      "outputs": [
        {
          "output_type": "display_data",
          "data": {
            "text/html": [
              "<table class=\"dataframe\">\n",
              "<caption>A data.frame: 4 × 2</caption>\n",
              "<thead>\n",
              "\t<tr><th scope=col>eval_names</th><th scope=col>eval_model_des_2</th></tr>\n",
              "\t<tr><th scope=col>&lt;chr&gt;</th><th scope=col>&lt;dbl&gt;</th></tr>\n",
              "</thead>\n",
              "<tbody>\n",
              "\t<tr><td>RMSE</td><td>6.1027097</td></tr>\n",
              "\t<tr><td>MAE </td><td>3.3022816</td></tr>\n",
              "\t<tr><td>MAPE</td><td>0.1072965</td></tr>\n",
              "\t<tr><td>MDAE</td><td>1.4650736</td></tr>\n",
              "</tbody>\n",
              "</table>\n"
            ],
            "text/markdown": "\nA data.frame: 4 × 2\n\n| eval_names &lt;chr&gt; | eval_model_des_2 &lt;dbl&gt; |\n|---|---|\n| RMSE | 6.1027097 |\n| MAE  | 3.3022816 |\n| MAPE | 0.1072965 |\n| MDAE | 1.4650736 |\n\n",
            "text/latex": "A data.frame: 4 × 2\n\\begin{tabular}{ll}\n eval\\_names & eval\\_model\\_des\\_2\\\\\n <chr> & <dbl>\\\\\n\\hline\n\t RMSE & 6.1027097\\\\\n\t MAE  & 3.3022816\\\\\n\t MAPE & 0.1072965\\\\\n\t MDAE & 1.4650736\\\\\n\\end{tabular}\n",
            "text/plain": [
              "  eval_names eval_model_des_2\n",
              "1 RMSE       6.1027097       \n",
              "2 MAE        3.3022816       \n",
              "3 MAPE       0.1072965       \n",
              "4 MDAE       1.4650736       "
            ]
          },
          "metadata": {}
        }
      ],
      "source": [
        "rmse_model_des_2 = rmse(training, fit_des_2)\n",
        "mae_model_des_2 = mae(training, fit_des_2)\n",
        "mape_model_des_2 = mape(training, fit_des_2)\n",
        "mdae_model_des_2 = mdae(training, fit_des_2)\n",
        "\n",
        "eval_model_des_2 = c(rmse_model_des_2, mae_model_des_2, mape_model_des_2, mdae_model_des_2)\n",
        "\n",
        "data.frame(eval_names, eval_model_des_2)"
      ]
    },
    {
      "cell_type": "markdown",
      "metadata": {
        "id": "t70u40XAV_dg"
      },
      "source": [
        "##### Testing Data Prediction"
      ]
    },
    {
      "cell_type": "code",
      "execution_count": null,
      "metadata": {
        "colab": {
          "base_uri": "https://localhost:8080/",
          "height": 181
        },
        "id": "KOxdQcH9Vw56",
        "outputId": "cbfe9753-916c-40ad-fe21-c4fd61e7b0de"
      },
      "outputs": [
        {
          "output_type": "display_data",
          "data": {
            "text/plain": [
              "     Point Forecast      Lo 80      Hi 80       Lo 95      Hi 95\n",
              "2016      6.3602345  5.0443410  7.6761280   4.3477490  8.3727200\n",
              "2017      4.4769908  2.9232804  6.0307012   2.1007957  6.8531858\n",
              "2018      2.5937471  0.9655969  4.2218972   0.1037063  5.0837878\n",
              "2019      0.7105033 -0.9319742  2.3529809  -1.8014493  3.2224560\n",
              "2020     -1.1727404 -2.8508557  0.5053749  -3.7391962  1.3937154\n",
              "2021     -3.0559841 -4.8652347 -1.2467336  -5.8229941 -0.2889742\n",
              "2022     -4.9392278 -7.0232974 -2.8551583  -8.1265372 -1.7519185\n",
              "2023     -6.8224716 -9.3336295 -4.3113136 -10.6629562 -2.9819869"
            ]
          },
          "metadata": {}
        }
      ],
      "source": [
        "predict_des_2 = forecast(model_des_2, h = length(testing))\n",
        "predict_des_2"
      ]
    },
    {
      "cell_type": "code",
      "execution_count": null,
      "metadata": {
        "colab": {
          "base_uri": "https://localhost:8080/",
          "height": 52
        },
        "id": "M6j-eM9dVw57",
        "outputId": "a848e41c-ec4b-4959-d02c-624dbc29d26c"
      },
      "outputs": [
        {
          "output_type": "display_data",
          "data": {
            "text/html": [
              "A Time Series:<br><style>\n",
              ".list-inline {list-style: none; margin:0; padding: 0}\n",
              ".list-inline>li {display: inline-block}\n",
              ".list-inline>li:not(:last-child)::after {content: \"\\00b7\"; padding: 0 .5ex}\n",
              "</style>\n",
              "<ol class=list-inline><li>6.36023450178206</li><li>4.47699077858859</li><li>2.59374705539512</li><li>0.710503332201648</li><li>-1.17274039099182</li><li>-3.0559841141853</li><li>-4.93922783737877</li><li>-6.82247156057224</li></ol>\n"
            ],
            "text/markdown": "A Time Series:  \n1. 6.36023450178206\n2. 4.47699077858859\n3. 2.59374705539512\n4. 0.710503332201648\n5. -1.17274039099182\n6. -3.0559841141853\n7. -4.93922783737877\n8. -6.82247156057224\n\n\n",
            "text/latex": "A Time Series:\\\\\\begin{enumerate*}\n\\item 6.36023450178206\n\\item 4.47699077858859\n\\item 2.59374705539512\n\\item 0.710503332201648\n\\item -1.17274039099182\n\\item -3.0559841141853\n\\item -4.93922783737877\n\\item -6.82247156057224\n\\end{enumerate*}\n",
            "text/plain": [
              "A Time Series:\n",
              "[1]  6.3602345  4.4769908  2.5937471  0.7105033 -1.1727404 -3.0559841 -4.9392278\n",
              "[8] -6.8224716"
            ]
          },
          "metadata": {}
        }
      ],
      "source": [
        "predict_values_des_2 = predict_des_2$mean\n",
        "predict_values_des_2"
      ]
    },
    {
      "cell_type": "markdown",
      "metadata": {
        "id": "85T9dxujWOWf"
      },
      "source": [
        "##### Prediction Evaluation"
      ]
    },
    {
      "cell_type": "code",
      "execution_count": null,
      "metadata": {
        "colab": {
          "base_uri": "https://localhost:8080/",
          "height": 223
        },
        "id": "VrTXgr9nVw57",
        "outputId": "3e46af20-3da1-4249-8d87-e555b48416a0"
      },
      "outputs": [
        {
          "output_type": "display_data",
          "data": {
            "text/html": [
              "<table class=\"dataframe\">\n",
              "<caption>A data.frame: 4 × 2</caption>\n",
              "<thead>\n",
              "\t<tr><th scope=col>eval_names</th><th scope=col>eval_des_2</th></tr>\n",
              "\t<tr><th scope=col>&lt;chr&gt;</th><th scope=col>&lt;dbl&gt;</th></tr>\n",
              "</thead>\n",
              "<tbody>\n",
              "\t<tr><td>RMSE</td><td>5.320084</td></tr>\n",
              "\t<tr><td>MAE </td><td>4.681119</td></tr>\n",
              "\t<tr><td>MAPE</td><td>1.572507</td></tr>\n",
              "\t<tr><td>MDAE</td><td>4.331119</td></tr>\n",
              "</tbody>\n",
              "</table>\n"
            ],
            "text/markdown": "\nA data.frame: 4 × 2\n\n| eval_names &lt;chr&gt; | eval_des_2 &lt;dbl&gt; |\n|---|---|\n| RMSE | 5.320084 |\n| MAE  | 4.681119 |\n| MAPE | 1.572507 |\n| MDAE | 4.331119 |\n\n",
            "text/latex": "A data.frame: 4 × 2\n\\begin{tabular}{ll}\n eval\\_names & eval\\_des\\_2\\\\\n <chr> & <dbl>\\\\\n\\hline\n\t RMSE & 5.320084\\\\\n\t MAE  & 4.681119\\\\\n\t MAPE & 1.572507\\\\\n\t MDAE & 4.331119\\\\\n\\end{tabular}\n",
            "text/plain": [
              "  eval_names eval_des_2\n",
              "1 RMSE       5.320084  \n",
              "2 MAE        4.681119  \n",
              "3 MAPE       1.572507  \n",
              "4 MDAE       4.331119  "
            ]
          },
          "metadata": {}
        }
      ],
      "source": [
        "rmse_des_2 = rmse(testing, predict_values_des_2)\n",
        "mae_des_2 = mae(testing, predict_values_des_2)\n",
        "mape_des_2 = mape(testing, predict_values_des_2)\n",
        "mdae_des_2 = mdae(testing, predict_values_des_2)\n",
        "\n",
        "eval_des_2 = c(rmse_des_2, mae_des_2, mape_des_2, mdae_des_2)\n",
        "\n",
        "data.frame(eval_names, eval_des_2)"
      ]
    },
    {
      "cell_type": "markdown",
      "metadata": {
        "id": "-ZN8peKyZrIn"
      },
      "source": [
        "##### Forecast 1 year"
      ]
    },
    {
      "cell_type": "code",
      "execution_count": null,
      "metadata": {
        "colab": {
          "base_uri": "https://localhost:8080/",
          "height": 34
        },
        "id": "155F23fqZrIp",
        "outputId": "c01acd69-7a08-4bf6-8595-85e7da472bc2"
      },
      "outputs": [
        {
          "output_type": "display_data",
          "data": {
            "text/html": [
              "-8.70571528376571"
            ],
            "text/markdown": "-8.70571528376571",
            "text/latex": "-8.70571528376571",
            "text/plain": [
              "[1] -8.705715"
            ]
          },
          "metadata": {}
        }
      ],
      "source": [
        "forecast_des_2 = forecast(model_des_2, h = length(testing)+1)$mean[length(testing)+1]\n",
        "forecast_des_2"
      ]
    },
    {
      "cell_type": "markdown",
      "metadata": {
        "id": "41_4sn8cxbdx"
      },
      "source": [
        "#### Model 3 (MMN)"
      ]
    },
    {
      "cell_type": "code",
      "execution_count": null,
      "metadata": {
        "colab": {
          "base_uri": "https://localhost:8080/",
          "height": 436
        },
        "id": "aKCktrRTxezZ",
        "outputId": "579b73cb-90b1-4195-f3ad-fdad142db2e9"
      },
      "outputs": [
        {
          "output_type": "display_data",
          "data": {
            "text/plain": [
              "ETS(M,M,N) \n",
              "\n",
              "Call:\n",
              " ets(y = training, model = \"MMN\") \n",
              "\n",
              "  Smoothing parameters:\n",
              "    alpha = 0.8221 \n",
              "    beta  = 1e-04 \n",
              "\n",
              "  Initial states:\n",
              "    l = 62.2525 \n",
              "    b = 0.8995 \n",
              "\n",
              "  sigma:  0.1656\n",
              "\n",
              "     AIC     AICc      BIC \n",
              "106.1428 111.1428 110.5947 \n",
              "\n",
              "Training set error measures:\n",
              "                       ME     RMSE      MAE       MPE     MAPE      MASE\n",
              "Training set -0.007503519 5.512443 3.271676 -1.900042 10.31135 0.7516012\n",
              "                   ACF1\n",
              "Training set -0.3516755"
            ]
          },
          "metadata": {}
        }
      ],
      "source": [
        "model_des_3 = ets(training, model = \"MMN\")\n",
        "summary(model_des_3)"
      ]
    },
    {
      "cell_type": "code",
      "execution_count": null,
      "metadata": {
        "colab": {
          "base_uri": "https://localhost:8080/",
          "height": 666
        },
        "id": "JjuEpShJYu7I",
        "outputId": "8b063393-cd04-4f71-d59e-ec15378ba3ad"
      },
      "outputs": [
        {
          "output_type": "display_data",
          "data": {
            "text/html": [
              "<table class=\"dataframe\">\n",
              "<caption>A Time Series: 18 × 1</caption>\n",
              "<thead>\n",
              "\t<tr><th scope=col>y</th></tr>\n",
              "</thead>\n",
              "<tbody>\n",
              "\t<tr><td>55.995444</td></tr>\n",
              "\t<tr><td>60.058919</td></tr>\n",
              "\t<tr><td>43.626399</td></tr>\n",
              "\t<tr><td>39.221942</td></tr>\n",
              "\t<tr><td>35.781158</td></tr>\n",
              "\t<tr><td>25.542997</td></tr>\n",
              "\t<tr><td>23.608885</td></tr>\n",
              "\t<tr><td>23.743373</td></tr>\n",
              "\t<tr><td>21.990293</td></tr>\n",
              "\t<tr><td>26.147485</td></tr>\n",
              "\t<tr><td>22.819515</td></tr>\n",
              "\t<tr><td>21.917350</td></tr>\n",
              "\t<tr><td>19.036789</td></tr>\n",
              "\t<tr><td>16.579117</td></tr>\n",
              "\t<tr><td>14.263069</td></tr>\n",
              "\t<tr><td>12.413412</td></tr>\n",
              "\t<tr><td>10.268614</td></tr>\n",
              "\t<tr><td> 8.520303</td></tr>\n",
              "</tbody>\n",
              "</table>\n"
            ],
            "text/markdown": "\nA Time Series: 18 × 1\n\n| y |\n|---|\n| 55.995444 |\n| 60.058919 |\n| 43.626399 |\n| 39.221942 |\n| 35.781158 |\n| 25.542997 |\n| 23.608885 |\n| 23.743373 |\n| 21.990293 |\n| 26.147485 |\n| 22.819515 |\n| 21.917350 |\n| 19.036789 |\n| 16.579117 |\n| 14.263069 |\n| 12.413412 |\n| 10.268614 |\n|  8.520303 |\n\n",
            "text/latex": "A Time Series: 18 × 1\n\\begin{tabular}{l}\n y\\\\\n\\hline\n\t 55.995444\\\\\n\t 60.058919\\\\\n\t 43.626399\\\\\n\t 39.221942\\\\\n\t 35.781158\\\\\n\t 25.542997\\\\\n\t 23.608885\\\\\n\t 23.743373\\\\\n\t 21.990293\\\\\n\t 26.147485\\\\\n\t 22.819515\\\\\n\t 21.917350\\\\\n\t 19.036789\\\\\n\t 16.579117\\\\\n\t 14.263069\\\\\n\t 12.413412\\\\\n\t 10.268614\\\\\n\t  8.520303\\\\\n\\end{tabular}\n",
            "text/plain": [
              "      y        \n",
              " [1,] 55.995444\n",
              " [2,] 60.058919\n",
              " [3,] 43.626399\n",
              " [4,] 39.221942\n",
              " [5,] 35.781158\n",
              " [6,] 25.542997\n",
              " [7,] 23.608885\n",
              " [8,] 23.743373\n",
              " [9,] 21.990293\n",
              "[10,] 26.147485\n",
              "[11,] 22.819515\n",
              "[12,] 21.917350\n",
              "[13,] 19.036789\n",
              "[14,] 16.579117\n",
              "[15,] 14.263069\n",
              "[16,] 12.413412\n",
              "[17,] 10.268614\n",
              "[18,]  8.520303"
            ]
          },
          "metadata": {}
        }
      ],
      "source": [
        "fit_des_3 = model_des_3$fitted\n",
        "fit_des_3"
      ]
    },
    {
      "cell_type": "markdown",
      "metadata": {
        "id": "zq3VAGEnYu7K"
      },
      "source": [
        "##### Model Evaluation"
      ]
    },
    {
      "cell_type": "code",
      "execution_count": null,
      "metadata": {
        "colab": {
          "base_uri": "https://localhost:8080/",
          "height": 223
        },
        "id": "f9uCvLbUYu7K",
        "outputId": "a6bcd9bf-d4fc-476a-d1cd-024400579224"
      },
      "outputs": [
        {
          "output_type": "display_data",
          "data": {
            "text/html": [
              "<table class=\"dataframe\">\n",
              "<caption>A data.frame: 4 × 2</caption>\n",
              "<thead>\n",
              "\t<tr><th scope=col>eval_names</th><th scope=col>eval_model_des_3</th></tr>\n",
              "\t<tr><th scope=col>&lt;chr&gt;</th><th scope=col>&lt;dbl&gt;</th></tr>\n",
              "</thead>\n",
              "<tbody>\n",
              "\t<tr><td>RMSE</td><td>5.5124434</td></tr>\n",
              "\t<tr><td>MAE </td><td>3.2716759</td></tr>\n",
              "\t<tr><td>MAPE</td><td>0.1031135</td></tr>\n",
              "\t<tr><td>MDAE</td><td>0.9324174</td></tr>\n",
              "</tbody>\n",
              "</table>\n"
            ],
            "text/markdown": "\nA data.frame: 4 × 2\n\n| eval_names &lt;chr&gt; | eval_model_des_3 &lt;dbl&gt; |\n|---|---|\n| RMSE | 5.5124434 |\n| MAE  | 3.2716759 |\n| MAPE | 0.1031135 |\n| MDAE | 0.9324174 |\n\n",
            "text/latex": "A data.frame: 4 × 2\n\\begin{tabular}{ll}\n eval\\_names & eval\\_model\\_des\\_3\\\\\n <chr> & <dbl>\\\\\n\\hline\n\t RMSE & 5.5124434\\\\\n\t MAE  & 3.2716759\\\\\n\t MAPE & 0.1031135\\\\\n\t MDAE & 0.9324174\\\\\n\\end{tabular}\n",
            "text/plain": [
              "  eval_names eval_model_des_3\n",
              "1 RMSE       5.5124434       \n",
              "2 MAE        3.2716759       \n",
              "3 MAPE       0.1031135       \n",
              "4 MDAE       0.9324174       "
            ]
          },
          "metadata": {}
        }
      ],
      "source": [
        "rmse_model_des_3 = rmse(training, fit_des_3)\n",
        "mae_model_des_3 = mae(training, fit_des_3)\n",
        "mape_model_des_3 = mape(training, fit_des_3)\n",
        "mdae_model_des_3 = mdae(training, fit_des_3)\n",
        "\n",
        "eval_model_des_3 = c(rmse_model_des_3, mae_model_des_3, mape_model_des_3, mdae_model_des_3)\n",
        "\n",
        "data.frame(eval_names, eval_model_des_3)"
      ]
    },
    {
      "cell_type": "markdown",
      "metadata": {
        "id": "NyxkOtqnZB9S"
      },
      "source": [
        "##### Testing Prediction"
      ]
    },
    {
      "cell_type": "code",
      "execution_count": null,
      "metadata": {
        "colab": {
          "base_uri": "https://localhost:8080/",
          "height": 181
        },
        "id": "pUUdEGo9V5Dj",
        "outputId": "86e16059-31f2-4043-a701-f87d3a579afd"
      },
      "outputs": [
        {
          "output_type": "display_data",
          "data": {
            "text/plain": [
              "     Point Forecast    Lo 80    Hi 80    Lo 95    Hi 95\n",
              "2016       7.501034 5.968766 9.149230 5.095571 9.961029\n",
              "2017       6.747114 4.994798 8.685688 4.200664 9.847763\n",
              "2018       6.068971 4.291319 8.176473 3.488158 9.510851\n",
              "2019       5.458986 3.649351 7.616891 2.851251 9.072707\n",
              "2020       4.910310 3.116946 7.130902 2.409185 8.605160\n",
              "2021       4.416781 2.646128 6.511958 2.013537 8.060397\n",
              "2022       3.972856 2.262726 6.032796 1.739993 7.483179\n",
              "2023       3.573550 1.953977 5.482761 1.461152 7.098707"
            ]
          },
          "metadata": {}
        }
      ],
      "source": [
        "predict_des_3 = forecast(model_des_3, h = length(testing))\n",
        "predict_des_3"
      ]
    },
    {
      "cell_type": "code",
      "execution_count": null,
      "metadata": {
        "colab": {
          "base_uri": "https://localhost:8080/",
          "height": 52
        },
        "id": "7BnimyghV5Dj",
        "outputId": "3fef9f78-02f5-4662-b6d8-8a50ceb180a0"
      },
      "outputs": [
        {
          "output_type": "display_data",
          "data": {
            "text/html": [
              "A Time Series:<br><style>\n",
              ".list-inline {list-style: none; margin:0; padding: 0}\n",
              ".list-inline>li {display: inline-block}\n",
              ".list-inline>li:not(:last-child)::after {content: \"\\00b7\"; padding: 0 .5ex}\n",
              "</style>\n",
              "<ol class=list-inline><li>7.501033663698</li><li>6.74711440279446</li><li>6.0689705986406</li><li>5.45898615738738</li><li>4.91031046899817</li><li>4.41678146945374</li><li>3.97285643587625</li><li>3.57354973734652</li></ol>\n"
            ],
            "text/markdown": "A Time Series:  \n1. 7.501033663698\n2. 6.74711440279446\n3. 6.0689705986406\n4. 5.45898615738738\n5. 4.91031046899817\n6. 4.41678146945374\n7. 3.97285643587625\n8. 3.57354973734652\n\n\n",
            "text/latex": "A Time Series:\\\\\\begin{enumerate*}\n\\item 7.501033663698\n\\item 6.74711440279446\n\\item 6.0689705986406\n\\item 5.45898615738738\n\\item 4.91031046899817\n\\item 4.41678146945374\n\\item 3.97285643587625\n\\item 3.57354973734652\n\\end{enumerate*}\n",
            "text/plain": [
              "A Time Series:\n",
              "[1] 7.501034 6.747114 6.068971 5.458986 4.910310 4.416781 3.972856 3.573550"
            ]
          },
          "metadata": {}
        }
      ],
      "source": [
        "predict_values_des_3 = predict_des_3$mean\n",
        "predict_values_des_3"
      ]
    },
    {
      "cell_type": "markdown",
      "metadata": {
        "id": "UmiSlYG8ZIIm"
      },
      "source": [
        "##### Prediction Evaluation"
      ]
    },
    {
      "cell_type": "code",
      "execution_count": null,
      "metadata": {
        "colab": {
          "base_uri": "https://localhost:8080/",
          "height": 223
        },
        "id": "TgzOWs22V5Dk",
        "outputId": "c409f6f4-b7dc-47ff-e0f4-94555c71bc53"
      },
      "outputs": [
        {
          "output_type": "display_data",
          "data": {
            "text/html": [
              "<table class=\"dataframe\">\n",
              "<caption>A data.frame: 4 × 2</caption>\n",
              "<thead>\n",
              "\t<tr><th scope=col>eval_names</th><th scope=col>eval_des_3</th></tr>\n",
              "\t<tr><th scope=col>&lt;chr&gt;</th><th scope=col>&lt;dbl&gt;</th></tr>\n",
              "</thead>\n",
              "<tbody>\n",
              "\t<tr><td>RMSE</td><td>1.0388677</td></tr>\n",
              "\t<tr><td>MAE </td><td>0.8812004</td></tr>\n",
              "\t<tr><td>MAPE</td><td>0.3013841</td></tr>\n",
              "\t<tr><td>MDAE</td><td>0.9878838</td></tr>\n",
              "</tbody>\n",
              "</table>\n"
            ],
            "text/markdown": "\nA data.frame: 4 × 2\n\n| eval_names &lt;chr&gt; | eval_des_3 &lt;dbl&gt; |\n|---|---|\n| RMSE | 1.0388677 |\n| MAE  | 0.8812004 |\n| MAPE | 0.3013841 |\n| MDAE | 0.9878838 |\n\n",
            "text/latex": "A data.frame: 4 × 2\n\\begin{tabular}{ll}\n eval\\_names & eval\\_des\\_3\\\\\n <chr> & <dbl>\\\\\n\\hline\n\t RMSE & 1.0388677\\\\\n\t MAE  & 0.8812004\\\\\n\t MAPE & 0.3013841\\\\\n\t MDAE & 0.9878838\\\\\n\\end{tabular}\n",
            "text/plain": [
              "  eval_names eval_des_3\n",
              "1 RMSE       1.0388677 \n",
              "2 MAE        0.8812004 \n",
              "3 MAPE       0.3013841 \n",
              "4 MDAE       0.9878838 "
            ]
          },
          "metadata": {}
        }
      ],
      "source": [
        "rmse_des_3 = rmse(testing, predict_values_des_3)\n",
        "mae_des_3 = mae(testing, predict_values_des_3)\n",
        "mape_des_3 = mape(testing, predict_values_des_3)\n",
        "mdae_des_3 = mdae(testing, predict_values_des_3)\n",
        "\n",
        "eval_des_3 = c(rmse_des_3, mae_des_3, mape_des_3, mdae_des_3)\n",
        "\n",
        "data.frame(eval_names, eval_des_3)"
      ]
    },
    {
      "cell_type": "markdown",
      "metadata": {
        "id": "UqVvIcKWZPXQ"
      },
      "source": [
        "##### Forecast 1 year"
      ]
    },
    {
      "cell_type": "code",
      "execution_count": null,
      "metadata": {
        "colab": {
          "base_uri": "https://localhost:8080/",
          "height": 34
        },
        "id": "a87U1sBfZS-3",
        "outputId": "7e7a131e-8c47-4b3c-c6ce-cfb9373519b0"
      },
      "outputs": [
        {
          "output_type": "display_data",
          "data": {
            "text/html": [
              "3.2143768423066"
            ],
            "text/markdown": "3.2143768423066",
            "text/latex": "3.2143768423066",
            "text/plain": [
              "[1] 3.214377"
            ]
          },
          "metadata": {}
        }
      ],
      "source": [
        "forecast_des_3 = forecast(model_des_3, h = length(testing)+1)$mean[length(testing)+1]\n",
        "forecast_des_3"
      ]
    },
    {
      "cell_type": "markdown",
      "metadata": {
        "id": "fKfNfqiUkVDy"
      },
      "source": [
        "### Autoregressive Integrated Moving Average (ARIMA) Model [DONE]"
      ]
    },
    {
      "cell_type": "markdown",
      "metadata": {
        "id": "Ql5F4P46fUJ4"
      },
      "source": [
        "#### Stationary Test"
      ]
    },
    {
      "cell_type": "markdown",
      "metadata": {
        "id": "LZTXPb-zfWLe"
      },
      "source": [
        "##### To Variance"
      ]
    },
    {
      "cell_type": "code",
      "execution_count": null,
      "metadata": {
        "colab": {
          "base_uri": "https://localhost:8080/",
          "height": 277
        },
        "id": "NZUAPD5GhGKz",
        "outputId": "9c017ddd-7aea-421b-f799-0c4e749f97db"
      },
      "outputs": [
        {
          "output_type": "display_data",
          "data": {
            "text/plain": [
              "Estimated transformation parameter \n",
              "  training \n",
              "0.08380007 "
            ]
          },
          "metadata": {}
        },
        {
          "output_type": "display_data",
          "data": {
            "text/plain": [
              "bcPower Transformation to Normality \n",
              "         Est Power Rounded Pwr Wald Lwr Bnd Wald Upr Bnd\n",
              "training    0.0838           0      -0.6791       0.8467\n",
              "\n",
              "Likelihood ratio test that transformation parameter is equal to 0\n",
              " (log transformation)\n",
              "                             LRT df    pval\n",
              "LR test, lambda = (0) 0.04617853  1 0.82985\n",
              "\n",
              "Likelihood ratio test that no transformation is needed\n",
              "                           LRT df     pval\n",
              "LR test, lambda = (1) 5.547279  1 0.018509"
            ]
          },
          "metadata": {}
        }
      ],
      "source": [
        "powerTransform(training)\n",
        "summary(powerTransform(training))"
      ]
    },
    {
      "cell_type": "code",
      "execution_count": null,
      "metadata": {
        "colab": {
          "base_uri": "https://localhost:8080/",
          "height": 255
        },
        "id": "KF_xQYjzS5EB",
        "outputId": "9a4b1a43-5135-44a5-cd97-5d8b1144be41"
      },
      "outputs": [
        {
          "output_type": "display_data",
          "data": {
            "text/html": [
              "<table class=\"dataframe\">\n",
              "<caption>A Time Series: 6 × 1</caption>\n",
              "<thead>\n",
              "\t<tr><th scope=col>Poverty Ratio (%)</th></tr>\n",
              "</thead>\n",
              "<tbody>\n",
              "\t<tr><td>4.235555</td></tr>\n",
              "\t<tr><td>3.828641</td></tr>\n",
              "\t<tr><td>3.775057</td></tr>\n",
              "\t<tr><td>3.686376</td></tr>\n",
              "\t<tr><td>3.288402</td></tr>\n",
              "\t<tr><td>3.273364</td></tr>\n",
              "</tbody>\n",
              "</table>\n"
            ],
            "text/markdown": "\nA Time Series: 6 × 1\n\n| Poverty Ratio (%) |\n|---|\n| 4.235555 |\n| 3.828641 |\n| 3.775057 |\n| 3.686376 |\n| 3.288402 |\n| 3.273364 |\n\n",
            "text/latex": "A Time Series: 6 × 1\n\\begin{tabular}{l}\n Poverty Ratio (\\%)\\\\\n\\hline\n\t 4.235555\\\\\n\t 3.828641\\\\\n\t 3.775057\\\\\n\t 3.686376\\\\\n\t 3.288402\\\\\n\t 3.273364\\\\\n\\end{tabular}\n",
            "text/plain": [
              "     Poverty Ratio (%)\n",
              "[1,] 4.235555         \n",
              "[2,] 3.828641         \n",
              "[3,] 3.775057         \n",
              "[4,] 3.686376         \n",
              "[5,] 3.288402         \n",
              "[6,] 3.273364         "
            ]
          },
          "metadata": {}
        }
      ],
      "source": [
        "# Transform the data since it does not satisfy the stationary to variance assumption\n",
        "transformed = log(training)\n",
        "head(transformed)"
      ]
    },
    {
      "cell_type": "code",
      "execution_count": null,
      "metadata": {
        "colab": {
          "base_uri": "https://localhost:8080/",
          "height": 277
        },
        "id": "9jlKnycaUes8",
        "outputId": "b58b400b-c4a1-4540-c423-760e15b5ff7a"
      },
      "outputs": [
        {
          "output_type": "display_data",
          "data": {
            "text/plain": [
              "Estimated transformation parameter \n",
              "transformed \n",
              "   1.178734 "
            ]
          },
          "metadata": {}
        },
        {
          "output_type": "display_data",
          "data": {
            "text/plain": [
              "bcPower Transformation to Normality \n",
              "            Est Power Rounded Pwr Wald Lwr Bnd Wald Upr Bnd\n",
              "transformed    1.1787           1      -1.1921       3.5496\n",
              "\n",
              "Likelihood ratio test that transformation parameter is equal to 0\n",
              " (log transformation)\n",
              "                            LRT df    pval\n",
              "LR test, lambda = (0) 0.9523775  1 0.32911\n",
              "\n",
              "Likelihood ratio test that no transformation is needed\n",
              "                             LRT df    pval\n",
              "LR test, lambda = (1) 0.02185912  1 0.88246"
            ]
          },
          "metadata": {}
        }
      ],
      "source": [
        "powerTransform(transformed)\n",
        "summary(powerTransform(transformed))"
      ]
    },
    {
      "cell_type": "markdown",
      "source": [
        "##### To Mean"
      ],
      "metadata": {
        "id": "hopuD8q9aD3Y"
      }
    },
    {
      "cell_type": "code",
      "execution_count": null,
      "metadata": {
        "id": "QmZ68c5pUvI4",
        "colab": {
          "base_uri": "https://localhost:8080/",
          "height": 121
        },
        "outputId": "d4d72816-405d-4bf9-a09e-da439b546de6"
      },
      "outputs": [
        {
          "output_type": "display_data",
          "data": {
            "text/plain": [
              "\n",
              "\tAugmented Dickey-Fuller Test\n",
              "\n",
              "data:  transformed\n",
              "Dickey-Fuller = -1.2763, Lag order = 2, p-value = 0.8481\n",
              "alternative hypothesis: stationary\n"
            ]
          },
          "metadata": {}
        }
      ],
      "source": [
        "adf.test(transformed)"
      ]
    },
    {
      "cell_type": "code",
      "source": [
        "diff1 = diff(transformed)\n",
        "adf.test(diff1)"
      ],
      "metadata": {
        "colab": {
          "base_uri": "https://localhost:8080/",
          "height": 121
        },
        "id": "W6TuJ2iUkdxy",
        "outputId": "e4f1988a-6c9e-4665-91d2-ee6de1bb47fa"
      },
      "execution_count": null,
      "outputs": [
        {
          "output_type": "display_data",
          "data": {
            "text/plain": [
              "\n",
              "\tAugmented Dickey-Fuller Test\n",
              "\n",
              "data:  diff1\n",
              "Dickey-Fuller = -1.238, Lag order = 2, p-value = 0.8627\n",
              "alternative hypothesis: stationary\n"
            ]
          },
          "metadata": {}
        }
      ]
    },
    {
      "cell_type": "code",
      "source": [
        "diff2 = diff(transformed, differences = 2)\n",
        "adf.test(diff2)"
      ],
      "metadata": {
        "colab": {
          "base_uri": "https://localhost:8080/",
          "height": 121
        },
        "id": "dL_DDYUwlVds",
        "outputId": "35fa0aa2-886a-4d40-d9be-2f12ec2cd850"
      },
      "execution_count": null,
      "outputs": [
        {
          "output_type": "display_data",
          "data": {
            "text/plain": [
              "\n",
              "\tAugmented Dickey-Fuller Test\n",
              "\n",
              "data:  diff2\n",
              "Dickey-Fuller = -2.3205, Lag order = 2, p-value = 0.4503\n",
              "alternative hypothesis: stationary\n"
            ]
          },
          "metadata": {}
        }
      ]
    },
    {
      "cell_type": "code",
      "source": [
        "diff3 = diff(transformed, differences = 3)\n",
        "adf.test(diff3)"
      ],
      "metadata": {
        "colab": {
          "base_uri": "https://localhost:8080/",
          "height": 121
        },
        "id": "_amHIrD3liyj",
        "outputId": "eb76ea66-d91e-468a-838a-fb3c79a75aa9"
      },
      "execution_count": null,
      "outputs": [
        {
          "output_type": "display_data",
          "data": {
            "text/plain": [
              "\n",
              "\tAugmented Dickey-Fuller Test\n",
              "\n",
              "data:  diff3\n",
              "Dickey-Fuller = -3.1986, Lag order = 2, p-value = 0.1158\n",
              "alternative hypothesis: stationary\n"
            ]
          },
          "metadata": {}
        }
      ]
    },
    {
      "cell_type": "code",
      "source": [
        "diff4 = diff(transformed, differences = 4)\n",
        "adf.test(diff4)"
      ],
      "metadata": {
        "colab": {
          "base_uri": "https://localhost:8080/",
          "height": 156
        },
        "id": "P7ECKOPKlnep",
        "outputId": "1351840b-6971-4b8d-da0d-0d2ff4e75560"
      },
      "execution_count": null,
      "outputs": [
        {
          "output_type": "stream",
          "name": "stderr",
          "text": [
            "Warning message in adf.test(diff4):\n",
            "“p-value smaller than printed p-value”\n"
          ]
        },
        {
          "output_type": "display_data",
          "data": {
            "text/plain": [
              "\n",
              "\tAugmented Dickey-Fuller Test\n",
              "\n",
              "data:  diff4\n",
              "Dickey-Fuller = -7.4702, Lag order = 2, p-value = 0.01\n",
              "alternative hypothesis: stationary\n"
            ]
          },
          "metadata": {}
        }
      ]
    },
    {
      "cell_type": "markdown",
      "source": [
        "#### Arima Order"
      ],
      "metadata": {
        "id": "EunbGB22aPGP"
      }
    },
    {
      "cell_type": "code",
      "source": [
        "acf(diff4, lag.max = 20)\n",
        "\n",
        "# significant until lag 1"
      ],
      "metadata": {
        "colab": {
          "base_uri": "https://localhost:8080/",
          "height": 437
        },
        "id": "u32y1BiUainE",
        "outputId": "749bfa3a-5598-4724-c741-54dfed8fd4c8"
      },
      "execution_count": null,
      "outputs": [
        {
          "output_type": "display_data",
          "data": {
            "text/plain": [
              "Plot with title “Series diff4”"
            ],
            "image/png": "[encoded data removed]"
          },
          "metadata": {
            "image/png": {
              "width": 420,
              "height": 420
            }
          }
        }
      ]
    },
    {
      "cell_type": "code",
      "source": [
        "pacf(diff4, lag.max = 20)\n",
        "\n",
        "# significant until lag 2"
      ],
      "metadata": {
        "colab": {
          "base_uri": "https://localhost:8080/",
          "height": 437
        },
        "id": "yf2O9litamQP",
        "outputId": "9b97be24-dff2-4a35-8145-43fa3accd2bc"
      },
      "execution_count": null,
      "outputs": [
        {
          "output_type": "display_data",
          "data": {
            "text/plain": [
              "Plot with title “Series  diff4”"
            ],
            "image/png": "[encoded data removed]"
          },
          "metadata": {
            "image/png": {
              "width": 420,
              "height": 420
            }
          }
        }
      ]
    },
    {
      "cell_type": "markdown",
      "source": [
        "#### Model Building and Significance Test\n",
        "Max values for each order are:\n",
        "* p = 2\n",
        "* d = 4 [cannot be changed!]\n",
        "* q = 1"
      ],
      "metadata": {
        "id": "1VfuKQDBa_IX"
      }
    },
    {
      "cell_type": "markdown",
      "source": [
        "##### Model 1 (1, 4, 0)"
      ],
      "metadata": {
        "id": "LxzF0b_ybBzB"
      }
    },
    {
      "cell_type": "code",
      "source": [
        "model_arima_1 = arima(transformed, order = c(1, 4, 0))\n",
        "model_arima_1"
      ],
      "metadata": {
        "colab": {
          "base_uri": "https://localhost:8080/",
          "height": 191
        },
        "id": "JXzkLGrLcQSK",
        "outputId": "6eacaf21-e6ea-422a-970f-e1dbeedd4dbd"
      },
      "execution_count": null,
      "outputs": [
        {
          "output_type": "display_data",
          "data": {
            "text/plain": [
              "\n",
              "Call:\n",
              "arima(x = transformed, order = c(1, 4, 0))\n",
              "\n",
              "Coefficients:\n",
              "          ar1\n",
              "      -0.7082\n",
              "s.e.   0.1640\n",
              "\n",
              "sigma^2 estimated as 0.2069:  log likelihood = -12.21,  aic = 26.42"
            ]
          },
          "metadata": {}
        }
      ]
    },
    {
      "cell_type": "markdown",
      "source": [
        "###### Significance Test"
      ],
      "metadata": {
        "id": "4MojFSb7cKid"
      }
    },
    {
      "cell_type": "code",
      "source": [
        "coeftest(model_arima_1)\n",
        "\n",
        "# All of them are significant"
      ],
      "metadata": {
        "colab": {
          "base_uri": "https://localhost:8080/",
          "height": 138
        },
        "id": "VE__qRGEcviE",
        "outputId": "15116a06-cba7-449a-b00f-0d9b0835afde"
      },
      "execution_count": null,
      "outputs": [
        {
          "output_type": "display_data",
          "data": {
            "text/plain": [
              "\n",
              "z test of coefficients:\n",
              "\n",
              "    Estimate Std. Error z value  Pr(>|z|)    \n",
              "ar1 -0.70818    0.16403 -4.3173 1.579e-05 ***\n",
              "---\n",
              "Signif. codes:  0 ‘***’ 0.001 ‘**’ 0.01 ‘*’ 0.05 ‘.’ 0.1 ‘ ’ 1\n"
            ]
          },
          "metadata": {}
        }
      ]
    },
    {
      "cell_type": "markdown",
      "source": [
        "##### Model 2 (0, 4, 1)"
      ],
      "metadata": {
        "id": "xD_f_WGYbq7B"
      }
    },
    {
      "cell_type": "code",
      "source": [
        "model_arima_2 = arima(transformed, order = c(0, 4, 1))\n",
        "model_arima_2"
      ],
      "metadata": {
        "colab": {
          "base_uri": "https://localhost:8080/",
          "height": 191
        },
        "outputId": "39e4d375-36d3-4394-cd2d-d8a9ac0d494f",
        "id": "FLYj_WhRdHKd"
      },
      "execution_count": null,
      "outputs": [
        {
          "output_type": "display_data",
          "data": {
            "text/plain": [
              "\n",
              "Call:\n",
              "arima(x = transformed, order = c(0, 4, 1))\n",
              "\n",
              "Coefficients:\n",
              "          ma1\n",
              "      -0.9819\n",
              "s.e.   0.1917\n",
              "\n",
              "sigma^2 estimated as 0.1484:  log likelihood = -10.71,  aic = 23.42"
            ]
          },
          "metadata": {}
        }
      ]
    },
    {
      "cell_type": "markdown",
      "source": [
        "###### Significance Test"
      ],
      "metadata": {
        "id": "aTnRhqpadHKe"
      }
    },
    {
      "cell_type": "code",
      "source": [
        "coeftest(model_arima_2)\n",
        "\n",
        "# All of them are significant"
      ],
      "metadata": {
        "colab": {
          "base_uri": "https://localhost:8080/",
          "height": 138
        },
        "outputId": "b0a0ad96-cd04-4726-dbe0-dbb095b5e628",
        "id": "FiyfOWRfdHKf"
      },
      "execution_count": null,
      "outputs": [
        {
          "output_type": "display_data",
          "data": {
            "text/plain": [
              "\n",
              "z test of coefficients:\n",
              "\n",
              "    Estimate Std. Error z value  Pr(>|z|)    \n",
              "ma1 -0.98194    0.19175  -5.121 3.039e-07 ***\n",
              "---\n",
              "Signif. codes:  0 ‘***’ 0.001 ‘**’ 0.01 ‘*’ 0.05 ‘.’ 0.1 ‘ ’ 1\n"
            ]
          },
          "metadata": {}
        }
      ]
    },
    {
      "cell_type": "markdown",
      "source": [
        "##### Model 3 (2, 4, 0)"
      ],
      "metadata": {
        "id": "W_0T2y4jbx0b"
      }
    },
    {
      "cell_type": "code",
      "source": [
        "model_arima_3 = arima(transformed, order = c(2, 4, 0))\n",
        "model_arima_3"
      ],
      "metadata": {
        "colab": {
          "base_uri": "https://localhost:8080/",
          "height": 191
        },
        "outputId": "a3101c8a-1f26-4305-97c2-250a88c5a0b4",
        "id": "p_ecT8P_dNPX"
      },
      "execution_count": null,
      "outputs": [
        {
          "output_type": "display_data",
          "data": {
            "text/plain": [
              "\n",
              "Call:\n",
              "arima(x = transformed, order = c(2, 4, 0))\n",
              "\n",
              "Coefficients:\n",
              "          ar1      ar2\n",
              "      -1.3776  -0.8322\n",
              "s.e.   0.1502   0.1374\n",
              "\n",
              "sigma^2 estimated as 0.07463:  log likelihood = -6.24,  aic = 16.47"
            ]
          },
          "metadata": {}
        }
      ]
    },
    {
      "cell_type": "markdown",
      "source": [
        "###### Significance Test"
      ],
      "metadata": {
        "id": "i5AEy8zsdNPY"
      }
    },
    {
      "cell_type": "code",
      "source": [
        "coeftest(model_arima_3)\n",
        "\n",
        "# All of them are significant"
      ],
      "metadata": {
        "colab": {
          "base_uri": "https://localhost:8080/",
          "height": 156
        },
        "outputId": "2311f76a-a3fb-43ac-f85c-a6e338d64643",
        "id": "29KukuGQdNPY"
      },
      "execution_count": null,
      "outputs": [
        {
          "output_type": "display_data",
          "data": {
            "text/plain": [
              "\n",
              "z test of coefficients:\n",
              "\n",
              "    Estimate Std. Error z value  Pr(>|z|)    \n",
              "ar1 -1.37760    0.15018 -9.1728 < 2.2e-16 ***\n",
              "ar2 -0.83221    0.13744 -6.0549 1.405e-09 ***\n",
              "---\n",
              "Signif. codes:  0 ‘***’ 0.001 ‘**’ 0.01 ‘*’ 0.05 ‘.’ 0.1 ‘ ’ 1\n"
            ]
          },
          "metadata": {}
        }
      ]
    },
    {
      "cell_type": "markdown",
      "source": [
        "##### Model 4 (1, 4, 1)"
      ],
      "metadata": {
        "id": "AbOkFjQ8b2GW"
      }
    },
    {
      "cell_type": "code",
      "source": [
        "model_arima_4 = arima(transformed, order = c(1, 4, 1))\n",
        "model_arima_4"
      ],
      "metadata": {
        "colab": {
          "base_uri": "https://localhost:8080/",
          "height": 191
        },
        "outputId": "f6a50f90-0ceb-4fc1-a8ac-f5f41f62a837",
        "id": "HKYCs8kEdSmm"
      },
      "execution_count": null,
      "outputs": [
        {
          "output_type": "display_data",
          "data": {
            "text/plain": [
              "\n",
              "Call:\n",
              "arima(x = transformed, order = c(1, 4, 1))\n",
              "\n",
              "Coefficients:\n",
              "          ar1      ma1\n",
              "      -0.6322  -0.9752\n",
              "s.e.   0.1947   0.2222\n",
              "\n",
              "sigma^2 estimated as 0.0826:  log likelihood = -7.24,  aic = 18.48"
            ]
          },
          "metadata": {}
        }
      ]
    },
    {
      "cell_type": "markdown",
      "source": [
        "###### Significance Test"
      ],
      "metadata": {
        "id": "4RAwIwmAdSmn"
      }
    },
    {
      "cell_type": "code",
      "source": [
        "coeftest(model_arima_4)\n",
        "\n",
        "# All significant"
      ],
      "metadata": {
        "colab": {
          "base_uri": "https://localhost:8080/",
          "height": 156
        },
        "outputId": "04ba37e0-890a-4d5a-9cf9-679fba2effc2",
        "id": "3KtLpJvSdSmn"
      },
      "execution_count": null,
      "outputs": [
        {
          "output_type": "display_data",
          "data": {
            "text/plain": [
              "\n",
              "z test of coefficients:\n",
              "\n",
              "    Estimate Std. Error z value  Pr(>|z|)    \n",
              "ar1 -0.63220    0.19469 -3.2472  0.001165 ** \n",
              "ma1 -0.97521    0.22224 -4.3881 1.143e-05 ***\n",
              "---\n",
              "Signif. codes:  0 ‘***’ 0.001 ‘**’ 0.01 ‘*’ 0.05 ‘.’ 0.1 ‘ ’ 1\n"
            ]
          },
          "metadata": {}
        }
      ]
    },
    {
      "cell_type": "markdown",
      "source": [
        "##### Model 5 (2, 4, 1)"
      ],
      "metadata": {
        "id": "Xb6TbaUub7fD"
      }
    },
    {
      "cell_type": "code",
      "source": [
        "model_arima_5 = arima(transformed, order = c(2, 4, 1))\n",
        "model_arima_5"
      ],
      "metadata": {
        "colab": {
          "base_uri": "https://localhost:8080/",
          "height": 191
        },
        "outputId": "2c556fd9-51ae-47f4-c09f-3912f6b79fdd",
        "id": "5oLGeBHddbA-"
      },
      "execution_count": null,
      "outputs": [
        {
          "output_type": "display_data",
          "data": {
            "text/plain": [
              "\n",
              "Call:\n",
              "arima(x = transformed, order = c(2, 4, 1))\n",
              "\n",
              "Coefficients:\n",
              "          ar1      ar2      ma1\n",
              "      -1.2786  -0.7914  -0.9715\n",
              "s.e.   0.1761   0.1558   0.2381\n",
              "\n",
              "sigma^2 estimated as 0.0326:  log likelihood = -2.27,  aic = 10.54"
            ]
          },
          "metadata": {}
        }
      ]
    },
    {
      "cell_type": "markdown",
      "source": [
        "###### Significance Test"
      ],
      "metadata": {
        "id": "kW97yyH0dbA_"
      }
    },
    {
      "cell_type": "code",
      "source": [
        "coeftest(model_arima_5)\n",
        "\n",
        "# All significant"
      ],
      "metadata": {
        "colab": {
          "base_uri": "https://localhost:8080/",
          "height": 173
        },
        "outputId": "7832f2d3-7906-44fe-91ea-65bb8bcd1fec",
        "id": "viZuE_FWdbA_"
      },
      "execution_count": null,
      "outputs": [
        {
          "output_type": "display_data",
          "data": {
            "text/plain": [
              "\n",
              "z test of coefficients:\n",
              "\n",
              "    Estimate Std. Error z value  Pr(>|z|)    \n",
              "ar1 -1.27864    0.17612 -7.2602 3.865e-13 ***\n",
              "ar2 -0.79137    0.15584 -5.0781 3.812e-07 ***\n",
              "ma1 -0.97148    0.23808 -4.0806 4.493e-05 ***\n",
              "---\n",
              "Signif. codes:  0 ‘***’ 0.001 ‘**’ 0.01 ‘*’ 0.05 ‘.’ 0.1 ‘ ’ 1\n"
            ]
          },
          "metadata": {}
        }
      ]
    },
    {
      "cell_type": "markdown",
      "source": [
        "#### Assumption Test"
      ],
      "metadata": {
        "id": "1rIIBF2udoG4"
      }
    },
    {
      "cell_type": "markdown",
      "source": [
        "##### White Noise (No significant autocorrelation in the residuals)"
      ],
      "metadata": {
        "id": "GIKhOoKJdvHn"
      }
    },
    {
      "cell_type": "markdown",
      "source": [
        "###### Model 1"
      ],
      "metadata": {
        "id": "s-60YJPqd_Lu"
      }
    },
    {
      "cell_type": "code",
      "source": [
        "Box.test(model_arima_1$residuals, type = \"Ljung-Box\")\n",
        "\n",
        "# Reject null hypothesis\n",
        "# Not white noise"
      ],
      "metadata": {
        "colab": {
          "base_uri": "https://localhost:8080/",
          "height": 104
        },
        "id": "EzSIL6K6eFLk",
        "outputId": "6aead219-50f1-45bc-82e5-cbc74a26e752"
      },
      "execution_count": null,
      "outputs": [
        {
          "output_type": "display_data",
          "data": {
            "text/plain": [
              "\n",
              "\tBox-Ljung test\n",
              "\n",
              "data:  model_arima_1$residuals\n",
              "X-squared = 5.2228, df = 1, p-value = 0.02229\n"
            ]
          },
          "metadata": {}
        }
      ]
    },
    {
      "cell_type": "markdown",
      "source": [
        "###### Model 2"
      ],
      "metadata": {
        "id": "exoICnA8eAfK"
      }
    },
    {
      "cell_type": "code",
      "source": [
        "Box.test(model_arima_2$residuals, type = \"Ljung-Box\")\n",
        "\n",
        "# Reject null hypothesis\n",
        "# Not white noise"
      ],
      "metadata": {
        "colab": {
          "base_uri": "https://localhost:8080/",
          "height": 104
        },
        "id": "NksyJDnpe2Jk",
        "outputId": "9ddb47c5-6902-4444-9f83-50bfba8d6477"
      },
      "execution_count": null,
      "outputs": [
        {
          "output_type": "display_data",
          "data": {
            "text/plain": [
              "\n",
              "\tBox-Ljung test\n",
              "\n",
              "data:  model_arima_2$residuals\n",
              "X-squared = 8.6363, df = 1, p-value = 0.003295\n"
            ]
          },
          "metadata": {}
        }
      ]
    },
    {
      "cell_type": "markdown",
      "source": [
        "###### Model 3"
      ],
      "metadata": {
        "id": "eT6U1QrOeCl1"
      }
    },
    {
      "cell_type": "code",
      "source": [
        "Box.test(model_arima_3$residuals, type = \"Ljung-Box\")\n",
        "\n",
        "# Fail to reject null hypothesis\n",
        "# White noise"
      ],
      "metadata": {
        "colab": {
          "base_uri": "https://localhost:8080/",
          "height": 104
        },
        "id": "AMFJ7itne4ut",
        "outputId": "eabdc6ef-be33-4b3f-f8cc-775379325fd4"
      },
      "execution_count": null,
      "outputs": [
        {
          "output_type": "display_data",
          "data": {
            "text/plain": [
              "\n",
              "\tBox-Ljung test\n",
              "\n",
              "data:  model_arima_3$residuals\n",
              "X-squared = 0.78257, df = 1, p-value = 0.3764\n"
            ]
          },
          "metadata": {}
        }
      ]
    },
    {
      "cell_type": "markdown",
      "source": [
        "###### Model 4"
      ],
      "metadata": {
        "id": "QGXfAk86uXWm"
      }
    },
    {
      "cell_type": "code",
      "source": [
        "Box.test(model_arima_4$residuals, type = \"Ljung-Box\")\n",
        "\n",
        "# Fail to reject null hypothesis\n",
        "# White noise"
      ],
      "metadata": {
        "colab": {
          "base_uri": "https://localhost:8080/",
          "height": 104
        },
        "outputId": "ea6a3ab3-ddd3-4efb-ac77-96d777519736",
        "id": "SJ_06TBbuXXL"
      },
      "execution_count": null,
      "outputs": [
        {
          "output_type": "display_data",
          "data": {
            "text/plain": [
              "\n",
              "\tBox-Ljung test\n",
              "\n",
              "data:  model_arima_4$residuals\n",
              "X-squared = 1.8155, df = 1, p-value = 0.1778\n"
            ]
          },
          "metadata": {}
        }
      ]
    },
    {
      "cell_type": "markdown",
      "source": [
        "###### Model 5"
      ],
      "metadata": {
        "id": "RdCcCYGDuXoV"
      }
    },
    {
      "cell_type": "code",
      "source": [
        "Box.test(model_arima_5$residuals, type = \"Ljung-Box\")\n",
        "\n",
        "# Fail to reject null hypothesis\n",
        "# White noise"
      ],
      "metadata": {
        "colab": {
          "base_uri": "https://localhost:8080/",
          "height": 104
        },
        "outputId": "e2ded079-d7da-466f-a083-c4fe4dd3e86d",
        "id": "FinxbgRBuXoW"
      },
      "execution_count": null,
      "outputs": [
        {
          "output_type": "display_data",
          "data": {
            "text/plain": [
              "\n",
              "\tBox-Ljung test\n",
              "\n",
              "data:  model_arima_5$residuals\n",
              "X-squared = 0.15837, df = 1, p-value = 0.6907\n"
            ]
          },
          "metadata": {}
        }
      ]
    },
    {
      "cell_type": "markdown",
      "source": [
        "##### Normally Distributed"
      ],
      "metadata": {
        "id": "reGxzbmRdygt"
      }
    },
    {
      "cell_type": "markdown",
      "source": [
        "###### Model 1"
      ],
      "metadata": {
        "id": "_bQjBGFwfG8_"
      }
    },
    {
      "cell_type": "code",
      "source": [
        "lillie.test(model_arima_1$residuals)\n",
        "\n",
        "# Reject null hypothesis\n",
        "# Not normally distributed"
      ],
      "metadata": {
        "colab": {
          "base_uri": "https://localhost:8080/",
          "height": 104
        },
        "outputId": "b2766462-6b21-4c8c-8509-5303686858fe",
        "id": "rLcdNynTfG8_"
      },
      "execution_count": null,
      "outputs": [
        {
          "output_type": "display_data",
          "data": {
            "text/plain": [
              "\n",
              "\tLilliefors (Kolmogorov-Smirnov) normality test\n",
              "\n",
              "data:  model_arima_1$residuals\n",
              "D = 0.2421, p-value = 0.006515\n"
            ]
          },
          "metadata": {}
        }
      ]
    },
    {
      "cell_type": "markdown",
      "source": [
        "###### Model 2"
      ],
      "metadata": {
        "id": "t4Au4yM2fG9A"
      }
    },
    {
      "cell_type": "code",
      "source": [
        "lillie.test(model_arima_2$residuals)\n",
        "\n",
        "# Reject null hypothesis\n",
        "# Not normally distributed"
      ],
      "metadata": {
        "colab": {
          "base_uri": "https://localhost:8080/",
          "height": 104
        },
        "outputId": "ce641076-d51d-45a0-8b74-bfa182d54f00",
        "id": "RpY2oZMYfG9A"
      },
      "execution_count": null,
      "outputs": [
        {
          "output_type": "display_data",
          "data": {
            "text/plain": [
              "\n",
              "\tLilliefors (Kolmogorov-Smirnov) normality test\n",
              "\n",
              "data:  model_arima_2$residuals\n",
              "D = 0.22288, p-value = 0.01843\n"
            ]
          },
          "metadata": {}
        }
      ]
    },
    {
      "cell_type": "markdown",
      "source": [
        "###### Model 3"
      ],
      "metadata": {
        "id": "9GuJKoX-fG9A"
      }
    },
    {
      "cell_type": "code",
      "source": [
        "lillie.test(model_arima_3$residuals)\n",
        "\n",
        "# Fail to reject null hypothesis\n",
        "# Normally distributed"
      ],
      "metadata": {
        "colab": {
          "base_uri": "https://localhost:8080/",
          "height": 104
        },
        "outputId": "bfdc3362-03f4-441b-bce1-78c65ce9098d",
        "id": "P43zYdT6fG9A"
      },
      "execution_count": null,
      "outputs": [
        {
          "output_type": "display_data",
          "data": {
            "text/plain": [
              "\n",
              "\tLilliefors (Kolmogorov-Smirnov) normality test\n",
              "\n",
              "data:  model_arima_3$residuals\n",
              "D = 0.12642, p-value = 0.627\n"
            ]
          },
          "metadata": {}
        }
      ]
    },
    {
      "cell_type": "markdown",
      "source": [
        "###### Model 4"
      ],
      "metadata": {
        "id": "I62nqAx-ux6d"
      }
    },
    {
      "cell_type": "code",
      "source": [
        "lillie.test(model_arima_4$residuals)\n",
        "\n",
        "# Reject null hypothesis\n",
        "# Not normally distributed"
      ],
      "metadata": {
        "colab": {
          "base_uri": "https://localhost:8080/",
          "height": 104
        },
        "outputId": "a24b5591-6abe-4464-b2ed-c84c17c828cb",
        "id": "JlP7EgKyux7E"
      },
      "execution_count": null,
      "outputs": [
        {
          "output_type": "display_data",
          "data": {
            "text/plain": [
              "\n",
              "\tLilliefors (Kolmogorov-Smirnov) normality test\n",
              "\n",
              "data:  model_arima_4$residuals\n",
              "D = 0.23546, p-value = 0.009444\n"
            ]
          },
          "metadata": {}
        }
      ]
    },
    {
      "cell_type": "markdown",
      "source": [
        "###### Model 5"
      ],
      "metadata": {
        "id": "NQ1bSyoguyMI"
      }
    },
    {
      "cell_type": "code",
      "source": [
        "lillie.test(model_arima_5$residuals)\n",
        "\n",
        "# Reject null hypothesis\n",
        "# Not normally distributed"
      ],
      "metadata": {
        "colab": {
          "base_uri": "https://localhost:8080/",
          "height": 104
        },
        "outputId": "f6070980-c09d-470e-bdc1-d67282991dae",
        "id": "mbKSetu6uyMK"
      },
      "execution_count": null,
      "outputs": [
        {
          "output_type": "display_data",
          "data": {
            "text/plain": [
              "\n",
              "\tLilliefors (Kolmogorov-Smirnov) normality test\n",
              "\n",
              "data:  model_arima_5$residuals\n",
              "D = 0.21165, p-value = 0.03218\n"
            ]
          },
          "metadata": {}
        }
      ]
    },
    {
      "cell_type": "markdown",
      "source": [
        "#### Model Evaluation"
      ],
      "metadata": {
        "id": "8OXvDFOofadc"
      }
    },
    {
      "cell_type": "markdown",
      "source": [
        "##### Model 3"
      ],
      "metadata": {
        "id": "GmC-1drGgMTd"
      }
    },
    {
      "cell_type": "code",
      "source": [
        "res_arima_3 = exp(model_arima_3$residuals)\n",
        "\n",
        "rmse_model_arima_3 = sqrt(mean(res_arima_3^2))\n",
        "mae_model_arima_3 = mean(abs(res_arima_3))\n",
        "mape_model_arima_3 = mean(abs(res_arima_3/training)) * 100\n",
        "mdae_model_arima_3 = median(abs(res_arima_3))\n",
        "\n",
        "eval_model_arima_3 = c(rmse_model_arima_3, mae_model_arima_3, mape_model_arima_3, mdae_model_arima_3)\n",
        "\n",
        "data.frame(eval_names, eval_model_arima_3)"
      ],
      "metadata": {
        "colab": {
          "base_uri": "https://localhost:8080/",
          "height": 223
        },
        "id": "DL20o6K_nSwO",
        "outputId": "26d26351-dd3b-44f4-94c0-1da8ff3c7f68"
      },
      "execution_count": null,
      "outputs": [
        {
          "output_type": "display_data",
          "data": {
            "text/html": [
              "<table class=\"dataframe\">\n",
              "<caption>A data.frame: 4 × 2</caption>\n",
              "<thead>\n",
              "\t<tr><th scope=col>eval_names</th><th scope=col>eval_model_arima_3</th></tr>\n",
              "\t<tr><th scope=col>&lt;chr&gt;</th><th scope=col>&lt;dbl&gt;</th></tr>\n",
              "</thead>\n",
              "<tbody>\n",
              "\t<tr><td>RMSE</td><td>1.103696</td></tr>\n",
              "\t<tr><td>MAE </td><td>1.070965</td></tr>\n",
              "\t<tr><td>MAPE</td><td>5.364759</td></tr>\n",
              "\t<tr><td>MDAE</td><td>1.003196</td></tr>\n",
              "</tbody>\n",
              "</table>\n"
            ],
            "text/markdown": "\nA data.frame: 4 × 2\n\n| eval_names &lt;chr&gt; | eval_model_arima_3 &lt;dbl&gt; |\n|---|---|\n| RMSE | 1.103696 |\n| MAE  | 1.070965 |\n| MAPE | 5.364759 |\n| MDAE | 1.003196 |\n\n",
            "text/latex": "A data.frame: 4 × 2\n\\begin{tabular}{ll}\n eval\\_names & eval\\_model\\_arima\\_3\\\\\n <chr> & <dbl>\\\\\n\\hline\n\t RMSE & 1.103696\\\\\n\t MAE  & 1.070965\\\\\n\t MAPE & 5.364759\\\\\n\t MDAE & 1.003196\\\\\n\\end{tabular}\n",
            "text/plain": [
              "  eval_names eval_model_arima_3\n",
              "1 RMSE       1.103696          \n",
              "2 MAE        1.070965          \n",
              "3 MAPE       5.364759          \n",
              "4 MDAE       1.003196          "
            ]
          },
          "metadata": {}
        }
      ]
    },
    {
      "cell_type": "markdown",
      "source": [
        "#### Testing Prediction & Evaluation"
      ],
      "metadata": {
        "id": "XAYBqlwcfa8B"
      }
    },
    {
      "cell_type": "markdown",
      "source": [
        "##### Model 3"
      ],
      "metadata": {
        "id": "O_u1kOYXgWBZ"
      }
    },
    {
      "cell_type": "markdown",
      "source": [
        "###### Prediction"
      ],
      "metadata": {
        "id": "xUGie1zAsL1d"
      }
    },
    {
      "cell_type": "code",
      "source": [
        "predict_arima_3 = predict(model_arima_3, n.ahead = length(testing))\n",
        "predict_arima_3"
      ],
      "metadata": {
        "colab": {
          "base_uri": "https://localhost:8080/",
          "height": 184
        },
        "outputId": "9d3f4f78-9800-4099-d25c-7b29e94b2298",
        "id": "4hRReN_vsL1d"
      },
      "execution_count": null,
      "outputs": [
        {
          "output_type": "display_data",
          "data": {
            "text/html": [
              "<dl>\n",
              "\t<dt>$pred</dt>\n",
              "\t\t<dd>A Time Series:<br><style>\n",
              ".list-inline {list-style: none; margin:0; padding: 0}\n",
              ".list-inline>li {display: inline-block}\n",
              ".list-inline>li:not(:last-child)::after {content: \"\\00b7\"; padding: 0 .5ex}\n",
              "</style>\n",
              "<ol class=list-inline><li>2.0289466488044</li><li>2.08342934599581</li><li>2.25829917758403</li><li>2.58652068805994</li><li>3.13996110915889</li><li>3.89164875442083</li><li>4.91839744827192</li><li>6.23630066885734</li></ol>\n",
              "</dd>\n",
              "\t<dt>$se</dt>\n",
              "\t\t<dd>A Time Series:<br><style>\n",
              ".list-inline {list-style: none; margin:0; padding: 0}\n",
              ".list-inline>li {display: inline-block}\n",
              ".list-inline>li:not(:last-child)::after {content: \"\\00b7\"; padding: 0 .5ex}\n",
              "</style>\n",
              "<ol class=list-inline><li>0.273176554064257</li><li>0.766695557885715</li><li>1.70022175677153</li><li>3.255961659092</li><li>5.53250788626773</li><li>8.78578584629795</li><li>13.1782027301438</li><li>18.9160452673369</li></ol>\n",
              "</dd>\n",
              "</dl>\n"
            ],
            "text/markdown": "$pred\n:   A Time Series:  \n1. 2.0289466488044\n2. 2.08342934599581\n3. 2.25829917758403\n4. 2.58652068805994\n5. 3.13996110915889\n6. 3.89164875442083\n7. 4.91839744827192\n8. 6.23630066885734\n\n\n\n$se\n:   A Time Series:  \n1. 0.273176554064257\n2. 0.766695557885715\n3. 1.70022175677153\n4. 3.255961659092\n5. 5.53250788626773\n6. 8.78578584629795\n7. 13.1782027301438\n8. 18.9160452673369\n\n\n\n\n\n",
            "text/latex": "\\begin{description}\n\\item[\\$pred] A Time Series:\\\\\\begin{enumerate*}\n\\item 2.0289466488044\n\\item 2.08342934599581\n\\item 2.25829917758403\n\\item 2.58652068805994\n\\item 3.13996110915889\n\\item 3.89164875442083\n\\item 4.91839744827192\n\\item 6.23630066885734\n\\end{enumerate*}\n\n\\item[\\$se] A Time Series:\\\\\\begin{enumerate*}\n\\item 0.273176554064257\n\\item 0.766695557885715\n\\item 1.70022175677153\n\\item 3.255961659092\n\\item 5.53250788626773\n\\item 8.78578584629795\n\\item 13.1782027301438\n\\item 18.9160452673369\n\\end{enumerate*}\n\n\\end{description}\n",
            "text/plain": [
              "$pred\n",
              "Time Series:\n",
              "Start = 2016 \n",
              "End = 2023 \n",
              "Frequency = 1 \n",
              "[1] 2.028947 2.083429 2.258299 2.586521 3.139961 3.891649 4.918397 6.236301\n",
              "\n",
              "$se\n",
              "Time Series:\n",
              "Start = 2016 \n",
              "End = 2023 \n",
              "Frequency = 1 \n",
              "[1]  0.2731766  0.7666956  1.7002218  3.2559617  5.5325079  8.7857858 13.1782027\n",
              "[8] 18.9160453\n"
            ]
          },
          "metadata": {}
        }
      ]
    },
    {
      "cell_type": "code",
      "source": [
        "predict_values_arima_3 = exp(predict_arima_3$pred)\n",
        "predict_values_arima_3"
      ],
      "metadata": {
        "colab": {
          "base_uri": "https://localhost:8080/",
          "height": 69
        },
        "outputId": "523c8dab-72f5-47a8-8bb2-9a06ccbbdf4c",
        "id": "sjpV4Yt7sL1d"
      },
      "execution_count": null,
      "outputs": [
        {
          "output_type": "display_data",
          "data": {
            "text/html": [
              "A Time Series:<br><style>\n",
              ".list-inline {list-style: none; margin:0; padding: 0}\n",
              ".list-inline>li {display: inline-block}\n",
              ".list-inline>li:not(:last-child)::after {content: \"\\00b7\"; padding: 0 .5ex}\n",
              "</style>\n",
              "<ol class=list-inline><li>7.60607027442778</li><li>8.03196612950043</li><li>9.56680388700554</li><li>13.2834737587254</li><li>23.1029683473791</li><li>48.9915950801259</li><li>136.783235241158</li><li>510.964782405642</li></ol>\n"
            ],
            "text/markdown": "A Time Series:  \n1. 7.60607027442778\n2. 8.03196612950043\n3. 9.56680388700554\n4. 13.2834737587254\n5. 23.1029683473791\n6. 48.9915950801259\n7. 136.783235241158\n8. 510.964782405642\n\n\n",
            "text/latex": "A Time Series:\\\\\\begin{enumerate*}\n\\item 7.60607027442778\n\\item 8.03196612950043\n\\item 9.56680388700554\n\\item 13.2834737587254\n\\item 23.1029683473791\n\\item 48.9915950801259\n\\item 136.783235241158\n\\item 510.964782405642\n\\end{enumerate*}\n",
            "text/plain": [
              "A Time Series:\n",
              "[1]   7.606070   8.031966   9.566804  13.283474  23.102968  48.991595 136.783235\n",
              "[8] 510.964782"
            ]
          },
          "metadata": {}
        }
      ]
    },
    {
      "cell_type": "markdown",
      "source": [
        "###### Evaluation"
      ],
      "metadata": {
        "id": "emkbcSQLsL1d"
      }
    },
    {
      "cell_type": "code",
      "source": [
        "rmse_arima_3 = rmse(testing, predict_values_arima_3)\n",
        "mae_arima_3 = mae(testing, predict_values_arima_3)\n",
        "mape_arima_3 = mape(testing, predict_values_arima_3)\n",
        "mdae_arima_3 = mdae(testing, predict_values_arima_3)\n",
        "\n",
        "eval_arima_3 = c(rmse_arima_3, mae_arima_3, mape_arima_3, mdae_arima_3)\n",
        "\n",
        "data.frame(eval_names, eval_arima_3)"
      ],
      "metadata": {
        "colab": {
          "base_uri": "https://localhost:8080/",
          "height": 223
        },
        "outputId": "09a50770-8613-4be2-a1a8-3e075ebe8249",
        "id": "Avk0DwbhsL1e"
      },
      "execution_count": null,
      "outputs": [
        {
          "output_type": "display_data",
          "data": {
            "text/html": [
              "<table class=\"dataframe\">\n",
              "<caption>A data.frame: 4 × 2</caption>\n",
              "<thead>\n",
              "\t<tr><th scope=col>eval_names</th><th scope=col>eval_arima_3</th></tr>\n",
              "\t<tr><th scope=col>&lt;chr&gt;</th><th scope=col>&lt;dbl&gt;</th></tr>\n",
              "</thead>\n",
              "<tbody>\n",
              "\t<tr><td>RMSE</td><td>186.98909</td></tr>\n",
              "\t<tr><td>MAE </td><td> 90.34136</td></tr>\n",
              "\t<tr><td>MAPE</td><td> 42.84265</td></tr>\n",
              "\t<tr><td>MDAE</td><td> 14.09322</td></tr>\n",
              "</tbody>\n",
              "</table>\n"
            ],
            "text/markdown": "\nA data.frame: 4 × 2\n\n| eval_names &lt;chr&gt; | eval_arima_3 &lt;dbl&gt; |\n|---|---|\n| RMSE | 186.98909 |\n| MAE  |  90.34136 |\n| MAPE |  42.84265 |\n| MDAE |  14.09322 |\n\n",
            "text/latex": "A data.frame: 4 × 2\n\\begin{tabular}{ll}\n eval\\_names & eval\\_arima\\_3\\\\\n <chr> & <dbl>\\\\\n\\hline\n\t RMSE & 186.98909\\\\\n\t MAE  &  90.34136\\\\\n\t MAPE &  42.84265\\\\\n\t MDAE &  14.09322\\\\\n\\end{tabular}\n",
            "text/plain": [
              "  eval_names eval_arima_3\n",
              "1 RMSE       186.98909   \n",
              "2 MAE         90.34136   \n",
              "3 MAPE        42.84265   \n",
              "4 MDAE        14.09322   "
            ]
          },
          "metadata": {}
        }
      ]
    },
    {
      "cell_type": "markdown",
      "source": [
        "#### Forecast 1 Year"
      ],
      "metadata": {
        "id": "htZXpKE2frZ9"
      }
    },
    {
      "cell_type": "markdown",
      "source": [
        "##### Model 1"
      ],
      "metadata": {
        "id": "4gwvYEyEgWx4"
      }
    },
    {
      "cell_type": "code",
      "source": [
        "forecast_arima_1 = exp(predict(model_arima_1, n.ahead = length(testing)+1)$pred[length(testing)+1])\n",
        "forecast_arima_1"
      ],
      "metadata": {
        "colab": {
          "base_uri": "https://localhost:8080/",
          "height": 34
        },
        "id": "ljDPfR_bsZZ9",
        "outputId": "d1f8c9fb-8516-4b5d-8ad2-dcabf9a4eea8"
      },
      "execution_count": null,
      "outputs": [
        {
          "output_type": "display_data",
          "data": {
            "text/html": [
              "9.88401406061004"
            ],
            "text/markdown": "9.88401406061004",
            "text/latex": "9.88401406061004",
            "text/plain": [
              "[1] 9.884014"
            ]
          },
          "metadata": {}
        }
      ]
    },
    {
      "cell_type": "markdown",
      "source": [
        "##### Model 2"
      ],
      "metadata": {
        "id": "3P-6iqzTgWx5"
      }
    },
    {
      "cell_type": "code",
      "source": [
        "forecast_arima_2 = exp(predict(model_arima_2, n.ahead = length(testing)+1)$pred[length(testing)+1])\n",
        "forecast_arima_2"
      ],
      "metadata": {
        "colab": {
          "base_uri": "https://localhost:8080/",
          "height": 34
        },
        "id": "P3rxrBxXs3qg",
        "outputId": "be119e19-55dd-4462-a205-68519863ec54"
      },
      "execution_count": null,
      "outputs": [
        {
          "output_type": "display_data",
          "data": {
            "text/html": [
              "23.2375405172893"
            ],
            "text/markdown": "23.2375405172893",
            "text/latex": "23.2375405172893",
            "text/plain": [
              "[1] 23.23754"
            ]
          },
          "metadata": {}
        }
      ]
    },
    {
      "cell_type": "markdown",
      "source": [
        "##### Model 3"
      ],
      "metadata": {
        "id": "GG1WezGqgWx5"
      }
    },
    {
      "cell_type": "code",
      "source": [
        "forecast_arima_3 = exp(predict(model_arima_3, n.ahead = length(testing)+1)$pred[length(testing)+1])\n",
        "forecast_arima_3"
      ],
      "metadata": {
        "colab": {
          "base_uri": "https://localhost:8080/",
          "height": 34
        },
        "id": "Sulxq8F1s7HW",
        "outputId": "d403f213-ab04-4667-aa56-4f5a870d60dd"
      },
      "execution_count": null,
      "outputs": [
        {
          "output_type": "display_data",
          "data": {
            "text/html": [
              "23.4923096329691"
            ],
            "text/markdown": "23.4923096329691",
            "text/latex": "23.4923096329691",
            "text/plain": [
              "[1] 23.49231"
            ]
          },
          "metadata": {}
        }
      ]
    },
    {
      "cell_type": "markdown",
      "metadata": {
        "id": "_z1qaJ6ENpgB"
      },
      "source": [
        "### Time Series Regression Model [DONE]"
      ]
    },
    {
      "cell_type": "markdown",
      "source": [
        "#### Model 1 (Linear Trend)"
      ],
      "metadata": {
        "id": "S8v2Du_E_Jvr"
      }
    },
    {
      "cell_type": "code",
      "execution_count": null,
      "metadata": {
        "id": "BGUmyE3jNuWh",
        "colab": {
          "base_uri": "https://localhost:8080/",
          "height": 286
        },
        "outputId": "16d0fa82-717e-4943-bed8-134b3fbe4359"
      },
      "outputs": [
        {
          "output_type": "display_data",
          "data": {
            "text/html": [
              "<table class=\"dataframe\">\n",
              "<caption>A tibble: 6 × 3</caption>\n",
              "<thead>\n",
              "\t<tr><th scope=col>Year</th><th scope=col>PovertyRatio</th><th scope=col>t</th></tr>\n",
              "\t<tr><th scope=col>&lt;chr&gt;</th><th scope=col>&lt;dbl&gt;</th><th scope=col>&lt;int&gt;</th></tr>\n",
              "</thead>\n",
              "<tbody>\n",
              "\t<tr><td>1998</td><td>69.1</td><td>1</td></tr>\n",
              "\t<tr><td>1999</td><td>46.0</td><td>2</td></tr>\n",
              "\t<tr><td>2000</td><td>43.6</td><td>3</td></tr>\n",
              "\t<tr><td>2001</td><td>39.9</td><td>4</td></tr>\n",
              "\t<tr><td>2002</td><td>26.8</td><td>5</td></tr>\n",
              "\t<tr><td>2003</td><td>26.4</td><td>6</td></tr>\n",
              "</tbody>\n",
              "</table>\n"
            ],
            "text/markdown": "\nA tibble: 6 × 3\n\n| Year &lt;chr&gt; | PovertyRatio &lt;dbl&gt; | t &lt;int&gt; |\n|---|---|---|\n| 1998 | 69.1 | 1 |\n| 1999 | 46.0 | 2 |\n| 2000 | 43.6 | 3 |\n| 2001 | 39.9 | 4 |\n| 2002 | 26.8 | 5 |\n| 2003 | 26.4 | 6 |\n\n",
            "text/latex": "A tibble: 6 × 3\n\\begin{tabular}{lll}\n Year & PovertyRatio & t\\\\\n <chr> & <dbl> & <int>\\\\\n\\hline\n\t 1998 & 69.1 & 1\\\\\n\t 1999 & 46.0 & 2\\\\\n\t 2000 & 43.6 & 3\\\\\n\t 2001 & 39.9 & 4\\\\\n\t 2002 & 26.8 & 5\\\\\n\t 2003 & 26.4 & 6\\\\\n\\end{tabular}\n",
            "text/plain": [
              "  Year PovertyRatio t\n",
              "1 1998 69.1         1\n",
              "2 1999 46.0         2\n",
              "3 2000 43.6         3\n",
              "4 2001 39.9         4\n",
              "5 2002 26.8         5\n",
              "6 2003 26.4         6"
            ]
          },
          "metadata": {}
        }
      ],
      "source": [
        "df_train$t = seq(1:n_train)\n",
        "names(df_train)[names(df_train) == \"Poverty Ratio (%)\"] <- \"PovertyRatio\"\n",
        "\n",
        "head(df_train)"
      ]
    },
    {
      "cell_type": "code",
      "source": [
        "df_test$t = seq((n_train+1),(n_train+length(testing)))\n",
        "names(df_test)[names(df_test) == \"Poverty Ratio (%)\"] <- \"PovertyRatio\"\n",
        "\n",
        "head(df_test)"
      ],
      "metadata": {
        "colab": {
          "base_uri": "https://localhost:8080/",
          "height": 286
        },
        "id": "2GoUGuznCacD",
        "outputId": "f7cb76e6-0fea-4756-9d44-56eb99a08f5f"
      },
      "execution_count": null,
      "outputs": [
        {
          "output_type": "display_data",
          "data": {
            "text/html": [
              "<table class=\"dataframe\">\n",
              "<caption>A tibble: 6 × 3</caption>\n",
              "<thead>\n",
              "\t<tr><th scope=col>Year</th><th scope=col>PovertyRatio</th><th scope=col>t</th></tr>\n",
              "\t<tr><th scope=col>&lt;chr&gt;</th><th scope=col>&lt;dbl&gt;</th><th scope=col>&lt;int&gt;</th></tr>\n",
              "</thead>\n",
              "<tbody>\n",
              "\t<tr><td>2016</td><td>7.5</td><td>19</td></tr>\n",
              "\t<tr><td>2017</td><td>6.6</td><td>20</td></tr>\n",
              "\t<tr><td>2018</td><td>5.4</td><td>21</td></tr>\n",
              "\t<tr><td>2019</td><td>4.4</td><td>22</td></tr>\n",
              "\t<tr><td>2020</td><td>3.8</td><td>23</td></tr>\n",
              "\t<tr><td>2021</td><td>3.5</td><td>24</td></tr>\n",
              "</tbody>\n",
              "</table>\n"
            ],
            "text/markdown": "\nA tibble: 6 × 3\n\n| Year &lt;chr&gt; | PovertyRatio &lt;dbl&gt; | t &lt;int&gt; |\n|---|---|---|\n| 2016 | 7.5 | 19 |\n| 2017 | 6.6 | 20 |\n| 2018 | 5.4 | 21 |\n| 2019 | 4.4 | 22 |\n| 2020 | 3.8 | 23 |\n| 2021 | 3.5 | 24 |\n\n",
            "text/latex": "A tibble: 6 × 3\n\\begin{tabular}{lll}\n Year & PovertyRatio & t\\\\\n <chr> & <dbl> & <int>\\\\\n\\hline\n\t 2016 & 7.5 & 19\\\\\n\t 2017 & 6.6 & 20\\\\\n\t 2018 & 5.4 & 21\\\\\n\t 2019 & 4.4 & 22\\\\\n\t 2020 & 3.8 & 23\\\\\n\t 2021 & 3.5 & 24\\\\\n\\end{tabular}\n",
            "text/plain": [
              "  Year PovertyRatio t \n",
              "1 2016 7.5          19\n",
              "2 2017 6.6          20\n",
              "3 2018 5.4          21\n",
              "4 2019 4.4          22\n",
              "5 2020 3.8          23\n",
              "6 2021 3.5          24"
            ]
          },
          "metadata": {}
        }
      ]
    },
    {
      "cell_type": "code",
      "source": [
        "model_tsr_1 = lm(PovertyRatio ~ t, data = df_train)\n",
        "model_tsr_1"
      ],
      "metadata": {
        "colab": {
          "base_uri": "https://localhost:8080/",
          "height": 145
        },
        "id": "Zq0rDrvwADCr",
        "outputId": "b456b21a-a808-4e09-be8f-1835e16af394"
      },
      "execution_count": null,
      "outputs": [
        {
          "output_type": "display_data",
          "data": {
            "text/plain": [
              "\n",
              "Call:\n",
              "lm(formula = PovertyRatio ~ t, data = df_train)\n",
              "\n",
              "Coefficients:\n",
              "(Intercept)            t  \n",
              "     51.109       -2.565  \n"
            ]
          },
          "metadata": {}
        }
      ]
    },
    {
      "cell_type": "markdown",
      "source": [
        "##### Significance Test (t and F)"
      ],
      "metadata": {
        "id": "vDXjW_Lj5s1O"
      }
    },
    {
      "cell_type": "code",
      "source": [
        "summary(model_tsr_1)\n",
        "\n",
        "# Everything is significant (both t and F)"
      ],
      "metadata": {
        "colab": {
          "base_uri": "https://localhost:8080/",
          "height": 345
        },
        "id": "c89IgUruNyvJ",
        "outputId": "a8bd6111-ecd0-4df6-a976-fb90e206959f"
      },
      "execution_count": null,
      "outputs": [
        {
          "output_type": "display_data",
          "data": {
            "text/plain": [
              "\n",
              "Call:\n",
              "lm(formula = PovertyRatio ~ t, data = df_train)\n",
              "\n",
              "Residuals:\n",
              "     Min       1Q   Median       3Q      Max \n",
              "-11.4856  -0.7783   0.5144   1.6247  20.5556 \n",
              "\n",
              "Coefficients:\n",
              "            Estimate Std. Error t value Pr(>|t|)    \n",
              "(Intercept)  51.1092     3.3530   15.24 6.00e-11 ***\n",
              "t            -2.5647     0.3098   -8.28 3.54e-07 ***\n",
              "---\n",
              "Signif. codes:  0 ‘***’ 0.001 ‘**’ 0.01 ‘*’ 0.05 ‘.’ 0.1 ‘ ’ 1\n",
              "\n",
              "Residual standard error: 6.818 on 16 degrees of freedom\n",
              "Multiple R-squared:  0.8108,\tAdjusted R-squared:  0.7989 \n",
              "F-statistic: 68.55 on 1 and 16 DF,  p-value: 3.542e-07\n"
            ]
          },
          "metadata": {}
        }
      ]
    },
    {
      "cell_type": "markdown",
      "source": [
        "##### Assumption Test"
      ],
      "metadata": {
        "id": "FdudwLqq5zaZ"
      }
    },
    {
      "cell_type": "code",
      "source": [
        "dwtest(model_tsr_1, alternative = \"two.sided\")\n",
        "\n",
        "# Reject null hypothesis\n",
        "# Have autocorrelation"
      ],
      "metadata": {
        "colab": {
          "base_uri": "https://localhost:8080/",
          "height": 126
        },
        "id": "tcFwIaK2N2me",
        "outputId": "8df1d779-9aac-465e-dcc9-a89fa3d584ab"
      },
      "execution_count": null,
      "outputs": [
        {
          "output_type": "display_data",
          "data": {
            "text/plain": [
              "\n",
              "\tDurbin-Watson test\n",
              "\n",
              "data:  model_tsr_1\n",
              "DW = 0.85894, p-value = 0.002268\n",
              "alternative hypothesis: true autocorrelation is not 0\n"
            ]
          },
          "metadata": {}
        }
      ]
    },
    {
      "cell_type": "code",
      "source": [
        "bptest(model_tsr_1)\n",
        "\n",
        "# Reject null hypothesis\n",
        "# Heteroscedasticity"
      ],
      "metadata": {
        "colab": {
          "base_uri": "https://localhost:8080/",
          "height": 108
        },
        "id": "8T4x8mATN6zN",
        "outputId": "021552f2-3207-4f4e-c986-23f3337515e9"
      },
      "execution_count": null,
      "outputs": [
        {
          "output_type": "display_data",
          "data": {
            "text/plain": [
              "\n",
              "\tstudentized Breusch-Pagan test\n",
              "\n",
              "data:  model_tsr_1\n",
              "BP = 4.2903, df = 1, p-value = 0.03833\n"
            ]
          },
          "metadata": {}
        }
      ]
    },
    {
      "cell_type": "code",
      "source": [
        "lillie.test(model_tsr_1$residuals)\n",
        "\n",
        "# Reject null hypothesis\n",
        "# Not normally distributed"
      ],
      "metadata": {
        "colab": {
          "base_uri": "https://localhost:8080/",
          "height": 108
        },
        "id": "OvrAaLT1N9rk",
        "outputId": "ed2ce8ab-3d89-4f26-d13e-47c6dd56ea7c"
      },
      "execution_count": null,
      "outputs": [
        {
          "output_type": "display_data",
          "data": {
            "text/plain": [
              "\n",
              "\tLilliefors (Kolmogorov-Smirnov) normality test\n",
              "\n",
              "data:  model_tsr_1$residuals\n",
              "D = 0.25042, p-value = 0.004015\n"
            ]
          },
          "metadata": {}
        }
      ]
    },
    {
      "cell_type": "markdown",
      "source": [
        "#### Model 2 (Exponential Trend)"
      ],
      "metadata": {
        "id": "6FNojIco_TMy"
      }
    },
    {
      "cell_type": "code",
      "execution_count": null,
      "metadata": {
        "colab": {
          "base_uri": "https://localhost:8080/",
          "height": 286
        },
        "outputId": "c1bf6517-979e-47f5-cc2f-673052458ee4",
        "id": "Y_AUUmfYEjL2"
      },
      "outputs": [
        {
          "output_type": "display_data",
          "data": {
            "text/html": [
              "<table class=\"dataframe\">\n",
              "<caption>A tibble: 6 × 4</caption>\n",
              "<thead>\n",
              "\t<tr><th scope=col>Year</th><th scope=col>PovertyRatio</th><th scope=col>t</th><th scope=col>lnY</th></tr>\n",
              "\t<tr><th scope=col>&lt;chr&gt;</th><th scope=col>&lt;dbl&gt;</th><th scope=col>&lt;int&gt;</th><th scope=col>&lt;dbl&gt;</th></tr>\n",
              "</thead>\n",
              "<tbody>\n",
              "\t<tr><td>1998</td><td>69.1</td><td>1</td><td>4.235555</td></tr>\n",
              "\t<tr><td>1999</td><td>46.0</td><td>2</td><td>3.828641</td></tr>\n",
              "\t<tr><td>2000</td><td>43.6</td><td>3</td><td>3.775057</td></tr>\n",
              "\t<tr><td>2001</td><td>39.9</td><td>4</td><td>3.686376</td></tr>\n",
              "\t<tr><td>2002</td><td>26.8</td><td>5</td><td>3.288402</td></tr>\n",
              "\t<tr><td>2003</td><td>26.4</td><td>6</td><td>3.273364</td></tr>\n",
              "</tbody>\n",
              "</table>\n"
            ],
            "text/markdown": "\nA tibble: 6 × 4\n\n| Year &lt;chr&gt; | PovertyRatio &lt;dbl&gt; | t &lt;int&gt; | lnY &lt;dbl&gt; |\n|---|---|---|---|\n| 1998 | 69.1 | 1 | 4.235555 |\n| 1999 | 46.0 | 2 | 3.828641 |\n| 2000 | 43.6 | 3 | 3.775057 |\n| 2001 | 39.9 | 4 | 3.686376 |\n| 2002 | 26.8 | 5 | 3.288402 |\n| 2003 | 26.4 | 6 | 3.273364 |\n\n",
            "text/latex": "A tibble: 6 × 4\n\\begin{tabular}{llll}\n Year & PovertyRatio & t & lnY\\\\\n <chr> & <dbl> & <int> & <dbl>\\\\\n\\hline\n\t 1998 & 69.1 & 1 & 4.235555\\\\\n\t 1999 & 46.0 & 2 & 3.828641\\\\\n\t 2000 & 43.6 & 3 & 3.775057\\\\\n\t 2001 & 39.9 & 4 & 3.686376\\\\\n\t 2002 & 26.8 & 5 & 3.288402\\\\\n\t 2003 & 26.4 & 6 & 3.273364\\\\\n\\end{tabular}\n",
            "text/plain": [
              "  Year PovertyRatio t lnY     \n",
              "1 1998 69.1         1 4.235555\n",
              "2 1999 46.0         2 3.828641\n",
              "3 2000 43.6         3 3.775057\n",
              "4 2001 39.9         4 3.686376\n",
              "5 2002 26.8         5 3.288402\n",
              "6 2003 26.4         6 3.273364"
            ]
          },
          "metadata": {}
        }
      ],
      "source": [
        "df_train$lnY = log(df_train$PovertyRatio)\n",
        "head(df_train)"
      ]
    },
    {
      "cell_type": "code",
      "source": [
        "df_test$lnY = log(df_test$PovertyRatio)\n",
        "head(df_test)"
      ],
      "metadata": {
        "colab": {
          "base_uri": "https://localhost:8080/",
          "height": 286
        },
        "outputId": "29ca3569-e74c-49f9-fe2e-0ae655b50f24",
        "id": "X7aPX7mrEjL3"
      },
      "execution_count": null,
      "outputs": [
        {
          "output_type": "display_data",
          "data": {
            "text/html": [
              "<table class=\"dataframe\">\n",
              "<caption>A tibble: 6 × 4</caption>\n",
              "<thead>\n",
              "\t<tr><th scope=col>Year</th><th scope=col>PovertyRatio</th><th scope=col>t</th><th scope=col>lnY</th></tr>\n",
              "\t<tr><th scope=col>&lt;chr&gt;</th><th scope=col>&lt;dbl&gt;</th><th scope=col>&lt;int&gt;</th><th scope=col>&lt;dbl&gt;</th></tr>\n",
              "</thead>\n",
              "<tbody>\n",
              "\t<tr><td>2016</td><td>7.5</td><td>19</td><td>2.014903</td></tr>\n",
              "\t<tr><td>2017</td><td>6.6</td><td>20</td><td>1.887070</td></tr>\n",
              "\t<tr><td>2018</td><td>5.4</td><td>21</td><td>1.686399</td></tr>\n",
              "\t<tr><td>2019</td><td>4.4</td><td>22</td><td>1.481605</td></tr>\n",
              "\t<tr><td>2020</td><td>3.8</td><td>23</td><td>1.335001</td></tr>\n",
              "\t<tr><td>2021</td><td>3.5</td><td>24</td><td>1.252763</td></tr>\n",
              "</tbody>\n",
              "</table>\n"
            ],
            "text/markdown": "\nA tibble: 6 × 4\n\n| Year &lt;chr&gt; | PovertyRatio &lt;dbl&gt; | t &lt;int&gt; | lnY &lt;dbl&gt; |\n|---|---|---|---|\n| 2016 | 7.5 | 19 | 2.014903 |\n| 2017 | 6.6 | 20 | 1.887070 |\n| 2018 | 5.4 | 21 | 1.686399 |\n| 2019 | 4.4 | 22 | 1.481605 |\n| 2020 | 3.8 | 23 | 1.335001 |\n| 2021 | 3.5 | 24 | 1.252763 |\n\n",
            "text/latex": "A tibble: 6 × 4\n\\begin{tabular}{llll}\n Year & PovertyRatio & t & lnY\\\\\n <chr> & <dbl> & <int> & <dbl>\\\\\n\\hline\n\t 2016 & 7.5 & 19 & 2.014903\\\\\n\t 2017 & 6.6 & 20 & 1.887070\\\\\n\t 2018 & 5.4 & 21 & 1.686399\\\\\n\t 2019 & 4.4 & 22 & 1.481605\\\\\n\t 2020 & 3.8 & 23 & 1.335001\\\\\n\t 2021 & 3.5 & 24 & 1.252763\\\\\n\\end{tabular}\n",
            "text/plain": [
              "  Year PovertyRatio t  lnY     \n",
              "1 2016 7.5          19 2.014903\n",
              "2 2017 6.6          20 1.887070\n",
              "3 2018 5.4          21 1.686399\n",
              "4 2019 4.4          22 1.481605\n",
              "5 2020 3.8          23 1.335001\n",
              "6 2021 3.5          24 1.252763"
            ]
          },
          "metadata": {}
        }
      ]
    },
    {
      "cell_type": "code",
      "source": [
        "model_tsr_2 = lm(lnY ~ t, data = df_train)\n",
        "model_tsr_2"
      ],
      "metadata": {
        "colab": {
          "base_uri": "https://localhost:8080/",
          "height": 145
        },
        "outputId": "6a78c8ae-c303-4a1a-d3c6-cbdefa915002",
        "id": "g-azqr48Egai"
      },
      "execution_count": null,
      "outputs": [
        {
          "output_type": "display_data",
          "data": {
            "text/plain": [
              "\n",
              "Call:\n",
              "lm(formula = lnY ~ t, data = df_train)\n",
              "\n",
              "Coefficients:\n",
              "(Intercept)            t  \n",
              "     4.1035      -0.1014  \n"
            ]
          },
          "metadata": {}
        }
      ]
    },
    {
      "cell_type": "markdown",
      "source": [
        "##### Significance Test (t and F)"
      ],
      "metadata": {
        "id": "f38GR3bw6YW9"
      }
    },
    {
      "cell_type": "code",
      "source": [
        "summary(model_tsr_2)\n",
        "\n",
        "# Everything is significant (both t and F)"
      ],
      "metadata": {
        "colab": {
          "base_uri": "https://localhost:8080/",
          "height": 345
        },
        "outputId": "d5169922-d7e3-4cb1-9852-bfc33120def4",
        "id": "b8izk-hOObKv"
      },
      "execution_count": null,
      "outputs": [
        {
          "output_type": "display_data",
          "data": {
            "text/plain": [
              "\n",
              "Call:\n",
              "lm(formula = lnY ~ t, data = df_train)\n",
              "\n",
              "Residuals:\n",
              "     Min       1Q   Median       3Q      Max \n",
              "-0.30817 -0.09587 -0.01795  0.13331  0.23341 \n",
              "\n",
              "Coefficients:\n",
              "             Estimate Std. Error t value Pr(>|t|)    \n",
              "(Intercept)  4.103545   0.081590   50.30  < 2e-16 ***\n",
              "t           -0.101395   0.007538  -13.45 3.87e-10 ***\n",
              "---\n",
              "Signif. codes:  0 ‘***’ 0.001 ‘**’ 0.01 ‘*’ 0.05 ‘.’ 0.1 ‘ ’ 1\n",
              "\n",
              "Residual standard error: 0.1659 on 16 degrees of freedom\n",
              "Multiple R-squared:  0.9188,\tAdjusted R-squared:  0.9137 \n",
              "F-statistic:   181 on 1 and 16 DF,  p-value: 3.868e-10\n"
            ]
          },
          "metadata": {}
        }
      ]
    },
    {
      "cell_type": "markdown",
      "source": [
        "##### Assumption Test"
      ],
      "metadata": {
        "id": "mSq9JiKR6bYZ"
      }
    },
    {
      "cell_type": "code",
      "source": [
        "dwtest(model_tsr_2, alternative = \"two.sided\")\n",
        "\n",
        "# Reject null hypothesis\n",
        "# Have autocorrelation"
      ],
      "metadata": {
        "colab": {
          "base_uri": "https://localhost:8080/",
          "height": 126
        },
        "outputId": "2854e1a6-8d97-46d5-93fc-00a6a45f3931",
        "id": "d2pI7NUCObKx"
      },
      "execution_count": null,
      "outputs": [
        {
          "output_type": "display_data",
          "data": {
            "text/plain": [
              "\n",
              "\tDurbin-Watson test\n",
              "\n",
              "data:  model_tsr_2\n",
              "DW = 0.79524, p-value = 0.001147\n",
              "alternative hypothesis: true autocorrelation is not 0\n"
            ]
          },
          "metadata": {}
        }
      ]
    },
    {
      "cell_type": "code",
      "source": [
        "bptest(model_tsr_2)\n",
        "\n",
        "# Accept null hypothesis\n",
        "# Homoscedasticity"
      ],
      "metadata": {
        "colab": {
          "base_uri": "https://localhost:8080/",
          "height": 108
        },
        "outputId": "19a0f23a-7753-40a3-a617-c9c34979f506",
        "id": "BopNjGNqObKx"
      },
      "execution_count": null,
      "outputs": [
        {
          "output_type": "display_data",
          "data": {
            "text/plain": [
              "\n",
              "\tstudentized Breusch-Pagan test\n",
              "\n",
              "data:  model_tsr_2\n",
              "BP = 0.90616, df = 1, p-value = 0.3411\n"
            ]
          },
          "metadata": {}
        }
      ]
    },
    {
      "cell_type": "code",
      "source": [
        "lillie.test(model_tsr_2$residuals)\n",
        "\n",
        "# Accept null hypothesis\n",
        "# Normally distributed"
      ],
      "metadata": {
        "colab": {
          "base_uri": "https://localhost:8080/",
          "height": 108
        },
        "outputId": "2a829d62-e2f1-4cdc-f847-e40ebf766c87",
        "id": "Taz2q-czObKy"
      },
      "execution_count": null,
      "outputs": [
        {
          "output_type": "display_data",
          "data": {
            "text/plain": [
              "\n",
              "\tLilliefors (Kolmogorov-Smirnov) normality test\n",
              "\n",
              "data:  model_tsr_2$residuals\n",
              "D = 0.10814, p-value = 0.8357\n"
            ]
          },
          "metadata": {}
        }
      ]
    },
    {
      "cell_type": "markdown",
      "source": [
        "#### Model 3 (Quadratic Trend)"
      ],
      "metadata": {
        "id": "Gti3uDij_Y3O"
      }
    },
    {
      "cell_type": "code",
      "execution_count": null,
      "metadata": {
        "colab": {
          "base_uri": "https://localhost:8080/",
          "height": 286
        },
        "outputId": "3166d6b1-21bc-4be5-f277-4e3291412a52",
        "id": "tEmQ-Q5DI2R8"
      },
      "outputs": [
        {
          "output_type": "display_data",
          "data": {
            "text/html": [
              "<table class=\"dataframe\">\n",
              "<caption>A tibble: 6 × 5</caption>\n",
              "<thead>\n",
              "\t<tr><th scope=col>Year</th><th scope=col>PovertyRatio</th><th scope=col>t</th><th scope=col>lnY</th><th scope=col>t2</th></tr>\n",
              "\t<tr><th scope=col>&lt;chr&gt;</th><th scope=col>&lt;dbl&gt;</th><th scope=col>&lt;int&gt;</th><th scope=col>&lt;dbl&gt;</th><th scope=col>&lt;dbl&gt;</th></tr>\n",
              "</thead>\n",
              "<tbody>\n",
              "\t<tr><td>1998</td><td>69.1</td><td>1</td><td>4.235555</td><td> 1</td></tr>\n",
              "\t<tr><td>1999</td><td>46.0</td><td>2</td><td>3.828641</td><td> 4</td></tr>\n",
              "\t<tr><td>2000</td><td>43.6</td><td>3</td><td>3.775057</td><td> 9</td></tr>\n",
              "\t<tr><td>2001</td><td>39.9</td><td>4</td><td>3.686376</td><td>16</td></tr>\n",
              "\t<tr><td>2002</td><td>26.8</td><td>5</td><td>3.288402</td><td>25</td></tr>\n",
              "\t<tr><td>2003</td><td>26.4</td><td>6</td><td>3.273364</td><td>36</td></tr>\n",
              "</tbody>\n",
              "</table>\n"
            ],
            "text/markdown": "\nA tibble: 6 × 5\n\n| Year &lt;chr&gt; | PovertyRatio &lt;dbl&gt; | t &lt;int&gt; | lnY &lt;dbl&gt; | t2 &lt;dbl&gt; |\n|---|---|---|---|---|\n| 1998 | 69.1 | 1 | 4.235555 |  1 |\n| 1999 | 46.0 | 2 | 3.828641 |  4 |\n| 2000 | 43.6 | 3 | 3.775057 |  9 |\n| 2001 | 39.9 | 4 | 3.686376 | 16 |\n| 2002 | 26.8 | 5 | 3.288402 | 25 |\n| 2003 | 26.4 | 6 | 3.273364 | 36 |\n\n",
            "text/latex": "A tibble: 6 × 5\n\\begin{tabular}{lllll}\n Year & PovertyRatio & t & lnY & t2\\\\\n <chr> & <dbl> & <int> & <dbl> & <dbl>\\\\\n\\hline\n\t 1998 & 69.1 & 1 & 4.235555 &  1\\\\\n\t 1999 & 46.0 & 2 & 3.828641 &  4\\\\\n\t 2000 & 43.6 & 3 & 3.775057 &  9\\\\\n\t 2001 & 39.9 & 4 & 3.686376 & 16\\\\\n\t 2002 & 26.8 & 5 & 3.288402 & 25\\\\\n\t 2003 & 26.4 & 6 & 3.273364 & 36\\\\\n\\end{tabular}\n",
            "text/plain": [
              "  Year PovertyRatio t lnY      t2\n",
              "1 1998 69.1         1 4.235555  1\n",
              "2 1999 46.0         2 3.828641  4\n",
              "3 2000 43.6         3 3.775057  9\n",
              "4 2001 39.9         4 3.686376 16\n",
              "5 2002 26.8         5 3.288402 25\n",
              "6 2003 26.4         6 3.273364 36"
            ]
          },
          "metadata": {}
        }
      ],
      "source": [
        "df_train$t2 = (df_train$t)^2\n",
        "head(df_train)"
      ]
    },
    {
      "cell_type": "code",
      "source": [
        "df_test$t2 = (df_test$t)^2\n",
        "head(df_test)"
      ],
      "metadata": {
        "colab": {
          "base_uri": "https://localhost:8080/",
          "height": 286
        },
        "outputId": "d50c2674-03a0-451a-edc4-1dfd857f4073",
        "id": "qOwetYgxI2R_"
      },
      "execution_count": null,
      "outputs": [
        {
          "output_type": "display_data",
          "data": {
            "text/html": [
              "<table class=\"dataframe\">\n",
              "<caption>A tibble: 6 × 5</caption>\n",
              "<thead>\n",
              "\t<tr><th scope=col>Year</th><th scope=col>PovertyRatio</th><th scope=col>t</th><th scope=col>lnY</th><th scope=col>t2</th></tr>\n",
              "\t<tr><th scope=col>&lt;chr&gt;</th><th scope=col>&lt;dbl&gt;</th><th scope=col>&lt;int&gt;</th><th scope=col>&lt;dbl&gt;</th><th scope=col>&lt;dbl&gt;</th></tr>\n",
              "</thead>\n",
              "<tbody>\n",
              "\t<tr><td>2016</td><td>7.5</td><td>19</td><td>2.014903</td><td>361</td></tr>\n",
              "\t<tr><td>2017</td><td>6.6</td><td>20</td><td>1.887070</td><td>400</td></tr>\n",
              "\t<tr><td>2018</td><td>5.4</td><td>21</td><td>1.686399</td><td>441</td></tr>\n",
              "\t<tr><td>2019</td><td>4.4</td><td>22</td><td>1.481605</td><td>484</td></tr>\n",
              "\t<tr><td>2020</td><td>3.8</td><td>23</td><td>1.335001</td><td>529</td></tr>\n",
              "\t<tr><td>2021</td><td>3.5</td><td>24</td><td>1.252763</td><td>576</td></tr>\n",
              "</tbody>\n",
              "</table>\n"
            ],
            "text/markdown": "\nA tibble: 6 × 5\n\n| Year &lt;chr&gt; | PovertyRatio &lt;dbl&gt; | t &lt;int&gt; | lnY &lt;dbl&gt; | t2 &lt;dbl&gt; |\n|---|---|---|---|---|\n| 2016 | 7.5 | 19 | 2.014903 | 361 |\n| 2017 | 6.6 | 20 | 1.887070 | 400 |\n| 2018 | 5.4 | 21 | 1.686399 | 441 |\n| 2019 | 4.4 | 22 | 1.481605 | 484 |\n| 2020 | 3.8 | 23 | 1.335001 | 529 |\n| 2021 | 3.5 | 24 | 1.252763 | 576 |\n\n",
            "text/latex": "A tibble: 6 × 5\n\\begin{tabular}{lllll}\n Year & PovertyRatio & t & lnY & t2\\\\\n <chr> & <dbl> & <int> & <dbl> & <dbl>\\\\\n\\hline\n\t 2016 & 7.5 & 19 & 2.014903 & 361\\\\\n\t 2017 & 6.6 & 20 & 1.887070 & 400\\\\\n\t 2018 & 5.4 & 21 & 1.686399 & 441\\\\\n\t 2019 & 4.4 & 22 & 1.481605 & 484\\\\\n\t 2020 & 3.8 & 23 & 1.335001 & 529\\\\\n\t 2021 & 3.5 & 24 & 1.252763 & 576\\\\\n\\end{tabular}\n",
            "text/plain": [
              "  Year PovertyRatio t  lnY      t2 \n",
              "1 2016 7.5          19 2.014903 361\n",
              "2 2017 6.6          20 1.887070 400\n",
              "3 2018 5.4          21 1.686399 441\n",
              "4 2019 4.4          22 1.481605 484\n",
              "5 2020 3.8          23 1.335001 529\n",
              "6 2021 3.5          24 1.252763 576"
            ]
          },
          "metadata": {}
        }
      ]
    },
    {
      "cell_type": "code",
      "source": [
        "model_tsr_3 = lm(PovertyRatio ~ t + t2, data = df_train)\n",
        "model_tsr_3"
      ],
      "metadata": {
        "colab": {
          "base_uri": "https://localhost:8080/",
          "height": 145
        },
        "outputId": "e667e44b-abd2-4c5e-86a0-1481e2946a5d",
        "id": "I4w7sUGLI2R_"
      },
      "execution_count": null,
      "outputs": [
        {
          "output_type": "display_data",
          "data": {
            "text/plain": [
              "\n",
              "Call:\n",
              "lm(formula = PovertyRatio ~ t + t2, data = df_train)\n",
              "\n",
              "Coefficients:\n",
              "(Intercept)            t           t2  \n",
              "    60.3914      -5.3494       0.1466  \n"
            ]
          },
          "metadata": {}
        }
      ]
    },
    {
      "cell_type": "markdown",
      "source": [
        "##### Significance Test (t and F)"
      ],
      "metadata": {
        "id": "fxZqnNSR6jbe"
      }
    },
    {
      "cell_type": "code",
      "source": [
        "summary(model_tsr_3)\n",
        "\n",
        "# Everything is significant (both t and F)"
      ],
      "metadata": {
        "colab": {
          "base_uri": "https://localhost:8080/",
          "height": 363
        },
        "outputId": "4d6aded5-912c-4dda-df26-b3cdce762389",
        "id": "6AT18JpVOtlA"
      },
      "execution_count": null,
      "outputs": [
        {
          "output_type": "display_data",
          "data": {
            "text/plain": [
              "\n",
              "Call:\n",
              "lm(formula = PovertyRatio ~ t + t2, data = df_train)\n",
              "\n",
              "Residuals:\n",
              "    Min      1Q  Median      3Q     Max \n",
              "-10.508  -2.973  -1.280   3.405  13.911 \n",
              "\n",
              "Coefficients:\n",
              "            Estimate Std. Error t value Pr(>|t|)    \n",
              "(Intercept) 60.39142    4.68113  12.901  1.6e-09 ***\n",
              "t           -5.34939    1.13438  -4.716 0.000276 ***\n",
              "t2           0.14656    0.05801   2.526 0.023265 *  \n",
              "---\n",
              "Signif. codes:  0 ‘***’ 0.001 ‘**’ 0.01 ‘*’ 0.05 ‘.’ 0.1 ‘ ’ 1\n",
              "\n",
              "Residual standard error: 5.898 on 15 degrees of freedom\n",
              "Multiple R-squared:  0.8672,\tAdjusted R-squared:  0.8495 \n",
              "F-statistic:    49 on 2 and 15 DF,  p-value: 2.648e-07\n"
            ]
          },
          "metadata": {}
        }
      ]
    },
    {
      "cell_type": "markdown",
      "source": [
        "##### Assumption Test"
      ],
      "metadata": {
        "id": "KlQJ7X-Z6mQw"
      }
    },
    {
      "cell_type": "code",
      "source": [
        "dwtest(model_tsr_3, alternative = \"two.sided\")\n",
        "\n",
        "# Reject null hypothesis\n",
        "# Have autocorrelation"
      ],
      "metadata": {
        "colab": {
          "base_uri": "https://localhost:8080/",
          "height": 126
        },
        "outputId": "17ce934a-5164-451d-f13a-b299dfe07e63",
        "id": "FJc30k0lOtlC"
      },
      "execution_count": null,
      "outputs": [
        {
          "output_type": "display_data",
          "data": {
            "text/plain": [
              "\n",
              "\tDurbin-Watson test\n",
              "\n",
              "data:  model_tsr_3\n",
              "DW = 1.0498, p-value = 0.003975\n",
              "alternative hypothesis: true autocorrelation is not 0\n"
            ]
          },
          "metadata": {}
        }
      ]
    },
    {
      "cell_type": "code",
      "source": [
        "bptest(model_tsr_3)\n",
        "\n",
        "# Reject null hypothesis\n",
        "# Heteroscedasticity"
      ],
      "metadata": {
        "colab": {
          "base_uri": "https://localhost:8080/",
          "height": 108
        },
        "outputId": "8eb4b912-32ef-4b86-9f72-caf71355a834",
        "id": "D_WTF-vdOtlC"
      },
      "execution_count": null,
      "outputs": [
        {
          "output_type": "display_data",
          "data": {
            "text/plain": [
              "\n",
              "\tstudentized Breusch-Pagan test\n",
              "\n",
              "data:  model_tsr_3\n",
              "BP = 6.0992, df = 2, p-value = 0.04738\n"
            ]
          },
          "metadata": {}
        }
      ]
    },
    {
      "cell_type": "code",
      "source": [
        "lillie.test(model_tsr_3$residuals)\n",
        "\n",
        "# Accept null hypothesis\n",
        "# Normally distributed"
      ],
      "metadata": {
        "colab": {
          "base_uri": "https://localhost:8080/",
          "height": 108
        },
        "outputId": "98e1116a-2d87-45be-b7bf-ed52f21bd9c0",
        "id": "AFLnxBvROtlD"
      },
      "execution_count": null,
      "outputs": [
        {
          "output_type": "display_data",
          "data": {
            "text/plain": [
              "\n",
              "\tLilliefors (Kolmogorov-Smirnov) normality test\n",
              "\n",
              "data:  model_tsr_3$residuals\n",
              "D = 0.13574, p-value = 0.5124\n"
            ]
          },
          "metadata": {}
        }
      ]
    },
    {
      "cell_type": "markdown",
      "source": [
        "#### Model 4 (Lag 1)"
      ],
      "metadata": {
        "id": "3VcOARRq7WuU"
      }
    },
    {
      "cell_type": "code",
      "source": [
        "yt = df_train$PovertyRatio[2:n_train]\n",
        "t = df_train$t[2:n_train]\n",
        "yt_lag1 = df_train$PovertyRatio[1:(n_train-1)]\n",
        "\n",
        "data_tsr_4 = data.frame(yt, t, yt_lag1)"
      ],
      "metadata": {
        "id": "jVtqTmRDAJDz"
      },
      "execution_count": null,
      "outputs": []
    },
    {
      "cell_type": "code",
      "source": [
        "model_tsr_4 = lm(yt ~ t + yt_lag1, data = data_tsr_4)\n",
        "model_tsr_4"
      ],
      "metadata": {
        "colab": {
          "base_uri": "https://localhost:8080/",
          "height": 145
        },
        "id": "cPerMQwI7gWD",
        "outputId": "d6668614-31d4-4a58-8a95-d827f0a6a56b"
      },
      "execution_count": null,
      "outputs": [
        {
          "output_type": "display_data",
          "data": {
            "text/plain": [
              "\n",
              "Call:\n",
              "lm(formula = yt ~ t + yt_lag1, data = data_tsr_4)\n",
              "\n",
              "Coefficients:\n",
              "(Intercept)            t      yt_lag1  \n",
              "    29.2329      -1.3261       0.2976  \n"
            ]
          },
          "metadata": {}
        }
      ]
    },
    {
      "cell_type": "markdown",
      "source": [
        "##### Significance Test (t and F)"
      ],
      "metadata": {
        "id": "wowfj2lrBxaa"
      }
    },
    {
      "cell_type": "code",
      "source": [
        "summary(model_tsr_4)\n",
        "\n",
        "# Everything are significant"
      ],
      "metadata": {
        "colab": {
          "base_uri": "https://localhost:8080/",
          "height": 363
        },
        "id": "IV97Lkr1B0O4",
        "outputId": "ed7188cb-5331-43bd-992e-cc80deedae7b"
      },
      "execution_count": null,
      "outputs": [
        {
          "output_type": "display_data",
          "data": {
            "text/plain": [
              "\n",
              "Call:\n",
              "lm(formula = yt ~ t + yt_lag1, data = data_tsr_4)\n",
              "\n",
              "Residuals:\n",
              "    Min      1Q  Median      3Q     Max \n",
              "-7.6751 -0.8920 -0.3132  0.3304  5.9819 \n",
              "\n",
              "Coefficients:\n",
              "            Estimate Std. Error t value Pr(>|t|)    \n",
              "(Intercept)  29.2329     6.7666   4.320 0.000705 ***\n",
              "t            -1.3261     0.3560  -3.725 0.002264 ** \n",
              "yt_lag1       0.2976     0.1203   2.472 0.026856 *  \n",
              "---\n",
              "Signif. codes:  0 ‘***’ 0.001 ‘**’ 0.01 ‘*’ 0.05 ‘.’ 0.1 ‘ ’ 1\n",
              "\n",
              "Residual standard error: 3.251 on 14 degrees of freedom\n",
              "Multiple R-squared:  0.9272,\tAdjusted R-squared:  0.9167 \n",
              "F-statistic:  89.1 on 2 and 14 DF,  p-value: 1.088e-08\n"
            ]
          },
          "metadata": {}
        }
      ]
    },
    {
      "cell_type": "markdown",
      "source": [
        "##### Assumption Test"
      ],
      "metadata": {
        "id": "q2oX38-5B2pE"
      }
    },
    {
      "cell_type": "code",
      "source": [
        "dwtest(model_tsr_4, alternative = \"two.sided\")\n",
        "\n",
        "# Accept null hypothesis\n",
        "# Does not have autocorrelation"
      ],
      "metadata": {
        "colab": {
          "base_uri": "https://localhost:8080/",
          "height": 126
        },
        "outputId": "e1595ccb-db0d-49eb-c7b6-f24e126da508",
        "id": "FNmNgji5C6H1"
      },
      "execution_count": null,
      "outputs": [
        {
          "output_type": "display_data",
          "data": {
            "text/plain": [
              "\n",
              "\tDurbin-Watson test\n",
              "\n",
              "data:  model_tsr_4\n",
              "DW = 1.9643, p-value = 0.5689\n",
              "alternative hypothesis: true autocorrelation is not 0\n"
            ]
          },
          "metadata": {}
        }
      ]
    },
    {
      "cell_type": "code",
      "source": [
        "bptest(model_tsr_4)\n",
        "\n",
        "# Accept null hypothesis\n",
        "# Homoscedasticity"
      ],
      "metadata": {
        "colab": {
          "base_uri": "https://localhost:8080/",
          "height": 108
        },
        "outputId": "0b7da78a-2d04-4e88-ef3a-a4ff7530d51e",
        "id": "4rLfwu3HC6H2"
      },
      "execution_count": null,
      "outputs": [
        {
          "output_type": "display_data",
          "data": {
            "text/plain": [
              "\n",
              "\tstudentized Breusch-Pagan test\n",
              "\n",
              "data:  model_tsr_4\n",
              "BP = 4.1118, df = 2, p-value = 0.128\n"
            ]
          },
          "metadata": {}
        }
      ]
    },
    {
      "cell_type": "code",
      "source": [
        "lillie.test(model_tsr_4$residuals)\n",
        "\n",
        "# Reject null hypothesis\n",
        "# Not normally distributed"
      ],
      "metadata": {
        "colab": {
          "base_uri": "https://localhost:8080/",
          "height": 108
        },
        "outputId": "c23519d7-d912-40f2-917e-43eb1bc504ca",
        "id": "RRXWyjG-C6H3"
      },
      "execution_count": null,
      "outputs": [
        {
          "output_type": "display_data",
          "data": {
            "text/plain": [
              "\n",
              "\tLilliefors (Kolmogorov-Smirnov) normality test\n",
              "\n",
              "data:  model_tsr_4$residuals\n",
              "D = 0.22144, p-value = 0.0263\n"
            ]
          },
          "metadata": {}
        }
      ]
    },
    {
      "cell_type": "markdown",
      "source": [
        "#### Model 5 (Lag 2)"
      ],
      "metadata": {
        "id": "KGHj2MgY7cHZ"
      }
    },
    {
      "cell_type": "code",
      "source": [
        "yt5 = df_train$PovertyRatio[3:n_train]\n",
        "t5 = df_train$t[3:n_train]\n",
        "yt5_lag1 = df_train$PovertyRatio[2:(n_train-1)]\n",
        "yt5_lag2 = df_train$PovertyRatio[1:(n_train-2)]\n",
        "\n",
        "data_tsr_5 = data.frame(yt5, t5, yt5_lag1, yt5_lag2)"
      ],
      "metadata": {
        "id": "x9nIIyOkHU9u"
      },
      "execution_count": null,
      "outputs": []
    },
    {
      "cell_type": "code",
      "source": [
        "model_tsr_5 = lm(yt5 ~ t5 + yt5_lag1 + yt5_lag2, data = data_tsr_5)\n",
        "model_tsr_5"
      ],
      "metadata": {
        "colab": {
          "base_uri": "https://localhost:8080/",
          "height": 145
        },
        "outputId": "303c562c-1c21-4956-a856-afef97e54b88",
        "id": "FaUKu1sOHU9u"
      },
      "execution_count": null,
      "outputs": [
        {
          "output_type": "display_data",
          "data": {
            "text/plain": [
              "\n",
              "Call:\n",
              "lm(formula = yt5 ~ t5 + yt5_lag1 + yt5_lag2, data = data_tsr_5)\n",
              "\n",
              "Coefficients:\n",
              "(Intercept)           t5     yt5_lag1     yt5_lag2  \n",
              "    21.8574      -0.9912       0.3112       0.1237  \n"
            ]
          },
          "metadata": {}
        }
      ]
    },
    {
      "cell_type": "markdown",
      "source": [
        "##### Significance Test (t and F)"
      ],
      "metadata": {
        "id": "C-R0bRvAHU9u"
      }
    },
    {
      "cell_type": "code",
      "source": [
        "summary(model_tsr_5)\n",
        "\n",
        "# Nothing is significant"
      ],
      "metadata": {
        "colab": {
          "base_uri": "https://localhost:8080/",
          "height": 382
        },
        "outputId": "3ec9672d-a657-4d63-d1e2-026933d1b3f1",
        "id": "omu-GDUjHU9v"
      },
      "execution_count": null,
      "outputs": [
        {
          "output_type": "display_data",
          "data": {
            "text/plain": [
              "\n",
              "Call:\n",
              "lm(formula = yt5 ~ t5 + yt5_lag1 + yt5_lag2, data = data_tsr_5)\n",
              "\n",
              "Residuals:\n",
              "    Min      1Q  Median      3Q     Max \n",
              "-7.9117 -0.9150 -0.1296  0.9797  6.6676 \n",
              "\n",
              "Coefficients:\n",
              "            Estimate Std. Error t value Pr(>|t|)  \n",
              "(Intercept)  21.8574    11.2523   1.942   0.0759 .\n",
              "t5           -0.9912     0.5301  -1.870   0.0861 .\n",
              "yt5_lag1      0.3112     0.2753   1.131   0.2803  \n",
              "yt5_lag2      0.1237     0.1491   0.830   0.4228  \n",
              "---\n",
              "Signif. codes:  0 ‘***’ 0.001 ‘**’ 0.01 ‘*’ 0.05 ‘.’ 0.1 ‘ ’ 1\n",
              "\n",
              "Residual standard error: 3.348 on 12 degrees of freedom\n",
              "Multiple R-squared:  0.912,\tAdjusted R-squared:   0.89 \n",
              "F-statistic: 41.46 on 3 and 12 DF,  p-value: 1.308e-06\n"
            ]
          },
          "metadata": {}
        }
      ]
    },
    {
      "cell_type": "markdown",
      "source": [
        "### Neural Network [DONE]\n",
        "\n"
      ],
      "metadata": {
        "id": "y77SaihMiu_o"
      }
    },
    {
      "cell_type": "markdown",
      "source": [
        "#### NNETAR Models"
      ],
      "metadata": {
        "id": "4-D4NFrkCjZm"
      }
    },
    {
      "cell_type": "markdown",
      "source": [
        "##### Model 1 (p = 1, size = 5)"
      ],
      "metadata": {
        "id": "rQfBdbQVEP9p"
      }
    },
    {
      "cell_type": "code",
      "source": [
        "model_nnet_1 = nnetar(training, p = 1, size = 5)\n",
        "model_nnet_1"
      ],
      "metadata": {
        "colab": {
          "base_uri": "https://localhost:8080/",
          "height": 173
        },
        "outputId": "29ff0a36-9585-4457-a7ea-449fca33caef",
        "id": "Co41-_D_EP-V"
      },
      "execution_count": null,
      "outputs": [
        {
          "output_type": "display_data",
          "data": {
            "text/plain": [
              "Series: training \n",
              "Model:  NNAR(1,5) \n",
              "Call:   nnetar(y = training, p = 1, size = 5)\n",
              "\n",
              "Average of 20 networks, each of which is\n",
              "a 1-5-1 network with 16 weights\n",
              "options were - linear output units \n",
              "\n",
              "sigma^2 estimated as 3.274"
            ]
          },
          "metadata": {}
        }
      ]
    },
    {
      "cell_type": "code",
      "source": [
        "fit_nnet_1 = model_nnet_1$fitted\n",
        "fit_nnet_1"
      ],
      "metadata": {
        "colab": {
          "base_uri": "https://localhost:8080/",
          "height": 121
        },
        "outputId": "5f07f244-0268-487c-e22d-a2988e616dd8",
        "id": "GkHsFOO9EP-X"
      },
      "execution_count": null,
      "outputs": [
        {
          "output_type": "display_data",
          "data": {
            "text/html": [
              "A Time Series:<br><style>\n",
              ".list-inline {list-style: none; margin:0; padding: 0}\n",
              ".list-inline>li {display: inline-block}\n",
              ".list-inline>li:not(:last-child)::after {content: \"\\00b7\"; padding: 0 .5ex}\n",
              "</style>\n",
              "<ol class=list-inline><li>&lt;NA&gt;</li><li>45.9929410606152</li><li>43.7163257767143</li><li>39.7715218211334</li><li>26.8778625867844</li><li>26.2986623792451</li><li>26.1478504599676</li><li>26.3515742340282</li><li>24.7513512457285</li><li>24.8773432085199</li><li>25.3424259632846</li><li>24.8580213379274</li><li>19.5489522026178</li><li>15.7274576911269</li><li>12.9235945669555</li><li>11.2304930336725</li><li>9.50204869272727</li><li>8.39198688074149</li></ol>\n"
            ],
            "text/markdown": "A Time Series:  \n1. &lt;NA&gt;\n2. 45.9929410606152\n3. 43.7163257767143\n4. 39.7715218211334\n5. 26.8778625867844\n6. 26.2986623792451\n7. 26.1478504599676\n8. 26.3515742340282\n9. 24.7513512457285\n10. 24.8773432085199\n11. 25.3424259632846\n12. 24.8580213379274\n13. 19.5489522026178\n14. 15.7274576911269\n15. 12.9235945669555\n16. 11.2304930336725\n17. 9.50204869272727\n18. 8.39198688074149\n\n\n",
            "text/latex": "A Time Series:\\\\\\begin{enumerate*}\n\\item <NA>\n\\item 45.9929410606152\n\\item 43.7163257767143\n\\item 39.7715218211334\n\\item 26.8778625867844\n\\item 26.2986623792451\n\\item 26.1478504599676\n\\item 26.3515742340282\n\\item 24.7513512457285\n\\item 24.8773432085199\n\\item 25.3424259632846\n\\item 24.8580213379274\n\\item 19.5489522026178\n\\item 15.7274576911269\n\\item 12.9235945669555\n\\item 11.2304930336725\n\\item 9.50204869272727\n\\item 8.39198688074149\n\\end{enumerate*}\n",
            "text/plain": [
              "A Time Series:\n",
              " [1]        NA 45.992941 43.716326 39.771522 26.877863 26.298662 26.147850\n",
              " [8] 26.351574 24.751351 24.877343 25.342426 24.858021 19.548952 15.727458\n",
              "[15] 12.923595 11.230493  9.502049  8.391987"
            ]
          },
          "metadata": {}
        }
      ]
    },
    {
      "cell_type": "code",
      "source": [
        "rmse_model_nnet_1 = rmse(training[2:18], fit_nnet_1[2:18])\n",
        "mae_model_nnet_1 = mae(training[2:18], fit_nnet_1[2:18])\n",
        "mape_model_nnet_1 = mape(training[2:18], fit_nnet_1[2:18])\n",
        "mdae_model_nnet_1 = mdae(training[2:18], fit_nnet_1[2:18])\n",
        "\n",
        "eval_model_nnet_1 = c(rmse_model_nnet_1, mae_model_nnet_1, mape_model_nnet_1, mdae_model_nnet_1)\n",
        "\n",
        "data.frame(eval_names, eval_model_nnet_1)"
      ],
      "metadata": {
        "colab": {
          "base_uri": "https://localhost:8080/",
          "height": 223
        },
        "outputId": "a63e8bf6-cc7c-4a83-ff4f-9458cb078c10",
        "id": "no9IUH3UEP-Y"
      },
      "execution_count": null,
      "outputs": [
        {
          "output_type": "display_data",
          "data": {
            "text/html": [
              "<table class=\"dataframe\">\n",
              "<caption>A data.frame: 4 × 2</caption>\n",
              "<thead>\n",
              "\t<tr><th scope=col>eval_names</th><th scope=col>eval_model_nnet_1</th></tr>\n",
              "\t<tr><th scope=col>&lt;chr&gt;</th><th scope=col>&lt;dbl&gt;</th></tr>\n",
              "</thead>\n",
              "<tbody>\n",
              "\t<tr><td>RMSE</td><td>1.80948622</td></tr>\n",
              "\t<tr><td>MAE </td><td>0.94611080</td></tr>\n",
              "\t<tr><td>MAPE</td><td>0.04067117</td></tr>\n",
              "\t<tr><td>MDAE</td><td>0.20204869</td></tr>\n",
              "</tbody>\n",
              "</table>\n"
            ],
            "text/markdown": "\nA data.frame: 4 × 2\n\n| eval_names &lt;chr&gt; | eval_model_nnet_1 &lt;dbl&gt; |\n|---|---|\n| RMSE | 1.80948622 |\n| MAE  | 0.94611080 |\n| MAPE | 0.04067117 |\n| MDAE | 0.20204869 |\n\n",
            "text/latex": "A data.frame: 4 × 2\n\\begin{tabular}{ll}\n eval\\_names & eval\\_model\\_nnet\\_1\\\\\n <chr> & <dbl>\\\\\n\\hline\n\t RMSE & 1.80948622\\\\\n\t MAE  & 0.94611080\\\\\n\t MAPE & 0.04067117\\\\\n\t MDAE & 0.20204869\\\\\n\\end{tabular}\n",
            "text/plain": [
              "  eval_names eval_model_nnet_1\n",
              "1 RMSE       1.80948622       \n",
              "2 MAE        0.94611080       \n",
              "3 MAPE       0.04067117       \n",
              "4 MDAE       0.20204869       "
            ]
          },
          "metadata": {}
        }
      ]
    },
    {
      "cell_type": "code",
      "source": [
        "predict_values_nnet_1 = forecast(model_nnet_1, h = length(testing))$mean\n",
        "predict_values_nnet_1"
      ],
      "metadata": {
        "colab": {
          "base_uri": "https://localhost:8080/",
          "height": 69
        },
        "outputId": "5906d502-f96b-4ae4-83cb-a86547dda18a",
        "id": "L6vxnMw0EP-a"
      },
      "execution_count": null,
      "outputs": [
        {
          "output_type": "display_data",
          "data": {
            "text/html": [
              "A Time Series:<br><style>\n",
              ".list-inline {list-style: none; margin:0; padding: 0}\n",
              ".list-inline>li {display: inline-block}\n",
              ".list-inline>li:not(:last-child)::after {content: \"\\00b7\"; padding: 0 .5ex}\n",
              "</style>\n",
              "<ol class=list-inline><li>7.86087879978262</li><li>7.63748127704314</li><li>7.52596262793841</li><li>7.4708129739802</li><li>7.44366467858762</li><li>7.43033119133512</li><li>7.42378993939356</li><li>7.42058263167296</li></ol>\n"
            ],
            "text/markdown": "A Time Series:  \n1. 7.86087879978262\n2. 7.63748127704314\n3. 7.52596262793841\n4. 7.4708129739802\n5. 7.44366467858762\n6. 7.43033119133512\n7. 7.42378993939356\n8. 7.42058263167296\n\n\n",
            "text/latex": "A Time Series:\\\\\\begin{enumerate*}\n\\item 7.86087879978262\n\\item 7.63748127704314\n\\item 7.52596262793841\n\\item 7.4708129739802\n\\item 7.44366467858762\n\\item 7.43033119133512\n\\item 7.42378993939356\n\\item 7.42058263167296\n\\end{enumerate*}\n",
            "text/plain": [
              "A Time Series:\n",
              "[1] 7.860879 7.637481 7.525963 7.470813 7.443665 7.430331 7.423790 7.420583"
            ]
          },
          "metadata": {}
        }
      ]
    },
    {
      "cell_type": "code",
      "source": [
        "rmse_nnet_1 = rmse(testing, predict_values_nnet_1)\n",
        "mae_nnet_1 = mae(testing, predict_values_nnet_1)\n",
        "mape_nnet_1 = mape(testing, predict_values_nnet_1)\n",
        "mdae_nnet_1 = mdae(testing, predict_values_nnet_1)\n",
        "\n",
        "eval_nnet_1 = c(rmse_nnet_1, mae_nnet_1, mape_nnet_1, mdae_nnet_1)\n",
        "\n",
        "data.frame(eval_names, eval_nnet_1)"
      ],
      "metadata": {
        "colab": {
          "base_uri": "https://localhost:8080/",
          "height": 223
        },
        "outputId": "e8dd43b9-4732-4a30-8ea6-1b7d88de9e33",
        "id": "x8FnIHKWEP-d"
      },
      "execution_count": null,
      "outputs": [
        {
          "output_type": "display_data",
          "data": {
            "text/html": [
              "<table class=\"dataframe\">\n",
              "<caption>A data.frame: 4 × 2</caption>\n",
              "<thead>\n",
              "\t<tr><th scope=col>eval_names</th><th scope=col>eval_nnet_1</th></tr>\n",
              "\t<tr><th scope=col>&lt;chr&gt;</th><th scope=col>&lt;dbl&gt;</th></tr>\n",
              "</thead>\n",
              "<tbody>\n",
              "\t<tr><td>RMSE</td><td>3.510708</td></tr>\n",
              "\t<tr><td>MAE </td><td>3.076688</td></tr>\n",
              "\t<tr><td>MAPE</td><td>1.031727</td></tr>\n",
              "\t<tr><td>MDAE</td><td>3.357239</td></tr>\n",
              "</tbody>\n",
              "</table>\n"
            ],
            "text/markdown": "\nA data.frame: 4 × 2\n\n| eval_names &lt;chr&gt; | eval_nnet_1 &lt;dbl&gt; |\n|---|---|\n| RMSE | 3.510708 |\n| MAE  | 3.076688 |\n| MAPE | 1.031727 |\n| MDAE | 3.357239 |\n\n",
            "text/latex": "A data.frame: 4 × 2\n\\begin{tabular}{ll}\n eval\\_names & eval\\_nnet\\_1\\\\\n <chr> & <dbl>\\\\\n\\hline\n\t RMSE & 3.510708\\\\\n\t MAE  & 3.076688\\\\\n\t MAPE & 1.031727\\\\\n\t MDAE & 3.357239\\\\\n\\end{tabular}\n",
            "text/plain": [
              "  eval_names eval_nnet_1\n",
              "1 RMSE       3.510708   \n",
              "2 MAE        3.076688   \n",
              "3 MAPE       1.031727   \n",
              "4 MDAE       3.357239   "
            ]
          },
          "metadata": {}
        }
      ]
    },
    {
      "cell_type": "code",
      "source": [
        "forecast_nnet_1 = tail(forecast(model_nnet_1, h = length(testing)+1)$mean, 1)\n",
        "forecast_nnet_1"
      ],
      "metadata": {
        "colab": {
          "base_uri": "https://localhost:8080/",
          "height": 52
        },
        "id": "awBqfcL2MYxa",
        "outputId": "1684c0b7-3b25-47b9-980e-34e1a1cb75e9"
      },
      "execution_count": null,
      "outputs": [
        {
          "output_type": "display_data",
          "data": {
            "text/html": [
              "A Time Series:<br>7.41901044533678"
            ],
            "text/markdown": "A Time Series:  \n7.41901044533678",
            "text/latex": "A Time Series:\\\\7.41901044533678",
            "text/plain": [
              "A Time Series:\n",
              "[1] 7.41901"
            ]
          },
          "metadata": {}
        }
      ]
    },
    {
      "cell_type": "markdown",
      "source": [
        "##### Model 2 (p = 2, size = 5)"
      ],
      "metadata": {
        "id": "lcGH8yHKEGd2"
      }
    },
    {
      "cell_type": "code",
      "source": [
        "model_nnet_2 = nnetar(training, p = 2, size = 5)\n",
        "model_nnet_2"
      ],
      "metadata": {
        "colab": {
          "base_uri": "https://localhost:8080/",
          "height": 173
        },
        "id": "CP3049gICnvx",
        "outputId": "c79f52b5-497a-4c9d-bbaf-206c9e0f1f4c"
      },
      "execution_count": null,
      "outputs": [
        {
          "output_type": "display_data",
          "data": {
            "text/plain": [
              "Series: training \n",
              "Model:  NNAR(2,5) \n",
              "Call:   nnetar(y = training, p = 2, size = 5)\n",
              "\n",
              "Average of 20 networks, each of which is\n",
              "a 2-5-1 network with 21 weights\n",
              "options were - linear output units \n",
              "\n",
              "sigma^2 estimated as 1.86"
            ]
          },
          "metadata": {}
        }
      ]
    },
    {
      "cell_type": "code",
      "source": [
        "fit_nnet_2 = model_nnet_2$fitted\n",
        "fit_nnet_2"
      ],
      "metadata": {
        "colab": {
          "base_uri": "https://localhost:8080/",
          "height": 104
        },
        "id": "3I12l3uvDFEy",
        "outputId": "6f13fe6e-c823-464d-c4ab-cf06e676e45f"
      },
      "execution_count": null,
      "outputs": [
        {
          "output_type": "display_data",
          "data": {
            "text/html": [
              "A Time Series:<br><style>\n",
              ".list-inline {list-style: none; margin:0; padding: 0}\n",
              ".list-inline>li {display: inline-block}\n",
              ".list-inline>li:not(:last-child)::after {content: \"\\00b7\"; padding: 0 .5ex}\n",
              "</style>\n",
              "<ol class=list-inline><li>&lt;NA&gt;</li><li>&lt;NA&gt;</li><li>43.6092891375168</li><li>39.8870171481986</li><li>26.8220348465679</li><li>26.3085619635483</li><li>26.3046990300995</li><li>25.8856525212869</li><li>26.2356413589213</li><li>24.8813224979376</li><li>26.4956060790171</li><li>23.1691697026922</li><li>18.7307654742302</li><li>15.4491126451696</li><li>13.3606951093499</li><li>11.2745530685346</li><li>9.70637908146449</li><li>8.22378693834665</li></ol>\n"
            ],
            "text/markdown": "A Time Series:  \n1. &lt;NA&gt;\n2. &lt;NA&gt;\n3. 43.6092891375168\n4. 39.8870171481986\n5. 26.8220348465679\n6. 26.3085619635483\n7. 26.3046990300995\n8. 25.8856525212869\n9. 26.2356413589213\n10. 24.8813224979376\n11. 26.4956060790171\n12. 23.1691697026922\n13. 18.7307654742302\n14. 15.4491126451696\n15. 13.3606951093499\n16. 11.2745530685346\n17. 9.70637908146449\n18. 8.22378693834665\n\n\n",
            "text/latex": "A Time Series:\\\\\\begin{enumerate*}\n\\item <NA>\n\\item <NA>\n\\item 43.6092891375168\n\\item 39.8870171481986\n\\item 26.8220348465679\n\\item 26.3085619635483\n\\item 26.3046990300995\n\\item 25.8856525212869\n\\item 26.2356413589213\n\\item 24.8813224979376\n\\item 26.4956060790171\n\\item 23.1691697026922\n\\item 18.7307654742302\n\\item 15.4491126451696\n\\item 13.3606951093499\n\\item 11.2745530685346\n\\item 9.70637908146449\n\\item 8.22378693834665\n\\end{enumerate*}\n",
            "text/plain": [
              "A Time Series:\n",
              " [1]        NA        NA 43.609289 39.887017 26.822035 26.308562 26.304699\n",
              " [8] 25.885653 26.235641 24.881322 26.495606 23.169170 18.730765 15.449113\n",
              "[15] 13.360695 11.274553  9.706379  8.223787"
            ]
          },
          "metadata": {}
        }
      ]
    },
    {
      "cell_type": "code",
      "source": [
        "rmse_model_nnet_2 = rmse(training[3:18], fit_nnet_2[3:18])\n",
        "mae_model_nnet_2 = mae(training[3:18], fit_nnet_2[3:18])\n",
        "mape_model_nnet_2 = mape(training[3:18], fit_nnet_2[3:18])\n",
        "mdae_model_nnet_2 = mdae(training[3:18], fit_nnet_2[3:18])\n",
        "\n",
        "eval_model_nnet_2 = c(rmse_model_nnet_2, mae_model_nnet_2, mape_model_nnet_2, mdae_model_nnet_2)\n",
        "\n",
        "data.frame(eval_names, eval_model_nnet_2)"
      ],
      "metadata": {
        "colab": {
          "base_uri": "https://localhost:8080/",
          "height": 223
        },
        "id": "M2WY95y3DMEd",
        "outputId": "3fb49f7e-2be7-4472-8ce6-f6fb91997ea2"
      },
      "execution_count": null,
      "outputs": [
        {
          "output_type": "display_data",
          "data": {
            "text/html": [
              "<table class=\"dataframe\">\n",
              "<caption>A data.frame: 4 × 2</caption>\n",
              "<thead>\n",
              "\t<tr><th scope=col>eval_names</th><th scope=col>eval_model_nnet_2</th></tr>\n",
              "\t<tr><th scope=col>&lt;chr&gt;</th><th scope=col>&lt;dbl&gt;</th></tr>\n",
              "</thead>\n",
              "<tbody>\n",
              "\t<tr><td>RMSE</td><td>1.36391598</td></tr>\n",
              "\t<tr><td>MAE </td><td>0.77141333</td></tr>\n",
              "\t<tr><td>MAPE</td><td>0.03362014</td></tr>\n",
              "\t<tr><td>MDAE</td><td>0.32899120</td></tr>\n",
              "</tbody>\n",
              "</table>\n"
            ],
            "text/markdown": "\nA data.frame: 4 × 2\n\n| eval_names &lt;chr&gt; | eval_model_nnet_2 &lt;dbl&gt; |\n|---|---|\n| RMSE | 1.36391598 |\n| MAE  | 0.77141333 |\n| MAPE | 0.03362014 |\n| MDAE | 0.32899120 |\n\n",
            "text/latex": "A data.frame: 4 × 2\n\\begin{tabular}{ll}\n eval\\_names & eval\\_model\\_nnet\\_2\\\\\n <chr> & <dbl>\\\\\n\\hline\n\t RMSE & 1.36391598\\\\\n\t MAE  & 0.77141333\\\\\n\t MAPE & 0.03362014\\\\\n\t MDAE & 0.32899120\\\\\n\\end{tabular}\n",
            "text/plain": [
              "  eval_names eval_model_nnet_2\n",
              "1 RMSE       1.36391598       \n",
              "2 MAE        0.77141333       \n",
              "3 MAPE       0.03362014       \n",
              "4 MDAE       0.32899120       "
            ]
          },
          "metadata": {}
        }
      ]
    },
    {
      "cell_type": "code",
      "source": [
        "predict_values_nnet_2 = forecast(model_nnet_2, h = length(testing))$mean\n",
        "predict_values_nnet_2"
      ],
      "metadata": {
        "colab": {
          "base_uri": "https://localhost:8080/",
          "height": 69
        },
        "id": "I2LZER8RDoZc",
        "outputId": "0c5ec5eb-1e38-4ab5-d336-a4b3ec33e0be"
      },
      "execution_count": null,
      "outputs": [
        {
          "output_type": "display_data",
          "data": {
            "text/html": [
              "A Time Series:<br><style>\n",
              ".list-inline {list-style: none; margin:0; padding: 0}\n",
              ".list-inline>li {display: inline-block}\n",
              ".list-inline>li:not(:last-child)::after {content: \"\\00b7\"; padding: 0 .5ex}\n",
              "</style>\n",
              "<ol class=list-inline><li>7.26243305526532</li><li>6.69751983472776</li><li>6.20971442916293</li><li>5.92178827015481</li><li>5.69664785082281</li><li>5.55672838286102</li><li>5.45329322973971</li><li>5.38686638505316</li></ol>\n"
            ],
            "text/markdown": "A Time Series:  \n1. 7.26243305526532\n2. 6.69751983472776\n3. 6.20971442916293\n4. 5.92178827015481\n5. 5.69664785082281\n6. 5.55672838286102\n7. 5.45329322973971\n8. 5.38686638505316\n\n\n",
            "text/latex": "A Time Series:\\\\\\begin{enumerate*}\n\\item 7.26243305526532\n\\item 6.69751983472776\n\\item 6.20971442916293\n\\item 5.92178827015481\n\\item 5.69664785082281\n\\item 5.55672838286102\n\\item 5.45329322973971\n\\item 5.38686638505316\n\\end{enumerate*}\n",
            "text/plain": [
              "A Time Series:\n",
              "[1] 7.262433 6.697520 6.209714 5.921788 5.696648 5.556728 5.453293 5.386866"
            ]
          },
          "metadata": {}
        }
      ]
    },
    {
      "cell_type": "code",
      "source": [
        "rmse_nnet_2 = rmse(testing, predict_values_nnet_2)\n",
        "mae_nnet_2 = mae(testing, predict_values_nnet_2)\n",
        "mape_nnet_2 = mape(testing, predict_values_nnet_2)\n",
        "mdae_nnet_2 = mdae(testing, predict_values_nnet_2)\n",
        "\n",
        "eval_nnet_2 = c(rmse_nnet_2, mae_nnet_2, mape_nnet_2, mdae_nnet_2)\n",
        "\n",
        "data.frame(eval_names, eval_nnet_2)"
      ],
      "metadata": {
        "colab": {
          "base_uri": "https://localhost:8080/",
          "height": 223
        },
        "id": "gBAHi5UcD3aP",
        "outputId": "8636fb58-2eea-4750-f3bf-47a762332b49"
      },
      "execution_count": null,
      "outputs": [
        {
          "output_type": "display_data",
          "data": {
            "text/html": [
              "<table class=\"dataframe\">\n",
              "<caption>A data.frame: 4 × 2</caption>\n",
              "<thead>\n",
              "\t<tr><th scope=col>eval_names</th><th scope=col>eval_nnet_2</th></tr>\n",
              "\t<tr><th scope=col>&lt;chr&gt;</th><th scope=col>&lt;dbl&gt;</th></tr>\n",
              "</thead>\n",
              "<tbody>\n",
              "\t<tr><td>RMSE</td><td>1.9920156</td></tr>\n",
              "\t<tr><td>MAE </td><td>1.6325157</td></tr>\n",
              "\t<tr><td>MAPE</td><td>0.5806905</td></tr>\n",
              "\t<tr><td>MDAE</td><td>1.7092181</td></tr>\n",
              "</tbody>\n",
              "</table>\n"
            ],
            "text/markdown": "\nA data.frame: 4 × 2\n\n| eval_names &lt;chr&gt; | eval_nnet_2 &lt;dbl&gt; |\n|---|---|\n| RMSE | 1.9920156 |\n| MAE  | 1.6325157 |\n| MAPE | 0.5806905 |\n| MDAE | 1.7092181 |\n\n",
            "text/latex": "A data.frame: 4 × 2\n\\begin{tabular}{ll}\n eval\\_names & eval\\_nnet\\_2\\\\\n <chr> & <dbl>\\\\\n\\hline\n\t RMSE & 1.9920156\\\\\n\t MAE  & 1.6325157\\\\\n\t MAPE & 0.5806905\\\\\n\t MDAE & 1.7092181\\\\\n\\end{tabular}\n",
            "text/plain": [
              "  eval_names eval_nnet_2\n",
              "1 RMSE       1.9920156  \n",
              "2 MAE        1.6325157  \n",
              "3 MAPE       0.5806905  \n",
              "4 MDAE       1.7092181  "
            ]
          },
          "metadata": {}
        }
      ]
    },
    {
      "cell_type": "code",
      "source": [
        "forecast_nnet_2 = tail(forecast(model_nnet_2, h = length(testing)+1)$mean, 1)\n",
        "forecast_nnet_2"
      ],
      "metadata": {
        "colab": {
          "base_uri": "https://localhost:8080/",
          "height": 52
        },
        "id": "AK35RmkRNDqs",
        "outputId": "ca17dc2a-85ad-4246-a5c6-bdbec43c3b30"
      },
      "execution_count": null,
      "outputs": [
        {
          "output_type": "display_data",
          "data": {
            "text/html": [
              "A Time Series:<br>5.33935019371983"
            ],
            "text/markdown": "A Time Series:  \n5.33935019371983",
            "text/latex": "A Time Series:\\\\5.33935019371983",
            "text/plain": [
              "A Time Series:\n",
              "[1] 5.33935"
            ]
          },
          "metadata": {}
        }
      ]
    },
    {
      "cell_type": "markdown",
      "source": [
        "##### Model 3 (p = 1, size = 8)"
      ],
      "metadata": {
        "id": "E1-9LRJlFCC3"
      }
    },
    {
      "cell_type": "code",
      "source": [
        "model_nnet_3 = nnetar(training, p = 1, size = 8)\n",
        "model_nnet_3"
      ],
      "metadata": {
        "colab": {
          "base_uri": "https://localhost:8080/",
          "height": 173
        },
        "outputId": "7e1a7dac-8a39-4142-a230-adedf08e27e7",
        "id": "UjR80unGFCC4"
      },
      "execution_count": null,
      "outputs": [
        {
          "output_type": "display_data",
          "data": {
            "text/plain": [
              "Series: training \n",
              "Model:  NNAR(1,8) \n",
              "Call:   nnetar(y = training, p = 1, size = 8)\n",
              "\n",
              "Average of 20 networks, each of which is\n",
              "a 1-8-1 network with 25 weights\n",
              "options were - linear output units \n",
              "\n",
              "sigma^2 estimated as 3.213"
            ]
          },
          "metadata": {}
        }
      ]
    },
    {
      "cell_type": "code",
      "source": [
        "fit_nnet_3 = model_nnet_3$fitted\n",
        "fit_nnet_3"
      ],
      "metadata": {
        "colab": {
          "base_uri": "https://localhost:8080/",
          "height": 121
        },
        "outputId": "b7333ded-067d-45a4-8ee9-a3d7609aea37",
        "id": "7M9QrzzIFCC6"
      },
      "execution_count": null,
      "outputs": [
        {
          "output_type": "display_data",
          "data": {
            "text/html": [
              "A Time Series:<br><style>\n",
              ".list-inline {list-style: none; margin:0; padding: 0}\n",
              ".list-inline>li {display: inline-block}\n",
              ".list-inline>li:not(:last-child)::after {content: \"\\00b7\"; padding: 0 .5ex}\n",
              "</style>\n",
              "<ol class=list-inline><li>&lt;NA&gt;</li><li>46.008907065121</li><li>43.7380681672186</li><li>39.7321719586398</li><li>26.9337804747822</li><li>26.2223315011656</li><li>26.1287897728745</li><li>26.2450385042169</li><li>24.8598749740955</li><li>24.8793184559865</li><li>25.4370718053485</li><li>24.966294327617</li><li>19.3710516133167</li><li>15.5995657768767</li><li>13.0305947651934</li><li>11.4107146456223</li><li>9.55451828750669</li><li>8.19637146024315</li></ol>\n"
            ],
            "text/markdown": "A Time Series:  \n1. &lt;NA&gt;\n2. 46.008907065121\n3. 43.7380681672186\n4. 39.7321719586398\n5. 26.9337804747822\n6. 26.2223315011656\n7. 26.1287897728745\n8. 26.2450385042169\n9. 24.8598749740955\n10. 24.8793184559865\n11. 25.4370718053485\n12. 24.966294327617\n13. 19.3710516133167\n14. 15.5995657768767\n15. 13.0305947651934\n16. 11.4107146456223\n17. 9.55451828750669\n18. 8.19637146024315\n\n\n",
            "text/latex": "A Time Series:\\\\\\begin{enumerate*}\n\\item <NA>\n\\item 46.008907065121\n\\item 43.7380681672186\n\\item 39.7321719586398\n\\item 26.9337804747822\n\\item 26.2223315011656\n\\item 26.1287897728745\n\\item 26.2450385042169\n\\item 24.8598749740955\n\\item 24.8793184559865\n\\item 25.4370718053485\n\\item 24.966294327617\n\\item 19.3710516133167\n\\item 15.5995657768767\n\\item 13.0305947651934\n\\item 11.4107146456223\n\\item 9.55451828750669\n\\item 8.19637146024315\n\\end{enumerate*}\n",
            "text/plain": [
              "A Time Series:\n",
              " [1]        NA 46.008907 43.738068 39.732172 26.933780 26.222332 26.128790\n",
              " [8] 26.245039 24.859875 24.879318 25.437072 24.966294 19.371052 15.599566\n",
              "[15] 13.030595 11.410715  9.554518  8.196371"
            ]
          },
          "metadata": {}
        }
      ]
    },
    {
      "cell_type": "code",
      "source": [
        "rmse_model_nnet_3 = rmse(training[2:18], fit_nnet_3[2:18])\n",
        "mae_model_nnet_3 = mae(training[2:18], fit_nnet_3[2:18])\n",
        "mape_model_nnet_3 = mape(training[2:18], fit_nnet_3[2:18])\n",
        "mdae_model_nnet_3 = mdae(training[2:18], fit_nnet_3[2:18])\n",
        "\n",
        "eval_model_nnet_3 = c(rmse_model_nnet_3, mae_model_nnet_3, mape_model_nnet_3, mdae_model_nnet_3)\n",
        "\n",
        "data.frame(eval_names, eval_model_nnet_3)"
      ],
      "metadata": {
        "colab": {
          "base_uri": "https://localhost:8080/",
          "height": 223
        },
        "outputId": "6fdbaed7-d95e-4755-d04c-00f31bb96632",
        "id": "CfZ3V_IZFCC7"
      },
      "execution_count": null,
      "outputs": [
        {
          "output_type": "display_data",
          "data": {
            "text/html": [
              "<table class=\"dataframe\">\n",
              "<caption>A data.frame: 4 × 2</caption>\n",
              "<thead>\n",
              "\t<tr><th scope=col>eval_names</th><th scope=col>eval_model_nnet_3</th></tr>\n",
              "\t<tr><th scope=col>&lt;chr&gt;</th><th scope=col>&lt;dbl&gt;</th></tr>\n",
              "</thead>\n",
              "<tbody>\n",
              "\t<tr><td>RMSE</td><td>1.7923666</td></tr>\n",
              "\t<tr><td>MAE </td><td>0.9597898</td></tr>\n",
              "\t<tr><td>MAPE</td><td>0.0417590</td></tr>\n",
              "\t<tr><td>MDAE</td><td>0.2545183</td></tr>\n",
              "</tbody>\n",
              "</table>\n"
            ],
            "text/markdown": "\nA data.frame: 4 × 2\n\n| eval_names &lt;chr&gt; | eval_model_nnet_3 &lt;dbl&gt; |\n|---|---|\n| RMSE | 1.7923666 |\n| MAE  | 0.9597898 |\n| MAPE | 0.0417590 |\n| MDAE | 0.2545183 |\n\n",
            "text/latex": "A data.frame: 4 × 2\n\\begin{tabular}{ll}\n eval\\_names & eval\\_model\\_nnet\\_3\\\\\n <chr> & <dbl>\\\\\n\\hline\n\t RMSE & 1.7923666\\\\\n\t MAE  & 0.9597898\\\\\n\t MAPE & 0.0417590\\\\\n\t MDAE & 0.2545183\\\\\n\\end{tabular}\n",
            "text/plain": [
              "  eval_names eval_model_nnet_3\n",
              "1 RMSE       1.7923666        \n",
              "2 MAE        0.9597898        \n",
              "3 MAPE       0.0417590        \n",
              "4 MDAE       0.2545183        "
            ]
          },
          "metadata": {}
        }
      ]
    },
    {
      "cell_type": "code",
      "source": [
        "predict_values_nnet_3 = forecast(model_nnet_3, h = length(testing))$mean\n",
        "predict_values_nnet_3"
      ],
      "metadata": {
        "colab": {
          "base_uri": "https://localhost:8080/",
          "height": 69
        },
        "outputId": "97fb65fc-7e87-4252-ae57-c9d7a9b006bc",
        "id": "cX2kPGeUFCC9"
      },
      "execution_count": null,
      "outputs": [
        {
          "output_type": "display_data",
          "data": {
            "text/html": [
              "A Time Series:<br><style>\n",
              ".list-inline {list-style: none; margin:0; padding: 0}\n",
              ".list-inline>li {display: inline-block}\n",
              ".list-inline>li:not(:last-child)::after {content: \"\\00b7\"; padding: 0 .5ex}\n",
              "</style>\n",
              "<ol class=list-inline><li>7.49181250773033</li><li>6.92686232953896</li><li>6.53435999139685</li><li>6.26289559128667</li><li>6.07576009976064</li><li>5.94706128505785</li><li>5.85869887207691</li><li>5.79810090653159</li></ol>\n"
            ],
            "text/markdown": "A Time Series:  \n1. 7.49181250773033\n2. 6.92686232953896\n3. 6.53435999139685\n4. 6.26289559128667\n5. 6.07576009976064\n6. 5.94706128505785\n7. 5.85869887207691\n8. 5.79810090653159\n\n\n",
            "text/latex": "A Time Series:\\\\\\begin{enumerate*}\n\\item 7.49181250773033\n\\item 6.92686232953896\n\\item 6.53435999139685\n\\item 6.26289559128667\n\\item 6.07576009976064\n\\item 5.94706128505785\n\\item 5.85869887207691\n\\item 5.79810090653159\n\\end{enumerate*}\n",
            "text/plain": [
              "A Time Series:\n",
              "[1] 7.491813 6.926862 6.534360 6.262896 6.075760 5.947061 5.858699 5.798101"
            ]
          },
          "metadata": {}
        }
      ]
    },
    {
      "cell_type": "code",
      "source": [
        "rmse_nnet_3 = rmse(testing, predict_values_nnet_3)\n",
        "mae_nnet_3 = mae(testing, predict_values_nnet_3)\n",
        "mape_nnet_3 = mape(testing, predict_values_nnet_3)\n",
        "mdae_nnet_3 = mdae(testing, predict_values_nnet_3)\n",
        "\n",
        "eval_nnet_3 = c(rmse_nnet_3, mae_nnet_3, mape_nnet_3, mdae_nnet_3)\n",
        "\n",
        "data.frame(eval_names, eval_nnet_3)"
      ],
      "metadata": {
        "colab": {
          "base_uri": "https://localhost:8080/",
          "height": 223
        },
        "outputId": "02409c7e-511d-42bd-cced-8740719277c9",
        "id": "usScjZVDFCC-"
      },
      "execution_count": null,
      "outputs": [
        {
          "output_type": "display_data",
          "data": {
            "text/html": [
              "<table class=\"dataframe\">\n",
              "<caption>A data.frame: 4 × 2</caption>\n",
              "<thead>\n",
              "\t<tr><th scope=col>eval_names</th><th scope=col>eval_nnet_3</th></tr>\n",
              "\t<tr><th scope=col>&lt;chr&gt;</th><th scope=col>&lt;dbl&gt;</th></tr>\n",
              "</thead>\n",
              "<tbody>\n",
              "\t<tr><td>RMSE</td><td>2.3050841</td></tr>\n",
              "\t<tr><td>MAE </td><td>1.9139908</td></tr>\n",
              "\t<tr><td>MAPE</td><td>0.6721531</td></tr>\n",
              "\t<tr><td>MDAE</td><td>2.0693278</td></tr>\n",
              "</tbody>\n",
              "</table>\n"
            ],
            "text/markdown": "\nA data.frame: 4 × 2\n\n| eval_names &lt;chr&gt; | eval_nnet_3 &lt;dbl&gt; |\n|---|---|\n| RMSE | 2.3050841 |\n| MAE  | 1.9139908 |\n| MAPE | 0.6721531 |\n| MDAE | 2.0693278 |\n\n",
            "text/latex": "A data.frame: 4 × 2\n\\begin{tabular}{ll}\n eval\\_names & eval\\_nnet\\_3\\\\\n <chr> & <dbl>\\\\\n\\hline\n\t RMSE & 2.3050841\\\\\n\t MAE  & 1.9139908\\\\\n\t MAPE & 0.6721531\\\\\n\t MDAE & 2.0693278\\\\\n\\end{tabular}\n",
            "text/plain": [
              "  eval_names eval_nnet_3\n",
              "1 RMSE       2.3050841  \n",
              "2 MAE        1.9139908  \n",
              "3 MAPE       0.6721531  \n",
              "4 MDAE       2.0693278  "
            ]
          },
          "metadata": {}
        }
      ]
    },
    {
      "cell_type": "code",
      "source": [
        "forecast_nnet_3 = tail(forecast(model_nnet_3, h = length(testing)+1)$mean, 1)\n",
        "forecast_nnet_3"
      ],
      "metadata": {
        "colab": {
          "base_uri": "https://localhost:8080/",
          "height": 52
        },
        "id": "4HelfxiQNTm2",
        "outputId": "875cdc4c-c318-405b-b978-f1a4a941e969"
      },
      "execution_count": null,
      "outputs": [
        {
          "output_type": "display_data",
          "data": {
            "text/html": [
              "A Time Series:<br>5.75657785173085"
            ],
            "text/markdown": "A Time Series:  \n5.75657785173085",
            "text/latex": "A Time Series:\\\\5.75657785173085",
            "text/plain": [
              "A Time Series:\n",
              "[1] 5.756578"
            ]
          },
          "metadata": {}
        }
      ]
    },
    {
      "cell_type": "markdown",
      "source": [
        "##### Model 4 (p = 3, size = 10)"
      ],
      "metadata": {
        "id": "f45QD54_HaRr"
      }
    },
    {
      "cell_type": "code",
      "source": [
        "model_nnet_4 = nnetar(training, p = 3, size = 10)\n",
        "model_nnet_4"
      ],
      "metadata": {
        "colab": {
          "base_uri": "https://localhost:8080/",
          "height": 173
        },
        "outputId": "21a0b11a-363f-44a1-df5e-95c32b09255b",
        "id": "sWhafLNXHaSS"
      },
      "execution_count": null,
      "outputs": [
        {
          "output_type": "display_data",
          "data": {
            "text/plain": [
              "Series: training \n",
              "Model:  NNAR(3,10) \n",
              "Call:   nnetar(y = training, p = 3, size = 10)\n",
              "\n",
              "Average of 20 networks, each of which is\n",
              "a 3-10-1 network with 51 weights\n",
              "options were - linear output units \n",
              "\n",
              "sigma^2 estimated as 0.0376"
            ]
          },
          "metadata": {}
        }
      ]
    },
    {
      "cell_type": "code",
      "source": [
        "fit_nnet_4 = model_nnet_4$fitted\n",
        "fit_nnet_4"
      ],
      "metadata": {
        "colab": {
          "base_uri": "https://localhost:8080/",
          "height": 104
        },
        "outputId": "75804bb9-ae73-45a1-c9f9-a6b3d1dc8a90",
        "id": "DJlmGRtMHaSU"
      },
      "execution_count": null,
      "outputs": [
        {
          "output_type": "display_data",
          "data": {
            "text/html": [
              "A Time Series:<br><style>\n",
              ".list-inline {list-style: none; margin:0; padding: 0}\n",
              ".list-inline>li {display: inline-block}\n",
              ".list-inline>li:not(:last-child)::after {content: \"\\00b7\"; padding: 0 .5ex}\n",
              "</style>\n",
              "<ol class=list-inline><li>&lt;NA&gt;</li><li>&lt;NA&gt;</li><li>&lt;NA&gt;</li><li>39.9190229327195</li><li>26.7730554820689</li><li>26.4198633236406</li><li>26.9929642824621</li><li>25.099606180744</li><li>30.2770691071367</li><li>25.0463665830134</li><li>24.6451936884691</li><li>20.9600502414483</li><li>18.4050433533459</li><li>15.7869574073461</li><li>13.3960012818054</li><li>11.3661922502404</li><li>9.15329729554939</li><li>8.44243761919653</li></ol>\n"
            ],
            "text/markdown": "A Time Series:  \n1. &lt;NA&gt;\n2. &lt;NA&gt;\n3. &lt;NA&gt;\n4. 39.9190229327195\n5. 26.7730554820689\n6. 26.4198633236406\n7. 26.9929642824621\n8. 25.099606180744\n9. 30.2770691071367\n10. 25.0463665830134\n11. 24.6451936884691\n12. 20.9600502414483\n13. 18.4050433533459\n14. 15.7869574073461\n15. 13.3960012818054\n16. 11.3661922502404\n17. 9.15329729554939\n18. 8.44243761919653\n\n\n",
            "text/latex": "A Time Series:\\\\\\begin{enumerate*}\n\\item <NA>\n\\item <NA>\n\\item <NA>\n\\item 39.9190229327195\n\\item 26.7730554820689\n\\item 26.4198633236406\n\\item 26.9929642824621\n\\item 25.099606180744\n\\item 30.2770691071367\n\\item 25.0463665830134\n\\item 24.6451936884691\n\\item 20.9600502414483\n\\item 18.4050433533459\n\\item 15.7869574073461\n\\item 13.3960012818054\n\\item 11.3661922502404\n\\item 9.15329729554939\n\\item 8.44243761919653\n\\end{enumerate*}\n",
            "text/plain": [
              "A Time Series:\n",
              " [1]        NA        NA        NA 39.919023 26.773055 26.419863 26.992964\n",
              " [8] 25.099606 30.277069 25.046367 24.645194 20.960050 18.405043 15.786957\n",
              "[15] 13.396001 11.366192  9.153297  8.442438"
            ]
          },
          "metadata": {}
        }
      ]
    },
    {
      "cell_type": "code",
      "source": [
        "rmse_model_nnet_4 = rmse(training[4:18], fit_nnet_4[4:18])\n",
        "mae_model_nnet_4 = mae(training[4:18], fit_nnet_4[4:18])\n",
        "mape_model_nnet_4 = mape(training[4:18], fit_nnet_4[4:18])\n",
        "mdae_model_nnet_4 = mdae(training[4:18], fit_nnet_4[4:18])\n",
        "\n",
        "eval_model_nnet_4 = c(rmse_model_nnet_4, mae_model_nnet_4, mape_model_nnet_4, mdae_model_nnet_4)\n",
        "\n",
        "data.frame(eval_names, eval_model_nnet_4)"
      ],
      "metadata": {
        "colab": {
          "base_uri": "https://localhost:8080/",
          "height": 223
        },
        "outputId": "2b2e1934-3430-403b-b0f2-3d6de95a357c",
        "id": "gWkQGxUZHaSV"
      },
      "execution_count": null,
      "outputs": [
        {
          "output_type": "display_data",
          "data": {
            "text/html": [
              "<table class=\"dataframe\">\n",
              "<caption>A data.frame: 4 × 2</caption>\n",
              "<thead>\n",
              "\t<tr><th scope=col>eval_names</th><th scope=col>eval_model_nnet_4</th></tr>\n",
              "\t<tr><th scope=col>&lt;chr&gt;</th><th scope=col>&lt;dbl&gt;</th></tr>\n",
              "</thead>\n",
              "<tbody>\n",
              "\t<tr><td>RMSE</td><td>0.193918628</td></tr>\n",
              "\t<tr><td>MAE </td><td>0.139675007</td></tr>\n",
              "\t<tr><td>MAPE</td><td>0.008321209</td></tr>\n",
              "\t<tr><td>MDAE</td><td>0.105043353</td></tr>\n",
              "</tbody>\n",
              "</table>\n"
            ],
            "text/markdown": "\nA data.frame: 4 × 2\n\n| eval_names &lt;chr&gt; | eval_model_nnet_4 &lt;dbl&gt; |\n|---|---|\n| RMSE | 0.193918628 |\n| MAE  | 0.139675007 |\n| MAPE | 0.008321209 |\n| MDAE | 0.105043353 |\n\n",
            "text/latex": "A data.frame: 4 × 2\n\\begin{tabular}{ll}\n eval\\_names & eval\\_model\\_nnet\\_4\\\\\n <chr> & <dbl>\\\\\n\\hline\n\t RMSE & 0.193918628\\\\\n\t MAE  & 0.139675007\\\\\n\t MAPE & 0.008321209\\\\\n\t MDAE & 0.105043353\\\\\n\\end{tabular}\n",
            "text/plain": [
              "  eval_names eval_model_nnet_4\n",
              "1 RMSE       0.193918628      \n",
              "2 MAE        0.139675007      \n",
              "3 MAPE       0.008321209      \n",
              "4 MDAE       0.105043353      "
            ]
          },
          "metadata": {}
        }
      ]
    },
    {
      "cell_type": "code",
      "source": [
        "predict_values_nnet_4 = forecast(model_nnet_4, h = length(testing))$mean\n",
        "predict_values_nnet_4"
      ],
      "metadata": {
        "colab": {
          "base_uri": "https://localhost:8080/",
          "height": 69
        },
        "outputId": "82a5971d-e33d-4153-afe9-aaa5362d8632",
        "id": "8xyrZM9uHaSW"
      },
      "execution_count": null,
      "outputs": [
        {
          "output_type": "display_data",
          "data": {
            "text/html": [
              "A Time Series:<br><style>\n",
              ".list-inline {list-style: none; margin:0; padding: 0}\n",
              ".list-inline>li {display: inline-block}\n",
              ".list-inline>li:not(:last-child)::after {content: \"\\00b7\"; padding: 0 .5ex}\n",
              "</style>\n",
              "<ol class=list-inline><li>7.10132940700365</li><li>5.9857959303852</li><li>5.89396715617094</li><li>5.6352260014439</li><li>4.7465000852325</li><li>4.83409736449394</li><li>5.23144534258866</li><li>4.40434764598388</li></ol>\n"
            ],
            "text/markdown": "A Time Series:  \n1. 7.10132940700365\n2. 5.9857959303852\n3. 5.89396715617094\n4. 5.6352260014439\n5. 4.7465000852325\n6. 4.83409736449394\n7. 5.23144534258866\n8. 4.40434764598388\n\n\n",
            "text/latex": "A Time Series:\\\\\\begin{enumerate*}\n\\item 7.10132940700365\n\\item 5.9857959303852\n\\item 5.89396715617094\n\\item 5.6352260014439\n\\item 4.7465000852325\n\\item 4.83409736449394\n\\item 5.23144534258866\n\\item 4.40434764598388\n\\end{enumerate*}\n",
            "text/plain": [
              "A Time Series:\n",
              "[1] 7.101329 5.985796 5.893967 5.635226 4.746500 4.834097 5.231445 4.404348"
            ]
          },
          "metadata": {}
        }
      ]
    },
    {
      "cell_type": "code",
      "source": [
        "rmse_nnet_4 = rmse(testing, predict_values_nnet_4)\n",
        "mae_nnet_4 = mae(testing, predict_values_nnet_4)\n",
        "mape_nnet_4 = mape(testing, predict_values_nnet_4)\n",
        "mdae_nnet_4 = mdae(testing, predict_values_nnet_4)\n",
        "\n",
        "eval_nnet_4 = c(rmse_nnet_4, mae_nnet_4, mape_nnet_4, mdae_nnet_4)\n",
        "\n",
        "data.frame(eval_names, eval_nnet_4)"
      ],
      "metadata": {
        "colab": {
          "base_uri": "https://localhost:8080/",
          "height": 223
        },
        "outputId": "c191597e-2477-42b0-b68d-240a223155b3",
        "id": "_f7YLZ49HaSX"
      },
      "execution_count": null,
      "outputs": [
        {
          "output_type": "display_data",
          "data": {
            "text/html": [
              "<table class=\"dataframe\">\n",
              "<caption>A data.frame: 4 × 2</caption>\n",
              "<thead>\n",
              "\t<tr><th scope=col>eval_names</th><th scope=col>eval_nnet_4</th></tr>\n",
              "\t<tr><th scope=col>&lt;chr&gt;</th><th scope=col>&lt;dbl&gt;</th></tr>\n",
              "</thead>\n",
              "<tbody>\n",
              "\t<tr><td>RMSE</td><td>1.5294689</td></tr>\n",
              "\t<tr><td>MAE </td><td>1.2823073</td></tr>\n",
              "\t<tr><td>MAPE</td><td>0.4449164</td></tr>\n",
              "\t<tr><td>MDAE</td><td>1.0908630</td></tr>\n",
              "</tbody>\n",
              "</table>\n"
            ],
            "text/markdown": "\nA data.frame: 4 × 2\n\n| eval_names &lt;chr&gt; | eval_nnet_4 &lt;dbl&gt; |\n|---|---|\n| RMSE | 1.5294689 |\n| MAE  | 1.2823073 |\n| MAPE | 0.4449164 |\n| MDAE | 1.0908630 |\n\n",
            "text/latex": "A data.frame: 4 × 2\n\\begin{tabular}{ll}\n eval\\_names & eval\\_nnet\\_4\\\\\n <chr> & <dbl>\\\\\n\\hline\n\t RMSE & 1.5294689\\\\\n\t MAE  & 1.2823073\\\\\n\t MAPE & 0.4449164\\\\\n\t MDAE & 1.0908630\\\\\n\\end{tabular}\n",
            "text/plain": [
              "  eval_names eval_nnet_4\n",
              "1 RMSE       1.5294689  \n",
              "2 MAE        1.2823073  \n",
              "3 MAPE       0.4449164  \n",
              "4 MDAE       1.0908630  "
            ]
          },
          "metadata": {}
        }
      ]
    },
    {
      "cell_type": "code",
      "source": [
        "forecast_nnet_4 = tail(forecast(model_nnet_4, h = length(testing)+1)$mean, 1)\n",
        "forecast_nnet_4"
      ],
      "metadata": {
        "colab": {
          "base_uri": "https://localhost:8080/",
          "height": 52
        },
        "id": "gfGk1KVDNdRc",
        "outputId": "094df401-f676-449e-af66-4aa7b71f44a8"
      },
      "execution_count": null,
      "outputs": [
        {
          "output_type": "display_data",
          "data": {
            "text/html": [
              "A Time Series:<br>4.2359693745526"
            ],
            "text/markdown": "A Time Series:  \n4.2359693745526",
            "text/latex": "A Time Series:\\\\4.2359693745526",
            "text/plain": [
              "A Time Series:\n",
              "[1] 4.235969"
            ]
          },
          "metadata": {}
        }
      ]
    },
    {
      "cell_type": "markdown",
      "source": [
        "##### Model 5 (p = 5, size = 10)"
      ],
      "metadata": {
        "id": "-kJbPemzFylz"
      }
    },
    {
      "cell_type": "code",
      "source": [
        "model_nnet_5 = nnetar(training, p = 5, size = 10)\n",
        "model_nnet_5"
      ],
      "metadata": {
        "colab": {
          "base_uri": "https://localhost:8080/",
          "height": 173
        },
        "outputId": "ea0c97be-f3a2-429a-81a0-4bc14c90d98f",
        "id": "ZN65ieflFyma"
      },
      "execution_count": null,
      "outputs": [
        {
          "output_type": "display_data",
          "data": {
            "text/plain": [
              "Series: training \n",
              "Model:  NNAR(5,10) \n",
              "Call:   nnetar(y = training, p = 5, size = 10)\n",
              "\n",
              "Average of 20 networks, each of which is\n",
              "a 5-10-1 network with 71 weights\n",
              "options were - linear output units \n",
              "\n",
              "sigma^2 estimated as 0.0001139"
            ]
          },
          "metadata": {}
        }
      ]
    },
    {
      "cell_type": "code",
      "source": [
        "fit_nnet_5 = model_nnet_5$fitted\n",
        "fit_nnet_5"
      ],
      "metadata": {
        "colab": {
          "base_uri": "https://localhost:8080/",
          "height": 104
        },
        "outputId": "08be6394-75a8-4bb7-b7d9-1ce7c1a5ea5b",
        "id": "UQcwriQdFymb"
      },
      "execution_count": null,
      "outputs": [
        {
          "output_type": "display_data",
          "data": {
            "text/html": [
              "A Time Series:<br><style>\n",
              ".list-inline {list-style: none; margin:0; padding: 0}\n",
              ".list-inline>li {display: inline-block}\n",
              ".list-inline>li:not(:last-child)::after {content: \"\\00b7\"; padding: 0 .5ex}\n",
              "</style>\n",
              "<ol class=list-inline><li>&lt;NA&gt;</li><li>&lt;NA&gt;</li><li>&lt;NA&gt;</li><li>&lt;NA&gt;</li><li>&lt;NA&gt;</li><li>26.4020837270375</li><li>27.0058213364666</li><li>24.5986453764092</li><li>30.5942780131947</li><li>25.1992820322246</li><li>24.697906803271</li><li>20.9993155691248</li><li>18.3028591253132</li><li>15.7028103158841</li><li>13.6814429544683</li><li>11.1972183970439</li><li>9.3301061867806</li><li>8.28868666884209</li></ol>\n"
            ],
            "text/markdown": "A Time Series:  \n1. &lt;NA&gt;\n2. &lt;NA&gt;\n3. &lt;NA&gt;\n4. &lt;NA&gt;\n5. &lt;NA&gt;\n6. 26.4020837270375\n7. 27.0058213364666\n8. 24.5986453764092\n9. 30.5942780131947\n10. 25.1992820322246\n11. 24.697906803271\n12. 20.9993155691248\n13. 18.3028591253132\n14. 15.7028103158841\n15. 13.6814429544683\n16. 11.1972183970439\n17. 9.3301061867806\n18. 8.28868666884209\n\n\n",
            "text/latex": "A Time Series:\\\\\\begin{enumerate*}\n\\item <NA>\n\\item <NA>\n\\item <NA>\n\\item <NA>\n\\item <NA>\n\\item 26.4020837270375\n\\item 27.0058213364666\n\\item 24.5986453764092\n\\item 30.5942780131947\n\\item 25.1992820322246\n\\item 24.697906803271\n\\item 20.9993155691248\n\\item 18.3028591253132\n\\item 15.7028103158841\n\\item 13.6814429544683\n\\item 11.1972183970439\n\\item 9.3301061867806\n\\item 8.28868666884209\n\\end{enumerate*}\n",
            "text/plain": [
              "A Time Series:\n",
              " [1]        NA        NA        NA        NA        NA 26.402084 27.005821\n",
              " [8] 24.598645 30.594278 25.199282 24.697907 20.999316 18.302859 15.702810\n",
              "[15] 13.681443 11.197218  9.330106  8.288687"
            ]
          },
          "metadata": {}
        }
      ]
    },
    {
      "cell_type": "code",
      "source": [
        "rmse_model_nnet_5 = rmse(training[6:18], fit_nnet_5[6:18])\n",
        "mae_model_nnet_5 = mae(training[6:18], fit_nnet_5[6:18])\n",
        "mape_model_nnet_5 = mape(training[6:18], fit_nnet_5[6:18])\n",
        "mdae_model_nnet_5 = mdae(training[6:18], fit_nnet_5[6:18])\n",
        "\n",
        "eval_model_nnet_5 = c(rmse_model_nnet_5, mae_model_nnet_5, mape_model_nnet_5, mdae_model_nnet_5)\n",
        "\n",
        "data.frame(eval_names, eval_model_nnet_5)"
      ],
      "metadata": {
        "colab": {
          "base_uri": "https://localhost:8080/",
          "height": 223
        },
        "outputId": "c4ad3060-b36d-4444-b1f1-07262c042d91",
        "id": "YDFY0vdNFymc"
      },
      "execution_count": null,
      "outputs": [
        {
          "output_type": "display_data",
          "data": {
            "text/html": [
              "<table class=\"dataframe\">\n",
              "<caption>A data.frame: 4 × 2</caption>\n",
              "<thead>\n",
              "\t<tr><th scope=col>eval_names</th><th scope=col>eval_model_nnet_5</th></tr>\n",
              "\t<tr><th scope=col>&lt;chr&gt;</th><th scope=col>&lt;dbl&gt;</th></tr>\n",
              "</thead>\n",
              "<tbody>\n",
              "\t<tr><td>RMSE</td><td>0.0106724631</td></tr>\n",
              "\t<tr><td>MAE </td><td>0.0066849905</td></tr>\n",
              "\t<tr><td>MAPE</td><td>0.0005554477</td></tr>\n",
              "\t<tr><td>MDAE</td><td>0.0028103159</td></tr>\n",
              "</tbody>\n",
              "</table>\n"
            ],
            "text/markdown": "\nA data.frame: 4 × 2\n\n| eval_names &lt;chr&gt; | eval_model_nnet_5 &lt;dbl&gt; |\n|---|---|\n| RMSE | 0.0106724631 |\n| MAE  | 0.0066849905 |\n| MAPE | 0.0005554477 |\n| MDAE | 0.0028103159 |\n\n",
            "text/latex": "A data.frame: 4 × 2\n\\begin{tabular}{ll}\n eval\\_names & eval\\_model\\_nnet\\_5\\\\\n <chr> & <dbl>\\\\\n\\hline\n\t RMSE & 0.0106724631\\\\\n\t MAE  & 0.0066849905\\\\\n\t MAPE & 0.0005554477\\\\\n\t MDAE & 0.0028103159\\\\\n\\end{tabular}\n",
            "text/plain": [
              "  eval_names eval_model_nnet_5\n",
              "1 RMSE       0.0106724631     \n",
              "2 MAE        0.0066849905     \n",
              "3 MAPE       0.0005554477     \n",
              "4 MDAE       0.0028103159     "
            ]
          },
          "metadata": {}
        }
      ]
    },
    {
      "cell_type": "code",
      "source": [
        "predict_values_nnet_5 = forecast(model_nnet_5, h = length(testing))$mean\n",
        "predict_values_nnet_5"
      ],
      "metadata": {
        "colab": {
          "base_uri": "https://localhost:8080/",
          "height": 69
        },
        "outputId": "859d16bd-222a-4994-9f4b-68103ef41452",
        "id": "LDOIUt-OFymd"
      },
      "execution_count": null,
      "outputs": [
        {
          "output_type": "display_data",
          "data": {
            "text/html": [
              "A Time Series:<br><style>\n",
              ".list-inline {list-style: none; margin:0; padding: 0}\n",
              ".list-inline>li {display: inline-block}\n",
              ".list-inline>li:not(:last-child)::after {content: \"\\00b7\"; padding: 0 .5ex}\n",
              "</style>\n",
              "<ol class=list-inline><li>7.79354438928911</li><li>7.76867203097683</li><li>8.61069142716226</li><li>9.6121595762403</li><li>10.4784636423121</li><li>11.4478654400488</li><li>12.1679409337327</li><li>12.3825343427957</li></ol>\n"
            ],
            "text/markdown": "A Time Series:  \n1. 7.79354438928911\n2. 7.76867203097683\n3. 8.61069142716226\n4. 9.6121595762403\n5. 10.4784636423121\n6. 11.4478654400488\n7. 12.1679409337327\n8. 12.3825343427957\n\n\n",
            "text/latex": "A Time Series:\\\\\\begin{enumerate*}\n\\item 7.79354438928911\n\\item 7.76867203097683\n\\item 8.61069142716226\n\\item 9.6121595762403\n\\item 10.4784636423121\n\\item 11.4478654400488\n\\item 12.1679409337327\n\\item 12.3825343427957\n\\end{enumerate*}\n",
            "text/plain": [
              "A Time Series:\n",
              "[1]  7.793544  7.768672  8.610691  9.612160 10.478464 11.447865 12.167941\n",
              "[8] 12.382534"
            ]
          },
          "metadata": {}
        }
      ]
    },
    {
      "cell_type": "code",
      "source": [
        "rmse_nnet_5 = rmse(testing, predict_values_nnet_5)\n",
        "mae_nnet_5 = mae(testing, predict_values_nnet_5)\n",
        "mape_nnet_5 = mape(testing, predict_values_nnet_5)\n",
        "mdae_nnet_5 = mdae(testing, predict_values_nnet_5)\n",
        "\n",
        "eval_nnet_5 = c(rmse_nnet_5, mae_nnet_5, mape_nnet_5, mdae_nnet_5)\n",
        "\n",
        "data.frame(eval_names, eval_nnet_5)"
      ],
      "metadata": {
        "colab": {
          "base_uri": "https://localhost:8080/",
          "height": 223
        },
        "outputId": "2993a1f5-506e-4dc4-e9f2-a588c791211e",
        "id": "SRH1bihtFymd"
      },
      "execution_count": null,
      "outputs": [
        {
          "output_type": "display_data",
          "data": {
            "text/html": [
              "<table class=\"dataframe\">\n",
              "<caption>A data.frame: 4 × 2</caption>\n",
              "<thead>\n",
              "\t<tr><th scope=col>eval_names</th><th scope=col>eval_nnet_5</th></tr>\n",
              "\t<tr><th scope=col>&lt;chr&gt;</th><th scope=col>&lt;dbl&gt;</th></tr>\n",
              "</thead>\n",
              "<tbody>\n",
              "\t<tr><td>RMSE</td><td>6.614852</td></tr>\n",
              "\t<tr><td>MAE </td><td>5.582734</td></tr>\n",
              "\t<tr><td>MAPE</td><td>1.925997</td></tr>\n",
              "\t<tr><td>MDAE</td><td>5.945312</td></tr>\n",
              "</tbody>\n",
              "</table>\n"
            ],
            "text/markdown": "\nA data.frame: 4 × 2\n\n| eval_names &lt;chr&gt; | eval_nnet_5 &lt;dbl&gt; |\n|---|---|\n| RMSE | 6.614852 |\n| MAE  | 5.582734 |\n| MAPE | 1.925997 |\n| MDAE | 5.945312 |\n\n",
            "text/latex": "A data.frame: 4 × 2\n\\begin{tabular}{ll}\n eval\\_names & eval\\_nnet\\_5\\\\\n <chr> & <dbl>\\\\\n\\hline\n\t RMSE & 6.614852\\\\\n\t MAE  & 5.582734\\\\\n\t MAPE & 1.925997\\\\\n\t MDAE & 5.945312\\\\\n\\end{tabular}\n",
            "text/plain": [
              "  eval_names eval_nnet_5\n",
              "1 RMSE       6.614852   \n",
              "2 MAE        5.582734   \n",
              "3 MAPE       1.925997   \n",
              "4 MDAE       5.945312   "
            ]
          },
          "metadata": {}
        }
      ]
    },
    {
      "cell_type": "code",
      "source": [
        "forecast_nnet_5 = tail(forecast(model_nnet_5, h = length(testing)+1)$mean, 1)\n",
        "forecast_nnet_5"
      ],
      "metadata": {
        "colab": {
          "base_uri": "https://localhost:8080/",
          "height": 52
        },
        "id": "rzTXqVOvNnlj",
        "outputId": "b643e2bf-13aa-4daa-f5b9-639d058df48c"
      },
      "execution_count": null,
      "outputs": [
        {
          "output_type": "display_data",
          "data": {
            "text/html": [
              "A Time Series:<br>12.4346904544693"
            ],
            "text/markdown": "A Time Series:  \n12.4346904544693",
            "text/latex": "A Time Series:\\\\12.4346904544693",
            "text/plain": [
              "A Time Series:\n",
              "[1] 12.43469"
            ]
          },
          "metadata": {}
        }
      ]
    },
    {
      "cell_type": "markdown",
      "source": [
        "#### MLP Models"
      ],
      "metadata": {
        "id": "6Le5r9wICf4q"
      }
    },
    {
      "cell_type": "markdown",
      "source": [
        "##### Model 1 (2, 5)"
      ],
      "metadata": {
        "id": "HJrOp7V6I0W1"
      }
    },
    {
      "cell_type": "code",
      "source": [
        "model_nn_1 = mlp(training, hd = c(2, 5))\n",
        "model_nn_1"
      ],
      "metadata": {
        "colab": {
          "base_uri": "https://localhost:8080/",
          "height": 104
        },
        "id": "Q3LbJaWDivZs",
        "outputId": "7bd78ef1-3fe3-42c3-c672-4fa2b28b84fb"
      },
      "execution_count": null,
      "outputs": [
        {
          "output_type": "display_data",
          "data": {
            "text/plain": [
              "MLP fit with (2,5) hidden nodes and 20 repetitions.\n",
              "Series modelled in differences: D1.\n",
              "Univariate lags: (4)\n",
              "Forecast combined using the median operator.\n",
              "MSE: 5.1248."
            ]
          },
          "metadata": {}
        }
      ]
    },
    {
      "cell_type": "code",
      "source": [
        "fit_nn_1 = model_nn_1$fitted\n",
        "fit_nn_1"
      ],
      "metadata": {
        "colab": {
          "base_uri": "https://localhost:8080/",
          "height": 104
        },
        "id": "3llnOomujNkk",
        "outputId": "a8ce6f58-283a-4f1f-d96e-881a403d9281"
      },
      "execution_count": null,
      "outputs": [
        {
          "output_type": "display_data",
          "data": {
            "text/html": [
              "A Time Series:<br><style>\n",
              ".list-inline {list-style: none; margin:0; padding: 0}\n",
              ".list-inline>li {display: inline-block}\n",
              ".list-inline>li:not(:last-child)::after {content: \"\\00b7\"; padding: 0 .5ex}\n",
              "</style>\n",
              "<ol class=list-inline><li>28.6054379563438</li><li>24.6603312283982</li><li>25.5189438870091</li><li>24.7695935566778</li><li>28.5283828557506</li><li>22.9547878493764</li><li>22.9603312283982</li><li>18.0315484062677</li><li>17.0509145788552</li><li>13.6437614303748</li><li>12.2189438870091</li><li>9.52106192021719</li><li>7.59867935735511</li></ol>\n"
            ],
            "text/markdown": "A Time Series:  \n1. 28.6054379563438\n2. 24.6603312283982\n3. 25.5189438870091\n4. 24.7695935566778\n5. 28.5283828557506\n6. 22.9547878493764\n7. 22.9603312283982\n8. 18.0315484062677\n9. 17.0509145788552\n10. 13.6437614303748\n11. 12.2189438870091\n12. 9.52106192021719\n13. 7.59867935735511\n\n\n",
            "text/latex": "A Time Series:\\\\\\begin{enumerate*}\n\\item 28.6054379563438\n\\item 24.6603312283982\n\\item 25.5189438870091\n\\item 24.7695935566778\n\\item 28.5283828557506\n\\item 22.9547878493764\n\\item 22.9603312283982\n\\item 18.0315484062677\n\\item 17.0509145788552\n\\item 13.6437614303748\n\\item 12.2189438870091\n\\item 9.52106192021719\n\\item 7.59867935735511\n\\end{enumerate*}\n",
            "text/plain": [
              "A Time Series:\n",
              " [1] 28.605438 24.660331 25.518944 24.769594 28.528383 22.954788 22.960331\n",
              " [8] 18.031548 17.050915 13.643761 12.218944  9.521062  7.598679"
            ]
          },
          "metadata": {}
        }
      ]
    },
    {
      "cell_type": "code",
      "source": [
        "rmse_model_nn_1 = rmse(training, fit_nn_1)\n",
        "mae_model_nn_1 = mae(training, fit_nn_1)\n",
        "mape_model_nn_1 = mape(training, fit_nn_1)\n",
        "mdae_model_nn_1 = mdae(training, fit_nn_1)\n",
        "\n",
        "eval_model_nn_1 = c(rmse_model_nn_1, mae_model_nn_1, mape_model_nn_1, mdae_model_nn_1)\n",
        "\n",
        "data.frame(eval_names, eval_model_nn_1)"
      ],
      "metadata": {
        "colab": {
          "base_uri": "https://localhost:8080/",
          "height": 223
        },
        "id": "utMRhvuQjvXD",
        "outputId": "7636c3ff-9249-4db7-c4c6-f58f9cc97ab4"
      },
      "execution_count": null,
      "outputs": [
        {
          "output_type": "display_data",
          "data": {
            "text/html": [
              "<table class=\"dataframe\">\n",
              "<caption>A data.frame: 4 × 2</caption>\n",
              "<thead>\n",
              "\t<tr><th scope=col>eval_names</th><th scope=col>eval_model_nn_1</th></tr>\n",
              "\t<tr><th scope=col>&lt;chr&gt;</th><th scope=col>&lt;dbl&gt;</th></tr>\n",
              "</thead>\n",
              "<tbody>\n",
              "\t<tr><td>RMSE</td><td>2.26379642</td></tr>\n",
              "\t<tr><td>MAE </td><td>1.68810111</td></tr>\n",
              "\t<tr><td>MAPE</td><td>0.07678717</td></tr>\n",
              "\t<tr><td>MDAE</td><td>1.35091458</td></tr>\n",
              "</tbody>\n",
              "</table>\n"
            ],
            "text/markdown": "\nA data.frame: 4 × 2\n\n| eval_names &lt;chr&gt; | eval_model_nn_1 &lt;dbl&gt; |\n|---|---|\n| RMSE | 2.26379642 |\n| MAE  | 1.68810111 |\n| MAPE | 0.07678717 |\n| MDAE | 1.35091458 |\n\n",
            "text/latex": "A data.frame: 4 × 2\n\\begin{tabular}{ll}\n eval\\_names & eval\\_model\\_nn\\_1\\\\\n <chr> & <dbl>\\\\\n\\hline\n\t RMSE & 2.26379642\\\\\n\t MAE  & 1.68810111\\\\\n\t MAPE & 0.07678717\\\\\n\t MDAE & 1.35091458\\\\\n\\end{tabular}\n",
            "text/plain": [
              "  eval_names eval_model_nn_1\n",
              "1 RMSE       2.26379642     \n",
              "2 MAE        1.68810111     \n",
              "3 MAPE       0.07678717     \n",
              "4 MDAE       1.35091458     "
            ]
          },
          "metadata": {}
        }
      ]
    },
    {
      "cell_type": "code",
      "source": [
        "predict_values_nn_1 = forecast(model_nn_1, h = length(testing))$mean\n",
        "predict_values_nn_1"
      ],
      "metadata": {
        "colab": {
          "base_uri": "https://localhost:8080/",
          "height": 86
        },
        "id": "l-VQlPKRjmQx",
        "outputId": "2ef9ae92-f9a9-4cd4-b2a4-02b88438abcf"
      },
      "execution_count": null,
      "outputs": [
        {
          "output_type": "display_data",
          "data": {
            "text/html": [
              "A Time Series:<br><style>\n",
              ".dl-inline {width: auto; margin:0; padding: 0}\n",
              ".dl-inline>dt, .dl-inline>dd {float: none; width: auto; display: inline-block}\n",
              ".dl-inline>dt::after {content: \":\\0020\"; padding-right: .5ex}\n",
              ".dl-inline>dt:not(:first-of-type) {padding-left: .5ex}\n",
              "</style><dl class=dl-inline><dt>t+1</dt><dd>6.49230703626192</dd><dt>t+2</dt><dd>4.77550216523785</dd><dt>t+3</dt><dd>2.94971413209481</dd><dt>t+4</dt><dd>0.963663609133835</dd><dt>t+5</dt><dd>-0.877654365300549</dd><dt>t+6</dt><dd>-2.73291847780617</dd><dt>t+7</dt><dd>-4.57146079387894</dd><dt>t+8</dt><dd>-6.38524756732488</dd></dl>\n"
            ],
            "text/markdown": "A Time Series:  \nt+1\n:   6.49230703626192t+2\n:   4.77550216523785t+3\n:   2.94971413209481t+4\n:   0.963663609133835t+5\n:   -0.877654365300549t+6\n:   -2.73291847780617t+7\n:   -4.57146079387894t+8\n:   -6.38524756732488\n\n",
            "text/latex": "A Time Series:\\\\\\begin{description*}\n\\item[t+1] 6.49230703626192\n\\item[t+2] 4.77550216523785\n\\item[t+3] 2.94971413209481\n\\item[t+4] 0.963663609133835\n\\item[t+5] -0.877654365300549\n\\item[t+6] -2.73291847780617\n\\item[t+7] -4.57146079387894\n\\item[t+8] -6.38524756732488\n\\end{description*}\n",
            "text/plain": [
              "A Time Series:\n",
              "       t+1        t+2        t+3        t+4        t+5        t+6        t+7 \n",
              " 6.4923070  4.7755022  2.9497141  0.9636636 -0.8776544 -2.7329185 -4.5714608 \n",
              "       t+8 \n",
              "-6.3852476 "
            ]
          },
          "metadata": {}
        }
      ]
    },
    {
      "cell_type": "code",
      "source": [
        "rmse_nn_1 = rmse(testing, predict_values_nn_1)\n",
        "mae_nn_1 = mae(testing, predict_values_nn_1)\n",
        "mape_nn_1 = mape(testing, predict_values_nn_1)\n",
        "mdae_nn_1 = mdae(testing, predict_values_nn_1)\n",
        "\n",
        "eval_nn_1 = c(rmse_nn_1, mae_nn_1, mape_nn_1, mdae_nn_1)\n",
        "\n",
        "data.frame(eval_names, eval_nn_1)"
      ],
      "metadata": {
        "colab": {
          "base_uri": "https://localhost:8080/",
          "height": 223
        },
        "id": "7aAfUFVCkG1z",
        "outputId": "b3d96608-d786-4b4b-8a59-394b6ef8637c"
      },
      "execution_count": null,
      "outputs": [
        {
          "output_type": "display_data",
          "data": {
            "text/html": [
              "<table class=\"dataframe\">\n",
              "<caption>A data.frame: 4 × 2</caption>\n",
              "<thead>\n",
              "\t<tr><th scope=col>eval_names</th><th scope=col>eval_nn_1</th></tr>\n",
              "\t<tr><th scope=col>&lt;chr&gt;</th><th scope=col>&lt;dbl&gt;</th></tr>\n",
              "</thead>\n",
              "<tbody>\n",
              "\t<tr><td>RMSE</td><td>5.019178</td></tr>\n",
              "\t<tr><td>MAE </td><td>4.373262</td></tr>\n",
              "\t<tr><td>MAPE</td><td>1.480822</td></tr>\n",
              "\t<tr><td>MDAE</td><td>4.056995</td></tr>\n",
              "</tbody>\n",
              "</table>\n"
            ],
            "text/markdown": "\nA data.frame: 4 × 2\n\n| eval_names &lt;chr&gt; | eval_nn_1 &lt;dbl&gt; |\n|---|---|\n| RMSE | 5.019178 |\n| MAE  | 4.373262 |\n| MAPE | 1.480822 |\n| MDAE | 4.056995 |\n\n",
            "text/latex": "A data.frame: 4 × 2\n\\begin{tabular}{ll}\n eval\\_names & eval\\_nn\\_1\\\\\n <chr> & <dbl>\\\\\n\\hline\n\t RMSE & 5.019178\\\\\n\t MAE  & 4.373262\\\\\n\t MAPE & 1.480822\\\\\n\t MDAE & 4.056995\\\\\n\\end{tabular}\n",
            "text/plain": [
              "  eval_names eval_nn_1\n",
              "1 RMSE       5.019178 \n",
              "2 MAE        4.373262 \n",
              "3 MAPE       1.480822 \n",
              "4 MDAE       4.056995 "
            ]
          },
          "metadata": {}
        }
      ]
    },
    {
      "cell_type": "code",
      "source": [
        "forecast_nn_1 = tail(forecast(model_nn_1, h = length(testing))$mean, 1)\n",
        "forecast_nn_1"
      ],
      "metadata": {
        "colab": {
          "base_uri": "https://localhost:8080/",
          "height": 52
        },
        "id": "Y-ZnDhQ8kqpG",
        "outputId": "964541f6-728b-43c0-8ec0-3bf37f147ea0"
      },
      "execution_count": null,
      "outputs": [
        {
          "output_type": "display_data",
          "data": {
            "text/html": [
              "A Time Series:<br>-6.38524756732488"
            ],
            "text/markdown": "A Time Series:  \n-6.38524756732488",
            "text/latex": "A Time Series:\\\\-6.38524756732488",
            "text/plain": [
              "A Time Series:\n",
              "[1] -6.385248"
            ]
          },
          "metadata": {}
        }
      ]
    },
    {
      "cell_type": "markdown",
      "source": [
        "##### Model 2 (3, 1)"
      ],
      "metadata": {
        "id": "7JPSSVn1l_Xi"
      }
    },
    {
      "cell_type": "code",
      "source": [
        "model_nn_2 = mlp(training, hd = c(3, 1))\n",
        "model_nn_2"
      ],
      "metadata": {
        "colab": {
          "base_uri": "https://localhost:8080/",
          "height": 104
        },
        "outputId": "5000883b-acac-471b-9c56-6ec795e9b13f",
        "id": "IqnCPYhOmBhv"
      },
      "execution_count": null,
      "outputs": [
        {
          "output_type": "display_data",
          "data": {
            "text/plain": [
              "MLP fit with (3,1) hidden nodes and 20 repetitions.\n",
              "Series modelled in differences: D1.\n",
              "Univariate lags: (4)\n",
              "Forecast combined using the median operator.\n",
              "MSE: 4.4941."
            ]
          },
          "metadata": {}
        }
      ]
    },
    {
      "cell_type": "code",
      "source": [
        "fit_nn_2 = model_nn_2$fitted\n",
        "fit_nn_2"
      ],
      "metadata": {
        "colab": {
          "base_uri": "https://localhost:8080/",
          "height": 86
        },
        "outputId": "31711bbe-ce59-4588-9908-92b9985ec727",
        "id": "b6QNc8ixmBiX"
      },
      "execution_count": null,
      "outputs": [
        {
          "output_type": "display_data",
          "data": {
            "text/html": [
              "A Time Series:<br><style>\n",
              ".list-inline {list-style: none; margin:0; padding: 0}\n",
              ".list-inline>li {display: inline-block}\n",
              ".list-inline>li:not(:last-child)::after {content: \"\\00b7\"; padding: 0 .5ex}\n",
              "</style>\n",
              "<ol class=list-inline><li>28.9751486755286</li><li>24.5356885681787</li><li>25.4769517463812</li><li>25.7115511142333</li><li>28.3043744784926</li><li>22.7151821727979</li><li>22.8356885681787</li><li>17.9322169251323</li><li>17.2127417092344</li><li>13.424771603646</li><li>12.1769517463812</li><li>9.43478903874656</li><li>7.50337069202745</li></ol>\n"
            ],
            "text/markdown": "A Time Series:  \n1. 28.9751486755286\n2. 24.5356885681787\n3. 25.4769517463812\n4. 25.7115511142333\n5. 28.3043744784926\n6. 22.7151821727979\n7. 22.8356885681787\n8. 17.9322169251323\n9. 17.2127417092344\n10. 13.424771603646\n11. 12.1769517463812\n12. 9.43478903874656\n13. 7.50337069202745\n\n\n",
            "text/latex": "A Time Series:\\\\\\begin{enumerate*}\n\\item 28.9751486755286\n\\item 24.5356885681787\n\\item 25.4769517463812\n\\item 25.7115511142333\n\\item 28.3043744784926\n\\item 22.7151821727979\n\\item 22.8356885681787\n\\item 17.9322169251323\n\\item 17.2127417092344\n\\item 13.424771603646\n\\item 12.1769517463812\n\\item 9.43478903874656\n\\item 7.50337069202745\n\\end{enumerate*}\n",
            "text/plain": [
              "A Time Series:\n",
              " [1] 28.975149 24.535689 25.476952 25.711551 28.304374 22.715182 22.835689\n",
              " [8] 17.932217 17.212742 13.424772 12.176952  9.434789  7.503371"
            ]
          },
          "metadata": {}
        }
      ]
    },
    {
      "cell_type": "code",
      "source": [
        "rmse_model_nn_2 = rmse(training, fit_nn_2)\n",
        "mae_model_nn_2 = mae(training, fit_nn_2)\n",
        "mape_model_nn_2 = mape(training, fit_nn_2)\n",
        "mdae_model_nn_2 = mdae(training, fit_nn_2)\n",
        "\n",
        "eval_model_nn_2 = c(rmse_model_nn_2, mae_model_nn_2, mape_model_nn_2, mdae_model_nn_2)\n",
        "\n",
        "data.frame(eval_names, eval_model_nn_2)"
      ],
      "metadata": {
        "colab": {
          "base_uri": "https://localhost:8080/",
          "height": 223
        },
        "outputId": "bf60c0e9-60c4-49a8-ee95-d2746663e8b4",
        "id": "0f4C8E0bmBiY"
      },
      "execution_count": null,
      "outputs": [
        {
          "output_type": "display_data",
          "data": {
            "text/html": [
              "<table class=\"dataframe\">\n",
              "<caption>A data.frame: 4 × 2</caption>\n",
              "<thead>\n",
              "\t<tr><th scope=col>eval_names</th><th scope=col>eval_model_nn_2</th></tr>\n",
              "\t<tr><th scope=col>&lt;chr&gt;</th><th scope=col>&lt;dbl&gt;</th></tr>\n",
              "</thead>\n",
              "<tbody>\n",
              "\t<tr><td>RMSE</td><td>2.11992774</td></tr>\n",
              "\t<tr><td>MAE </td><td>1.67645115</td></tr>\n",
              "\t<tr><td>MAPE</td><td>0.07764746</td></tr>\n",
              "\t<tr><td>MDAE</td><td>1.51274171</td></tr>\n",
              "</tbody>\n",
              "</table>\n"
            ],
            "text/markdown": "\nA data.frame: 4 × 2\n\n| eval_names &lt;chr&gt; | eval_model_nn_2 &lt;dbl&gt; |\n|---|---|\n| RMSE | 2.11992774 |\n| MAE  | 1.67645115 |\n| MAPE | 0.07764746 |\n| MDAE | 1.51274171 |\n\n",
            "text/latex": "A data.frame: 4 × 2\n\\begin{tabular}{ll}\n eval\\_names & eval\\_model\\_nn\\_2\\\\\n <chr> & <dbl>\\\\\n\\hline\n\t RMSE & 2.11992774\\\\\n\t MAE  & 1.67645115\\\\\n\t MAPE & 0.07764746\\\\\n\t MDAE & 1.51274171\\\\\n\\end{tabular}\n",
            "text/plain": [
              "  eval_names eval_model_nn_2\n",
              "1 RMSE       2.11992774     \n",
              "2 MAE        1.67645115     \n",
              "3 MAPE       0.07764746     \n",
              "4 MDAE       1.51274171     "
            ]
          },
          "metadata": {}
        }
      ]
    },
    {
      "cell_type": "code",
      "source": [
        "predict_values_nn_2 = forecast(model_nn_2, h = length(testing))$mean\n",
        "predict_values_nn_2"
      ],
      "metadata": {
        "colab": {
          "base_uri": "https://localhost:8080/",
          "height": 86
        },
        "outputId": "5539c8a6-3f70-487f-e25e-187efb6a1f81",
        "id": "SLsu7GSemBiZ"
      },
      "execution_count": null,
      "outputs": [
        {
          "output_type": "display_data",
          "data": {
            "text/html": [
              "A Time Series:<br><style>\n",
              ".dl-inline {width: auto; margin:0; padding: 0}\n",
              ".dl-inline>dt, .dl-inline>dd {float: none; width: auto; display: inline-block}\n",
              ".dl-inline>dt::after {content: \":\\0020\"; padding-right: .5ex}\n",
              ".dl-inline>dt:not(:first-of-type) {padding-left: .5ex}\n",
              "</style><dl class=dl-inline><dt>t+1</dt><dd>6.3118234009061</dd><dt>t+2</dt><dd>4.47366027860089</dd><dt>t+3</dt><dd>2.44968763496599</dd><dt>t+4</dt><dd>0.199120886856678</dd><dt>t+5</dt><dd>-1.79224072696264</dd><dt>t+6</dt><dd>-3.82308761454694</dd><dt>t+7</dt><dd>-5.80671271136349</dd><dt>t+8</dt><dd>-7.72342924320064</dd></dl>\n"
            ],
            "text/markdown": "A Time Series:  \nt+1\n:   6.3118234009061t+2\n:   4.47366027860089t+3\n:   2.44968763496599t+4\n:   0.199120886856678t+5\n:   -1.79224072696264t+6\n:   -3.82308761454694t+7\n:   -5.80671271136349t+8\n:   -7.72342924320064\n\n",
            "text/latex": "A Time Series:\\\\\\begin{description*}\n\\item[t+1] 6.3118234009061\n\\item[t+2] 4.47366027860089\n\\item[t+3] 2.44968763496599\n\\item[t+4] 0.199120886856678\n\\item[t+5] -1.79224072696264\n\\item[t+6] -3.82308761454694\n\\item[t+7] -5.80671271136349\n\\item[t+8] -7.72342924320064\n\\end{description*}\n",
            "text/plain": [
              "A Time Series:\n",
              "       t+1        t+2        t+3        t+4        t+5        t+6        t+7 \n",
              " 6.3118234  4.4736603  2.4496876  0.1991209 -1.7922407 -3.8230876 -5.8067127 \n",
              "       t+8 \n",
              "-7.7234292 "
            ]
          },
          "metadata": {}
        }
      ]
    },
    {
      "cell_type": "code",
      "source": [
        "rmse_nn_2 = rmse(testing, predict_values_nn_2)\n",
        "mae_nn_2 = mae(testing, predict_values_nn_2)\n",
        "mape_nn_2 = mape(testing, predict_values_nn_2)\n",
        "mdae_nn_2 = mdae(testing, predict_values_nn_2)\n",
        "\n",
        "eval_nn_2 = c(rmse_nn_2, mae_nn_2, mape_nn_2, mdae_nn_2)\n",
        "\n",
        "data.frame(eval_names, eval_nn_2)"
      ],
      "metadata": {
        "colab": {
          "base_uri": "https://localhost:8080/",
          "height": 223
        },
        "outputId": "02af83ba-0b60-4a22-c3fb-6640eaeae19c",
        "id": "eBbz2fammBiZ"
      },
      "execution_count": null,
      "outputs": [
        {
          "output_type": "display_data",
          "data": {
            "text/html": [
              "<table class=\"dataframe\">\n",
              "<caption>A data.frame: 4 × 2</caption>\n",
              "<thead>\n",
              "\t<tr><th scope=col>eval_names</th><th scope=col>eval_nn_2</th></tr>\n",
              "\t<tr><th scope=col>&lt;chr&gt;</th><th scope=col>&lt;dbl&gt;</th></tr>\n",
              "</thead>\n",
              "<tbody>\n",
              "\t<tr><td>RMSE</td><td>5.903362</td></tr>\n",
              "\t<tr><td>MAE </td><td>5.163897</td></tr>\n",
              "\t<tr><td>MAPE</td><td>1.741662</td></tr>\n",
              "\t<tr><td>MDAE</td><td>4.896560</td></tr>\n",
              "</tbody>\n",
              "</table>\n"
            ],
            "text/markdown": "\nA data.frame: 4 × 2\n\n| eval_names &lt;chr&gt; | eval_nn_2 &lt;dbl&gt; |\n|---|---|\n| RMSE | 5.903362 |\n| MAE  | 5.163897 |\n| MAPE | 1.741662 |\n| MDAE | 4.896560 |\n\n",
            "text/latex": "A data.frame: 4 × 2\n\\begin{tabular}{ll}\n eval\\_names & eval\\_nn\\_2\\\\\n <chr> & <dbl>\\\\\n\\hline\n\t RMSE & 5.903362\\\\\n\t MAE  & 5.163897\\\\\n\t MAPE & 1.741662\\\\\n\t MDAE & 4.896560\\\\\n\\end{tabular}\n",
            "text/plain": [
              "  eval_names eval_nn_2\n",
              "1 RMSE       5.903362 \n",
              "2 MAE        5.163897 \n",
              "3 MAPE       1.741662 \n",
              "4 MDAE       4.896560 "
            ]
          },
          "metadata": {}
        }
      ]
    },
    {
      "cell_type": "code",
      "source": [
        "forecast_nn_2 = tail(forecast(model_nn_2, h = length(testing))$mean, 1)\n",
        "forecast_nn_2"
      ],
      "metadata": {
        "colab": {
          "base_uri": "https://localhost:8080/",
          "height": 52
        },
        "outputId": "ac0ff16a-3081-439e-d770-80b7eb87c8a3",
        "id": "Ipr215UamBia"
      },
      "execution_count": null,
      "outputs": [
        {
          "output_type": "display_data",
          "data": {
            "text/html": [
              "A Time Series:<br>-7.72342924320064"
            ],
            "text/markdown": "A Time Series:  \n-7.72342924320064",
            "text/latex": "A Time Series:\\\\-7.72342924320064",
            "text/plain": [
              "A Time Series:\n",
              "[1] -7.723429"
            ]
          },
          "metadata": {}
        }
      ]
    },
    {
      "cell_type": "markdown",
      "source": [
        "##### Model 3 (5, 2)"
      ],
      "metadata": {
        "id": "Y3FRRypAmyrg"
      }
    },
    {
      "cell_type": "code",
      "source": [
        "model_nn_3 = mlp(y = training, hd = c(5, 2))\n",
        "model_nn_3"
      ],
      "metadata": {
        "colab": {
          "base_uri": "https://localhost:8080/",
          "height": 104
        },
        "outputId": "8a628d13-702e-4c1f-fc86-8c89af8447bd",
        "id": "xaVN9XIzm1Vt"
      },
      "execution_count": null,
      "outputs": [
        {
          "output_type": "display_data",
          "data": {
            "text/plain": [
              "MLP fit with (5,2) hidden nodes and 20 repetitions.\n",
              "Series modelled in differences: D1.\n",
              "Univariate lags: (4)\n",
              "Forecast combined using the median operator.\n",
              "MSE: 4.635."
            ]
          },
          "metadata": {}
        }
      ]
    },
    {
      "cell_type": "code",
      "source": [
        "fit_nn_3 = model_nn_3$fitted\n",
        "fit_nn_3"
      ],
      "metadata": {
        "colab": {
          "base_uri": "https://localhost:8080/",
          "height": 104
        },
        "outputId": "ac2cd522-0196-471e-e1f5-5c3993f982bf",
        "id": "qTdCz--Qm1Vv"
      },
      "execution_count": null,
      "outputs": [
        {
          "output_type": "display_data",
          "data": {
            "text/html": [
              "A Time Series:<br><style>\n",
              ".list-inline {list-style: none; margin:0; padding: 0}\n",
              ".list-inline>li {display: inline-block}\n",
              ".list-inline>li:not(:last-child)::after {content: \"\\00b7\"; padding: 0 .5ex}\n",
              "</style>\n",
              "<ol class=list-inline><li>28.7072702660334</li><li>24.6066333568632</li><li>25.5005237711619</li><li>25.4370682436814</li><li>28.3314808379896</li><li>22.6943279012462</li><li>22.9066333568632</li><li>17.779552834526</li><li>17.2288801622999</li><li>13.4569133625427</li><li>12.2005237711619</li><li>9.45350596626337</li><li>7.53780999737478</li></ol>\n"
            ],
            "text/markdown": "A Time Series:  \n1. 28.7072702660334\n2. 24.6066333568632\n3. 25.5005237711619\n4. 25.4370682436814\n5. 28.3314808379896\n6. 22.6943279012462\n7. 22.9066333568632\n8. 17.779552834526\n9. 17.2288801622999\n10. 13.4569133625427\n11. 12.2005237711619\n12. 9.45350596626337\n13. 7.53780999737478\n\n\n",
            "text/latex": "A Time Series:\\\\\\begin{enumerate*}\n\\item 28.7072702660334\n\\item 24.6066333568632\n\\item 25.5005237711619\n\\item 25.4370682436814\n\\item 28.3314808379896\n\\item 22.6943279012462\n\\item 22.9066333568632\n\\item 17.779552834526\n\\item 17.2288801622999\n\\item 13.4569133625427\n\\item 12.2005237711619\n\\item 9.45350596626337\n\\item 7.53780999737478\n\\end{enumerate*}\n",
            "text/plain": [
              "A Time Series:\n",
              " [1] 28.707270 24.606633 25.500524 25.437068 28.331481 22.694328 22.906633\n",
              " [8] 17.779553 17.228880 13.456913 12.200524  9.453506  7.537810"
            ]
          },
          "metadata": {}
        }
      ]
    },
    {
      "cell_type": "code",
      "source": [
        "rmse_model_nn_3 = rmse(training, fit_nn_3)\n",
        "mae_model_nn_3 = mae(training, fit_nn_3)\n",
        "mape_model_nn_3 = mape(training, fit_nn_3)\n",
        "mdae_model_nn_3 = mdae(training, fit_nn_3)\n",
        "\n",
        "eval_model_nn_3 = c(rmse_model_nn_3, mae_model_nn_3, mape_model_nn_3, mdae_model_nn_3)\n",
        "\n",
        "data.frame(eval_names, eval_model_nn_3)"
      ],
      "metadata": {
        "colab": {
          "base_uri": "https://localhost:8080/",
          "height": 223
        },
        "outputId": "0fe6caf8-51ff-498e-a44c-4c701d9883c5",
        "id": "zQ0XOuQrm1Vw"
      },
      "execution_count": null,
      "outputs": [
        {
          "output_type": "display_data",
          "data": {
            "text/html": [
              "<table class=\"dataframe\">\n",
              "<caption>A data.frame: 4 × 2</caption>\n",
              "<thead>\n",
              "\t<tr><th scope=col>eval_names</th><th scope=col>eval_model_nn_3</th></tr>\n",
              "\t<tr><th scope=col>&lt;chr&gt;</th><th scope=col>&lt;dbl&gt;</th></tr>\n",
              "</thead>\n",
              "<tbody>\n",
              "\t<tr><td>RMSE</td><td>2.15291622</td></tr>\n",
              "\t<tr><td>MAE </td><td>1.69357788</td></tr>\n",
              "\t<tr><td>MAPE</td><td>0.07837392</td></tr>\n",
              "\t<tr><td>MDAE</td><td>1.52888016</td></tr>\n",
              "</tbody>\n",
              "</table>\n"
            ],
            "text/markdown": "\nA data.frame: 4 × 2\n\n| eval_names &lt;chr&gt; | eval_model_nn_3 &lt;dbl&gt; |\n|---|---|\n| RMSE | 2.15291622 |\n| MAE  | 1.69357788 |\n| MAPE | 0.07837392 |\n| MDAE | 1.52888016 |\n\n",
            "text/latex": "A data.frame: 4 × 2\n\\begin{tabular}{ll}\n eval\\_names & eval\\_model\\_nn\\_3\\\\\n <chr> & <dbl>\\\\\n\\hline\n\t RMSE & 2.15291622\\\\\n\t MAE  & 1.69357788\\\\\n\t MAPE & 0.07837392\\\\\n\t MDAE & 1.52888016\\\\\n\\end{tabular}\n",
            "text/plain": [
              "  eval_names eval_model_nn_3\n",
              "1 RMSE       2.15291622     \n",
              "2 MAE        1.69357788     \n",
              "3 MAPE       0.07837392     \n",
              "4 MDAE       1.52888016     "
            ]
          },
          "metadata": {}
        }
      ]
    },
    {
      "cell_type": "code",
      "source": [
        "predict_values_nn_3 = forecast(model_nn_3, h = length(testing))$mean\n",
        "predict_values_nn_3"
      ],
      "metadata": {
        "colab": {
          "base_uri": "https://localhost:8080/",
          "height": 86
        },
        "outputId": "ffb7977d-eccb-4ffc-dd6b-96056ce8c923",
        "id": "V3T4UWXtm1Vw"
      },
      "execution_count": null,
      "outputs": [
        {
          "output_type": "display_data",
          "data": {
            "text/html": [
              "A Time Series:<br><style>\n",
              ".dl-inline {width: auto; margin:0; padding: 0}\n",
              ".dl-inline>dt, .dl-inline>dd {float: none; width: auto; display: inline-block}\n",
              ".dl-inline>dt::after {content: \":\\0020\"; padding-right: .5ex}\n",
              ".dl-inline>dt:not(:first-of-type) {padding-left: .5ex}\n",
              "</style><dl class=dl-inline><dt>t+1</dt><dd>6.42172570615885</dd><dt>t+2</dt><dd>4.65408221708144</dd><dt>t+3</dt><dd>2.75381254040474</dd><dt>t+4</dt><dd>0.657754687604438</dd><dt>t+5</dt><dd>-1.2473754283915</dd><dt>t+6</dt><dd>-3.17760126069065</dd><dt>t+7</dt><dd>-5.0777329220961</dd><dt>t+8</dt><dd>-6.93324722822387</dd></dl>\n"
            ],
            "text/markdown": "A Time Series:  \nt+1\n:   6.42172570615885t+2\n:   4.65408221708144t+3\n:   2.75381254040474t+4\n:   0.657754687604438t+5\n:   -1.2473754283915t+6\n:   -3.17760126069065t+7\n:   -5.0777329220961t+8\n:   -6.93324722822387\n\n",
            "text/latex": "A Time Series:\\\\\\begin{description*}\n\\item[t+1] 6.42172570615885\n\\item[t+2] 4.65408221708144\n\\item[t+3] 2.75381254040474\n\\item[t+4] 0.657754687604438\n\\item[t+5] -1.2473754283915\n\\item[t+6] -3.17760126069065\n\\item[t+7] -5.0777329220961\n\\item[t+8] -6.93324722822387\n\\end{description*}\n",
            "text/plain": [
              "A Time Series:\n",
              "       t+1        t+2        t+3        t+4        t+5        t+6        t+7 \n",
              " 6.4217257  4.6540822  2.7538125  0.6577547 -1.2473754 -3.1776013 -5.0777329 \n",
              "       t+8 \n",
              "-6.9332472 "
            ]
          },
          "metadata": {}
        }
      ]
    },
    {
      "cell_type": "code",
      "source": [
        "rmse_nn_3 = rmse(testing, predict_values_nn_3)\n",
        "mae_nn_3 = mae(testing, predict_values_nn_3)\n",
        "mape_nn_3 = mape(testing, predict_values_nn_3)\n",
        "mdae_nn_3 = mdae(testing, predict_values_nn_3)\n",
        "\n",
        "eval_nn_3 = c(rmse_nn_3, mae_nn_3, mape_nn_3, mdae_nn_3)\n",
        "\n",
        "data.frame(eval_names, eval_nn_3)"
      ],
      "metadata": {
        "colab": {
          "base_uri": "https://localhost:8080/",
          "height": 223
        },
        "outputId": "3cc8443f-6a5a-446e-ba75-74939566a5c2",
        "id": "0-j6-bM6m1Vx"
      },
      "execution_count": null,
      "outputs": [
        {
          "output_type": "display_data",
          "data": {
            "text/html": [
              "<table class=\"dataframe\">\n",
              "<caption>A data.frame: 4 × 2</caption>\n",
              "<thead>\n",
              "\t<tr><th scope=col>eval_names</th><th scope=col>eval_nn_3</th></tr>\n",
              "\t<tr><th scope=col>&lt;chr&gt;</th><th scope=col>&lt;dbl&gt;</th></tr>\n",
              "</thead>\n",
              "<tbody>\n",
              "\t<tr><td>RMSE</td><td>5.379017</td></tr>\n",
              "\t<tr><td>MAE </td><td>4.693573</td></tr>\n",
              "\t<tr><td>MAPE</td><td>1.586933</td></tr>\n",
              "\t<tr><td>MDAE</td><td>4.394810</td></tr>\n",
              "</tbody>\n",
              "</table>\n"
            ],
            "text/markdown": "\nA data.frame: 4 × 2\n\n| eval_names &lt;chr&gt; | eval_nn_3 &lt;dbl&gt; |\n|---|---|\n| RMSE | 5.379017 |\n| MAE  | 4.693573 |\n| MAPE | 1.586933 |\n| MDAE | 4.394810 |\n\n",
            "text/latex": "A data.frame: 4 × 2\n\\begin{tabular}{ll}\n eval\\_names & eval\\_nn\\_3\\\\\n <chr> & <dbl>\\\\\n\\hline\n\t RMSE & 5.379017\\\\\n\t MAE  & 4.693573\\\\\n\t MAPE & 1.586933\\\\\n\t MDAE & 4.394810\\\\\n\\end{tabular}\n",
            "text/plain": [
              "  eval_names eval_nn_3\n",
              "1 RMSE       5.379017 \n",
              "2 MAE        4.693573 \n",
              "3 MAPE       1.586933 \n",
              "4 MDAE       4.394810 "
            ]
          },
          "metadata": {}
        }
      ]
    },
    {
      "cell_type": "code",
      "source": [
        "forecast_nn_3 = tail(forecast(model_nn_3, h = length(testing))$mean, 1)\n",
        "forecast_nn_3"
      ],
      "metadata": {
        "colab": {
          "base_uri": "https://localhost:8080/",
          "height": 52
        },
        "outputId": "184c33f6-27c5-477e-8953-02557e9fd5d6",
        "id": "Ud-4JwYPm1Vy"
      },
      "execution_count": null,
      "outputs": [
        {
          "output_type": "display_data",
          "data": {
            "text/html": [
              "A Time Series:<br>-6.93324722822387"
            ],
            "text/markdown": "A Time Series:  \n-6.93324722822387",
            "text/latex": "A Time Series:\\\\-6.93324722822387",
            "text/plain": [
              "A Time Series:\n",
              "[1] -6.933247"
            ]
          },
          "metadata": {}
        }
      ]
    }
  ],
  "metadata": {
    "accelerator": "GPU",
    "colab": {
      "collapsed_sections": [
        "eRAswnSmOKH-",
        "9RAB9XzmOR2_",
        "pIT_NbyikI-H",
        "HbgC925zrYxb",
        "0qINI2uOpzwr",
        "1qkw4s7zkMLz",
        "ZzYPAdhrSPLx",
        "fKfNfqiUkVDy",
        "Ql5F4P46fUJ4",
        "EunbGB22aPGP",
        "1VfuKQDBa_IX",
        "_z1qaJ6ENpgB",
        "S8v2Du_E_Jvr",
        "6FNojIco_TMy",
        "Gti3uDij_Y3O",
        "y77SaihMiu_o"
      ],
      "gpuType": "T4",
      "provenance": [],
      "include_colab_link": true
    },
    "kernelspec": {
      "display_name": "R",
      "name": "ir"
    },
    "language_info": {
      "name": "R"
    }
  },
  "nbformat": 4,
  "nbformat_minor": 0
}